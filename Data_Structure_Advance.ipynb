{
  "nbformat": 4,
  "nbformat_minor": 0,
  "metadata": {
    "colab": {
      "provenance": []
    },
    "kernelspec": {
      "name": "python3",
      "display_name": "Python 3"
    },
    "language_info": {
      "name": "python"
    }
  },
  "cells": [
    {
      "cell_type": "markdown",
      "source": [
        "**1.Write a code to reverse a string?**"
      ],
      "metadata": {
        "id": "R68kO24inrt0"
      }
    },
    {
      "cell_type": "code",
      "source": [
        "def reverse_string(s):\n",
        "    return s[::-1]\n",
        "\n",
        "# Example usage\n",
        "input_string = \"Hello, world!\"\n",
        "reversed_string = reverse_string(input_string)\n",
        "print(\"Reversed string:\", reversed_string)"
      ],
      "metadata": {
        "colab": {
          "base_uri": "https://localhost:8080/"
        },
        "id": "hLx3AYKDn_TD",
        "outputId": "c66fd5a8-923d-48fc-e486-b70c5edfdd87"
      },
      "execution_count": 1,
      "outputs": [
        {
          "output_type": "stream",
          "name": "stdout",
          "text": [
            "Reversed string: !dlrow ,olleH\n"
          ]
        }
      ]
    },
    {
      "cell_type": "markdown",
      "source": [
        "**2.Write a code to count the number of vowels in a string**"
      ],
      "metadata": {
        "id": "sHrHNwPBoGVE"
      }
    },
    {
      "cell_type": "code",
      "source": [
        "def count_vowels(s):\n",
        "    vowels = \"aeiouAEIOU\"\n",
        "    count = 0\n",
        "    for char in s:\n",
        "        if char in vowels:\n",
        "            count += 1\n",
        "    return count\n",
        "\n",
        "# Example usage\n",
        "input_string = \"Hello, world!\"\n",
        "vowel_count = count_vowels(input_string)\n",
        "print(\"Number of vowels:\", vowel_count)"
      ],
      "metadata": {
        "colab": {
          "base_uri": "https://localhost:8080/"
        },
        "id": "d6WpHoIgob4D",
        "outputId": "4f21801e-cfc6-480d-c3dd-09e6c0c8ed04"
      },
      "execution_count": 2,
      "outputs": [
        {
          "output_type": "stream",
          "name": "stdout",
          "text": [
            "Number of vowels: 3\n"
          ]
        }
      ]
    },
    {
      "cell_type": "markdown",
      "source": [
        "**3.Write a code to check if a given string is a palindrome or not**"
      ],
      "metadata": {
        "id": "fz_C8fuAodrj"
      }
    },
    {
      "cell_type": "code",
      "source": [
        "def is_palindrome(s):\n",
        "    # Remove spaces and convert to lowercase for accurate comparison\n",
        "    cleaned = ''.join(c.lower() for c in s if c.isalnum())\n",
        "    return cleaned == cleaned[::-1]\n",
        "\n",
        "# Example usage\n",
        "input_string = \"A man, a plan, a canal: Panama\"\n",
        "if is_palindrome(input_string):\n",
        "    print(\"The string is a palindrome.\")\n",
        "else:\n",
        "    print(\"The string is not a palindrome.\")"
      ],
      "metadata": {
        "colab": {
          "base_uri": "https://localhost:8080/"
        },
        "id": "OfmnqZsvokUj",
        "outputId": "6caec473-fd5d-4bbd-8da3-f1bd87000afc"
      },
      "execution_count": 3,
      "outputs": [
        {
          "output_type": "stream",
          "name": "stdout",
          "text": [
            "The string is a palindrome.\n"
          ]
        }
      ]
    },
    {
      "cell_type": "markdown",
      "source": [
        "**4.Write a code to check if two given strings are anagrams of each other**"
      ],
      "metadata": {
        "id": "qnJc3ncDorI0"
      }
    },
    {
      "cell_type": "code",
      "source": [
        "def are_anagrams(s1, s2):\n",
        "    # Remove spaces and convert to lowercase\n",
        "    s1_clean = ''.join(sorted(c.lower() for c in s1 if c.isalnum()))\n",
        "    s2_clean = ''.join(sorted(c.lower() for c in s2 if c.isalnum()))\n",
        "    return s1_clean == s2_clean\n",
        "\n",
        "# Example usage\n",
        "string1 = \"Listen\"\n",
        "string2 = \"Silent\"\n",
        "\n",
        "if are_anagrams(string1, string2):\n",
        "    print(\"The strings are anagrams.\")\n",
        "else:\n",
        "    print(\"The strings are not anagrams.\")"
      ],
      "metadata": {
        "colab": {
          "base_uri": "https://localhost:8080/"
        },
        "id": "Ymswmrp-o0Ir",
        "outputId": "67610148-3711-4178-878e-a9aae6cf5187"
      },
      "execution_count": 4,
      "outputs": [
        {
          "output_type": "stream",
          "name": "stdout",
          "text": [
            "The strings are anagrams.\n"
          ]
        }
      ]
    },
    {
      "cell_type": "markdown",
      "source": [
        "**5.Write a code to find all occurrences of a given substring within another string**"
      ],
      "metadata": {
        "id": "FXHndMoWo447"
      }
    },
    {
      "cell_type": "code",
      "source": [
        "def find_all_occurrences(text, substring):\n",
        "    indices = []\n",
        "    index = text.find(substring)\n",
        "    while index != -1:\n",
        "        indices.append(index)\n",
        "        index = text.find(substring, index + 1)\n",
        "    return indices\n",
        "\n",
        "# Example usage\n",
        "main_string = \"This is a test. This test is simple.\"\n",
        "sub_string = \"test\"\n",
        "\n",
        "occurrences = find_all_occurrences(main_string, sub_string)\n",
        "print(\"Occurrences at indices:\", occurrences)"
      ],
      "metadata": {
        "colab": {
          "base_uri": "https://localhost:8080/"
        },
        "id": "GiGjeZDppE4T",
        "outputId": "5b5a0985-bc7e-4417-ffb9-3799f81d9a99"
      },
      "execution_count": 5,
      "outputs": [
        {
          "output_type": "stream",
          "name": "stdout",
          "text": [
            "Occurrences at indices: [10, 21]\n"
          ]
        }
      ]
    },
    {
      "cell_type": "markdown",
      "source": [
        "**6.Write a code to perform basic string compression using the counts of repeated characters**"
      ],
      "metadata": {
        "id": "-9BB8kN6pIeL"
      }
    },
    {
      "cell_type": "code",
      "source": [
        "def compress_string(s):\n",
        "    if not s:\n",
        "        return \"\"\n",
        "\n",
        "    compressed = []\n",
        "    count = 1\n",
        "\n",
        "    for i in range(1, len(s)):\n",
        "        if s[i] == s[i - 1]:\n",
        "            count += 1\n",
        "        else:\n",
        "            compressed.append(s[i - 1] + str(count))\n",
        "            count = 1\n",
        "    # Append the last repeated character\n",
        "    compressed.append(s[-1] + str(count))\n",
        "\n",
        "    compressed_str = ''.join(compressed)\n",
        "\n",
        "    # Return the compressed string only if it's shorter than the original\n",
        "    return compressed_str if len(compressed_str) < len(s) else s\n",
        "\n",
        "# Example usage\n",
        "input_string = \"aabcccccaaa\"\n",
        "print(\"Compressed string:\", compress_string(input_string))"
      ],
      "metadata": {
        "colab": {
          "base_uri": "https://localhost:8080/"
        },
        "id": "WdqoEDbbpQac",
        "outputId": "8cb63935-3213-42e5-a961-371640ef8844"
      },
      "execution_count": 6,
      "outputs": [
        {
          "output_type": "stream",
          "name": "stdout",
          "text": [
            "Compressed string: a2b1c5a3\n"
          ]
        }
      ]
    },
    {
      "cell_type": "markdown",
      "source": [
        "**7.Write a code to determine if a string has all unique characters**"
      ],
      "metadata": {
        "id": "SlIEHM77pYE7"
      }
    },
    {
      "cell_type": "code",
      "source": [
        "def has_all_unique_characters(s):\n",
        "    seen = set()\n",
        "    for char in s:\n",
        "        if char in seen:\n",
        "            return False\n",
        "        seen.add(char)\n",
        "    return True\n",
        "\n",
        "# Example usage\n",
        "input_string = \"abcdefg\"\n",
        "if has_all_unique_characters(input_string):\n",
        "    print(\"The string has all unique characters.\")\n",
        "else:\n",
        "    print(\"The string has duplicate characters.\")"
      ],
      "metadata": {
        "colab": {
          "base_uri": "https://localhost:8080/"
        },
        "id": "FNsPixhkpd00",
        "outputId": "a47a6320-29b6-4434-cb91-3f64ded3702e"
      },
      "execution_count": 7,
      "outputs": [
        {
          "output_type": "stream",
          "name": "stdout",
          "text": [
            "The string has all unique characters.\n"
          ]
        }
      ]
    },
    {
      "cell_type": "markdown",
      "source": [
        "**8.Write a code to convert a given string to uppercase or lowercase**"
      ],
      "metadata": {
        "id": "pxC28AxiplCT"
      }
    },
    {
      "cell_type": "code",
      "source": [
        "def convert_case(s, to_upper=True):\n",
        "    if to_upper:\n",
        "        return s.upper()\n",
        "    else:\n",
        "        return s.lower()\n",
        "\n",
        "# Example usage\n",
        "input_string = \"Hello, World!\"\n",
        "\n",
        "uppercase = convert_case(input_string, to_upper=True)\n",
        "lowercase = convert_case(input_string, to_upper=False)\n",
        "\n",
        "print(\"Uppercase:\", uppercase)\n",
        "print(\"Lowercase:\", lowercase)"
      ],
      "metadata": {
        "colab": {
          "base_uri": "https://localhost:8080/"
        },
        "id": "k5c0dcSbpqUb",
        "outputId": "8605f665-ba4c-4fba-90ab-4ffd3be91076"
      },
      "execution_count": 8,
      "outputs": [
        {
          "output_type": "stream",
          "name": "stdout",
          "text": [
            "Uppercase: HELLO, WORLD!\n",
            "Lowercase: hello, world!\n"
          ]
        }
      ]
    },
    {
      "cell_type": "markdown",
      "source": [
        "**9.Write a code to count the number of words in a string**"
      ],
      "metadata": {
        "id": "9frH4tSIpxCW"
      }
    },
    {
      "cell_type": "code",
      "source": [
        "def count_words(s):\n",
        "    # Split the string by whitespace and filter out empty strings\n",
        "    words = s.split()\n",
        "    return len(words)\n",
        "\n",
        "# Example usage\n",
        "input_string = \"  This is   a sample sentence with   extra spaces.  \"\n",
        "word_count = count_words(input_string)\n",
        "print(\"Number of words:\", word_count)"
      ],
      "metadata": {
        "colab": {
          "base_uri": "https://localhost:8080/"
        },
        "id": "eiwlWSVKp1fc",
        "outputId": "d7c56f58-52e0-4db2-ad72-93b5c40b8f51"
      },
      "execution_count": 9,
      "outputs": [
        {
          "output_type": "stream",
          "name": "stdout",
          "text": [
            "Number of words: 8\n"
          ]
        }
      ]
    },
    {
      "cell_type": "markdown",
      "source": [
        "**10.Write a code to concatenate two strings without using the + operator**"
      ],
      "metadata": {
        "id": "hj6-rWKvp8az"
      }
    },
    {
      "cell_type": "code",
      "source": [
        "def concatenate_strings(s1, s2):\n",
        "    return ''.join([s1, s2])\n",
        "\n",
        "# Example usage\n",
        "string1 = \"Hello\"\n",
        "string2 = \"World\"\n",
        "result = concatenate_strings(string1, string2)\n",
        "print(\"Concatenated string:\", result)\n"
      ],
      "metadata": {
        "colab": {
          "base_uri": "https://localhost:8080/"
        },
        "id": "0iGNH9ePqBxD",
        "outputId": "c3faacdd-17d5-4679-e4dd-66f72cfe748a"
      },
      "execution_count": 10,
      "outputs": [
        {
          "output_type": "stream",
          "name": "stdout",
          "text": [
            "Concatenated string: HelloWorld\n"
          ]
        }
      ]
    },
    {
      "cell_type": "code",
      "source": [
        "def concatenate_strings_format(s1, s2):\n",
        "    return \"{}{}\".format(s1, s2)\n",
        "\n",
        "print(\"Concatenated string (format):\", concatenate_strings_format(\"Foo\", \"Bar\"))"
      ],
      "metadata": {
        "colab": {
          "base_uri": "https://localhost:8080/"
        },
        "id": "EIf7WQWmqJmT",
        "outputId": "64be8854-3e4c-4c35-9e67-a635192a879a"
      },
      "execution_count": 11,
      "outputs": [
        {
          "output_type": "stream",
          "name": "stdout",
          "text": [
            "Concatenated string (format): FooBar\n"
          ]
        }
      ]
    },
    {
      "cell_type": "markdown",
      "source": [
        "**11.Write a code to remove all occurrences of a specific element from a list**"
      ],
      "metadata": {
        "id": "DFYEoGrwqN7D"
      }
    },
    {
      "cell_type": "code",
      "source": [
        "def remove_element(lst, element):\n",
        "    # Use list comprehension to filter out all occurrences of the element\n",
        "    return [x for x in lst if x != element]\n",
        "\n",
        "# Example usage\n",
        "input_list = [1, 2, 3, 4, 2, 5, 2]\n",
        "element_to_remove = 2\n",
        "\n",
        "result = remove_element(input_list, element_to_remove)\n",
        "print(\"Updated list:\", result)\n"
      ],
      "metadata": {
        "colab": {
          "base_uri": "https://localhost:8080/"
        },
        "id": "gyhRzpY2qRZE",
        "outputId": "03759b75-2ab0-41d6-ce2a-2d81c4a5b749"
      },
      "execution_count": 12,
      "outputs": [
        {
          "output_type": "stream",
          "name": "stdout",
          "text": [
            "Updated list: [1, 3, 4, 5]\n"
          ]
        }
      ]
    },
    {
      "cell_type": "markdown",
      "source": [
        "**12. Implement a code to find the second largest number in a given list of integers**"
      ],
      "metadata": {
        "id": "5kVJvowdqXM8"
      }
    },
    {
      "cell_type": "code",
      "source": [
        "def second_largest(lst):\n",
        "    # Remove duplicates by converting to a set, then sort in descending order\n",
        "    unique_lst = list(set(lst))\n",
        "    unique_lst.sort(reverse=True)\n",
        "\n",
        "    if len(unique_lst) < 2:\n",
        "        return None  # If there's no second largest\n",
        "    else:\n",
        "        return unique_lst[1]\n",
        "\n",
        "# Example usage\n",
        "input_list = [10, 20, 4, 45, 99, 99]\n",
        "result = second_largest(input_list)\n",
        "print(\"Second largest number:\", result)\n"
      ],
      "metadata": {
        "colab": {
          "base_uri": "https://localhost:8080/"
        },
        "id": "Tr5gDKflqbXj",
        "outputId": "e02240b8-b74f-4d6d-c0cf-93460b9ddab0"
      },
      "execution_count": 13,
      "outputs": [
        {
          "output_type": "stream",
          "name": "stdout",
          "text": [
            "Second largest number: 45\n"
          ]
        }
      ]
    },
    {
      "cell_type": "markdown",
      "source": [
        "**13.Create a code to count the occurrences of each element in a list and return a dictionary with elements as\n",
        "keys and their counts as values**"
      ],
      "metadata": {
        "id": "G6lU98m7qfXj"
      }
    },
    {
      "cell_type": "code",
      "source": [
        "def count_occurrences(lst):\n",
        "    # Create an empty dictionary to store counts\n",
        "    count_dict = {}\n",
        "\n",
        "    # Iterate through the list and count each element\n",
        "    for element in lst:\n",
        "        if element in count_dict:\n",
        "            count_dict[element] += 1\n",
        "        else:\n",
        "            count_dict[element] = 1\n",
        "\n",
        "    return count_dict\n",
        "\n",
        "# Example usage\n",
        "input_list = [1, 2, 2, 3, 4, 4, 4, 5]\n",
        "result = count_occurrences(input_list)"
      ],
      "metadata": {
        "id": "zlR9-1NFqkIr"
      },
      "execution_count": 15,
      "outputs": []
    },
    {
      "cell_type": "markdown",
      "source": [
        "**14.Write a code to reverse a list in-place without using any built-in reverse functions**"
      ],
      "metadata": {
        "id": "v1FZk--uqvxD"
      }
    },
    {
      "cell_type": "code",
      "source": [
        "def reverse_list(lst):\n",
        "    # Initialize two pointers: one at the start and one at the end\n",
        "    start, end = 0, len(lst) - 1\n",
        "\n",
        "    # Swap the elements until the pointers meet in the middle\n",
        "    while start < end:\n",
        "        lst[start], lst[end] = lst[end], lst[start]\n",
        "        start += 1\n",
        "        end -= 1\n",
        "\n",
        "    return lst\n",
        "\n",
        "# Example usage\n",
        "input_list = [1, 2, 3, 4, 5]\n",
        "reverse_list(input_list)\n",
        "print(\"Reversed list:\", input_list)"
      ],
      "metadata": {
        "colab": {
          "base_uri": "https://localhost:8080/"
        },
        "id": "K_MAa2oRqysT",
        "outputId": "81f2650b-4255-4a50-dae5-10ee3df1e57f"
      },
      "execution_count": 16,
      "outputs": [
        {
          "output_type": "stream",
          "name": "stdout",
          "text": [
            "Reversed list: [5, 4, 3, 2, 1]\n"
          ]
        }
      ]
    },
    {
      "cell_type": "markdown",
      "source": [
        "**15.Implement a code to find and remove duplicates from a list while preserving the original order of\n",
        "elements**"
      ],
      "metadata": {
        "id": "dPT62gEhq347"
      }
    },
    {
      "cell_type": "code",
      "source": [
        "def remove_duplicates(lst):\n",
        "    seen = set()  # A set to track seen elements\n",
        "    result = []   # List to store the final list without duplicates\n",
        "\n",
        "    for element in lst:\n",
        "        if element not in seen:\n",
        "            result.append(element)\n",
        "            seen.add(element)\n",
        "\n",
        "    return result\n",
        "\n",
        "# Example usage\n",
        "input_list = [1, 2, 2, 3, 4, 4, 5]\n",
        "result = remove_duplicates(input_list)\n",
        "print(\"List without duplicates:\", result)"
      ],
      "metadata": {
        "colab": {
          "base_uri": "https://localhost:8080/"
        },
        "id": "S1H-cBnQq73r",
        "outputId": "30db15b1-a853-4be8-86c8-166e10966fc2"
      },
      "execution_count": 17,
      "outputs": [
        {
          "output_type": "stream",
          "name": "stdout",
          "text": [
            "List without duplicates: [1, 2, 3, 4, 5]\n"
          ]
        }
      ]
    },
    {
      "cell_type": "markdown",
      "source": [
        "**16.Create a code to check if a given list is sorted (either in ascending or descending order) or not**"
      ],
      "metadata": {
        "id": "M6WU7qWsrBLz"
      }
    },
    {
      "cell_type": "code",
      "source": [
        "def is_sorted(lst):\n",
        "    # Check if the list is sorted in ascending order\n",
        "    if lst == sorted(lst):\n",
        "        return \"Ascending\"\n",
        "    # Check if the list is sorted in descending order\n",
        "    elif lst == sorted(lst, reverse=True):\n",
        "        return \"Descending\"\n",
        "    else:\n",
        "        return \"Not Sorted\"\n",
        "\n",
        "# Example usage\n",
        "input_list = [1, 2, 3, 4, 5]\n",
        "result = is_sorted(input_list)\n",
        "print(\"The list is:\", result)\n",
        "\n",
        "input_list = [5, 4, 3, 2, 1]\n",
        "result = is_sorted(input_list)\n",
        "print(\"The list is:\", result)\n",
        "\n",
        "input_list = [1, 3, 2, 4, 5]\n",
        "result = is_sorted(input_list)\n",
        "print(\"The list is:\", result)"
      ],
      "metadata": {
        "colab": {
          "base_uri": "https://localhost:8080/"
        },
        "id": "vOfZs4_grFMb",
        "outputId": "570c4657-a16c-4626-d81e-6149dfabb3de"
      },
      "execution_count": 18,
      "outputs": [
        {
          "output_type": "stream",
          "name": "stdout",
          "text": [
            "The list is: Ascending\n",
            "The list is: Descending\n",
            "The list is: Not Sorted\n"
          ]
        }
      ]
    },
    {
      "cell_type": "markdown",
      "source": [
        "**17.Write a code to merge two sorted lists into a single sorted list**"
      ],
      "metadata": {
        "id": "UfzxNMaerKwC"
      }
    },
    {
      "cell_type": "code",
      "source": [
        "def merge_sorted_lists(list1, list2):\n",
        "    # Initialize pointers for both lists and an empty result list\n",
        "    i, j = 0, 0\n",
        "    merged_list = []\n",
        "\n",
        "    # Compare elements from both lists and add the smaller one to the merged list\n",
        "    while i < len(list1) and j < len(list2):\n",
        "        if list1[i] < list2[j]:\n",
        "            merged_list.append(list1[i])\n",
        "            i += 1\n",
        "        else:\n",
        "            merged_list.append(list2[j])\n",
        "            j += 1\n",
        "\n",
        "    # If there are remaining elements in list1\n",
        "    while i < len(list1):\n",
        "        merged_list.append(list1[i])\n",
        "        i += 1\n",
        "\n",
        "    # If there are remaining elements in list2\n",
        "    while j < len(list2):\n",
        "        merged_list.append(list2[j])\n",
        "        j += 1\n",
        "\n",
        "    return merged_list\n",
        "\n",
        "# Example usage\n",
        "list1 = [1, 3, 5, 7]\n",
        "list2 = [2, 4, 6, 8]\n",
        "result = merge_sorted_lists(list1, list2)\n",
        "print(\"Merged sorted list:\", result)\n"
      ],
      "metadata": {
        "colab": {
          "base_uri": "https://localhost:8080/"
        },
        "id": "O5yVClDbrPuL",
        "outputId": "27608371-3f46-4ef7-b834-3ea355cc4b6a"
      },
      "execution_count": 19,
      "outputs": [
        {
          "output_type": "stream",
          "name": "stdout",
          "text": [
            "Merged sorted list: [1, 2, 3, 4, 5, 6, 7, 8]\n"
          ]
        }
      ]
    },
    {
      "cell_type": "markdown",
      "source": [
        "**18. Implement a code to find the intersection of two given lists**"
      ],
      "metadata": {
        "id": "yvqnq8OrrUfb"
      }
    },
    {
      "cell_type": "code",
      "source": [
        "def intersection_of_lists(list1, list2):\n",
        "    # Convert both lists to sets and find the intersection\n",
        "    return list(set(list1) & set(list2))\n",
        "\n",
        "# Example usage\n",
        "list1 = [1, 2, 3, 4, 5]\n",
        "list2 = [4, 5, 6, 7, 8]\n",
        "result = intersection_of_lists(list1, list2)\n",
        "print(\"Intersection of the two lists:\", result)\n"
      ],
      "metadata": {
        "colab": {
          "base_uri": "https://localhost:8080/"
        },
        "id": "g6b3pHT4rXn8",
        "outputId": "615838e8-da64-4154-eac1-7f23cb607722"
      },
      "execution_count": 20,
      "outputs": [
        {
          "output_type": "stream",
          "name": "stdout",
          "text": [
            "Intersection of the two lists: [4, 5]\n"
          ]
        }
      ]
    },
    {
      "cell_type": "markdown",
      "source": [
        "**19.Create a code to find the union of two lists without duplicates**"
      ],
      "metadata": {
        "id": "AeagH2xprbnK"
      }
    },
    {
      "cell_type": "code",
      "source": [
        "def union_of_lists(list1, list2):\n",
        "    # Convert both lists to sets and perform the union operation\n",
        "    return list(set(list1) | set(list2))\n",
        "\n",
        "# Example usage\n",
        "list1 = [1, 2, 3, 4, 5]\n",
        "list2 = [4, 5, 6, 7, 8]\n",
        "result = union_of_lists(list1, list2)\n",
        "print(\"Union of the two lists:\", result)\n"
      ],
      "metadata": {
        "colab": {
          "base_uri": "https://localhost:8080/"
        },
        "id": "m5E9q9bkrbL7",
        "outputId": "d02e637c-c6b2-4482-fec9-d79ab6ad026b"
      },
      "execution_count": 21,
      "outputs": [
        {
          "output_type": "stream",
          "name": "stdout",
          "text": [
            "Union of the two lists: [1, 2, 3, 4, 5, 6, 7, 8]\n"
          ]
        }
      ]
    },
    {
      "cell_type": "markdown",
      "source": [
        "**20.Write a code to shuffle a given list randomly without using any built-in shuffle functions**"
      ],
      "metadata": {
        "id": "C4Kb7Qr5rm1r"
      }
    },
    {
      "cell_type": "code",
      "source": [
        "import random\n",
        "\n",
        "def shuffle_list(lst):\n",
        "    # Get the length of the list\n",
        "    n = len(lst)\n",
        "\n",
        "    # Iterate over the list and swap each element with a randomly selected element\n",
        "    for i in range(n):\n",
        "        # Generate a random index to swap with\n",
        "        j = random.randint(i, n - 1)\n",
        "\n",
        "        # Swap elements at indices i and j\n",
        "        lst[i], lst[j] = lst[j], lst[i]\n",
        "\n",
        "    return lst\n",
        "\n",
        "# Example usage\n",
        "input_list = [1, 2, 3, 4, 5]\n",
        "shuffled_list = shuffle_list(input_list)\n",
        "print(\"Shuffled list:\", shuffled_list)\n"
      ],
      "metadata": {
        "colab": {
          "base_uri": "https://localhost:8080/"
        },
        "id": "41BTyUBlrqbk",
        "outputId": "6f53173c-7fb6-4b77-9d44-49adf4084478"
      },
      "execution_count": 22,
      "outputs": [
        {
          "output_type": "stream",
          "name": "stdout",
          "text": [
            "Shuffled list: [3, 2, 5, 1, 4]\n"
          ]
        }
      ]
    },
    {
      "cell_type": "markdown",
      "source": [
        "**21.Write a code that takes two tuples as input and returns a new tuple containing elements that are\n",
        "common to both input tuples**"
      ],
      "metadata": {
        "id": "MZFasdQErtyb"
      }
    },
    {
      "cell_type": "code",
      "source": [
        "def common_elements_tuple(tuple1, tuple2):\n",
        "    # Convert both tuples to sets and find the intersection\n",
        "    common_elements = set(tuple1) & set(tuple2)\n",
        "\n",
        "    # Return the common elements as a tuple\n",
        "    return tuple(common_elements)\n",
        "\n",
        "# Example usage\n",
        "tuple1 = (1, 2, 3, 4, 5)\n",
        "tuple2 = (4, 5, 6, 7, 8)\n",
        "result = common_elements_tuple(tuple1, tuple2)\n",
        "print(\"Common elements:\", result)\n"
      ],
      "metadata": {
        "colab": {
          "base_uri": "https://localhost:8080/"
        },
        "id": "ARKaN-vwruF7",
        "outputId": "b06c9daa-a575-4a54-e5ec-1a90fc64d970"
      },
      "execution_count": 23,
      "outputs": [
        {
          "output_type": "stream",
          "name": "stdout",
          "text": [
            "Common elements: (4, 5)\n"
          ]
        }
      ]
    },
    {
      "cell_type": "markdown",
      "source": [
        "**22.Create a code that prompts the user to enter two sets of integers separated by commas. Then, print the\n",
        "intersection of these two sets**"
      ],
      "metadata": {
        "id": "LPNo4--fr26r"
      }
    },
    {
      "cell_type": "code",
      "source": [
        "def get_set_from_input(prompt):\n",
        "    # Get user input, split by commas, and convert to integers\n",
        "    user_input = input(prompt)\n",
        "    # Convert the input string to a list of integers\n",
        "    return set(map(int, user_input.split(',')))\n",
        "\n",
        "# Get two sets of integers from the user\n",
        "set1 = get_set_from_input(\"Enter the first set of integers (separated by commas): \")\n",
        "set2 = get_set_from_input(\"Enter the second set of integers (separated by commas): \")\n",
        "\n",
        "# Find the intersection of the two sets\n",
        "intersection = set1 & set2\n",
        "\n",
        "# Print the result\n",
        "print(\"The intersection of the two sets is:\", intersection)\n"
      ],
      "metadata": {
        "colab": {
          "base_uri": "https://localhost:8080/",
          "height": 356
        },
        "id": "iiOgFLp-r8gD",
        "outputId": "747006ac-98dc-40a5-e194-1cb23b7ecb29"
      },
      "execution_count": 24,
      "outputs": [
        {
          "output_type": "error",
          "ename": "KeyboardInterrupt",
          "evalue": "Interrupted by user",
          "traceback": [
            "\u001b[0;31m---------------------------------------------------------------------------\u001b[0m",
            "\u001b[0;31mKeyboardInterrupt\u001b[0m                         Traceback (most recent call last)",
            "\u001b[0;32m<ipython-input-24-09731bf5ae95>\u001b[0m in \u001b[0;36m<cell line: 0>\u001b[0;34m()\u001b[0m\n\u001b[1;32m      6\u001b[0m \u001b[0;34m\u001b[0m\u001b[0m\n\u001b[1;32m      7\u001b[0m \u001b[0;31m# Get two sets of integers from the user\u001b[0m\u001b[0;34m\u001b[0m\u001b[0;34m\u001b[0m\u001b[0m\n\u001b[0;32m----> 8\u001b[0;31m \u001b[0mset1\u001b[0m \u001b[0;34m=\u001b[0m \u001b[0mget_set_from_input\u001b[0m\u001b[0;34m(\u001b[0m\u001b[0;34m\"Enter the first set of integers (separated by commas): \"\u001b[0m\u001b[0;34m)\u001b[0m\u001b[0;34m\u001b[0m\u001b[0;34m\u001b[0m\u001b[0m\n\u001b[0m\u001b[1;32m      9\u001b[0m \u001b[0mset2\u001b[0m \u001b[0;34m=\u001b[0m \u001b[0mget_set_from_input\u001b[0m\u001b[0;34m(\u001b[0m\u001b[0;34m\"Enter the second set of integers (separated by commas): \"\u001b[0m\u001b[0;34m)\u001b[0m\u001b[0;34m\u001b[0m\u001b[0;34m\u001b[0m\u001b[0m\n\u001b[1;32m     10\u001b[0m \u001b[0;34m\u001b[0m\u001b[0m\n",
            "\u001b[0;32m<ipython-input-24-09731bf5ae95>\u001b[0m in \u001b[0;36mget_set_from_input\u001b[0;34m(prompt)\u001b[0m\n\u001b[1;32m      1\u001b[0m \u001b[0;32mdef\u001b[0m \u001b[0mget_set_from_input\u001b[0m\u001b[0;34m(\u001b[0m\u001b[0mprompt\u001b[0m\u001b[0;34m)\u001b[0m\u001b[0;34m:\u001b[0m\u001b[0;34m\u001b[0m\u001b[0;34m\u001b[0m\u001b[0m\n\u001b[1;32m      2\u001b[0m     \u001b[0;31m# Get user input, split by commas, and convert to integers\u001b[0m\u001b[0;34m\u001b[0m\u001b[0;34m\u001b[0m\u001b[0m\n\u001b[0;32m----> 3\u001b[0;31m     \u001b[0muser_input\u001b[0m \u001b[0;34m=\u001b[0m \u001b[0minput\u001b[0m\u001b[0;34m(\u001b[0m\u001b[0mprompt\u001b[0m\u001b[0;34m)\u001b[0m\u001b[0;34m\u001b[0m\u001b[0;34m\u001b[0m\u001b[0m\n\u001b[0m\u001b[1;32m      4\u001b[0m     \u001b[0;31m# Convert the input string to a list of integers\u001b[0m\u001b[0;34m\u001b[0m\u001b[0;34m\u001b[0m\u001b[0m\n\u001b[1;32m      5\u001b[0m     \u001b[0;32mreturn\u001b[0m \u001b[0mset\u001b[0m\u001b[0;34m(\u001b[0m\u001b[0mmap\u001b[0m\u001b[0;34m(\u001b[0m\u001b[0mint\u001b[0m\u001b[0;34m,\u001b[0m \u001b[0muser_input\u001b[0m\u001b[0;34m.\u001b[0m\u001b[0msplit\u001b[0m\u001b[0;34m(\u001b[0m\u001b[0;34m','\u001b[0m\u001b[0;34m)\u001b[0m\u001b[0;34m)\u001b[0m\u001b[0;34m)\u001b[0m\u001b[0;34m\u001b[0m\u001b[0;34m\u001b[0m\u001b[0m\n",
            "\u001b[0;32m/usr/local/lib/python3.11/dist-packages/ipykernel/kernelbase.py\u001b[0m in \u001b[0;36mraw_input\u001b[0;34m(self, prompt)\u001b[0m\n\u001b[1;32m   1175\u001b[0m                 \u001b[0;34m\"raw_input was called, but this frontend does not support input requests.\"\u001b[0m\u001b[0;34m\u001b[0m\u001b[0;34m\u001b[0m\u001b[0m\n\u001b[1;32m   1176\u001b[0m             )\n\u001b[0;32m-> 1177\u001b[0;31m         return self._input_request(\n\u001b[0m\u001b[1;32m   1178\u001b[0m             \u001b[0mstr\u001b[0m\u001b[0;34m(\u001b[0m\u001b[0mprompt\u001b[0m\u001b[0;34m)\u001b[0m\u001b[0;34m,\u001b[0m\u001b[0;34m\u001b[0m\u001b[0;34m\u001b[0m\u001b[0m\n\u001b[1;32m   1179\u001b[0m             \u001b[0mself\u001b[0m\u001b[0;34m.\u001b[0m\u001b[0m_parent_ident\u001b[0m\u001b[0;34m[\u001b[0m\u001b[0;34m\"shell\"\u001b[0m\u001b[0;34m]\u001b[0m\u001b[0;34m,\u001b[0m\u001b[0;34m\u001b[0m\u001b[0;34m\u001b[0m\u001b[0m\n",
            "\u001b[0;32m/usr/local/lib/python3.11/dist-packages/ipykernel/kernelbase.py\u001b[0m in \u001b[0;36m_input_request\u001b[0;34m(self, prompt, ident, parent, password)\u001b[0m\n\u001b[1;32m   1217\u001b[0m             \u001b[0;32mexcept\u001b[0m \u001b[0mKeyboardInterrupt\u001b[0m\u001b[0;34m:\u001b[0m\u001b[0;34m\u001b[0m\u001b[0;34m\u001b[0m\u001b[0m\n\u001b[1;32m   1218\u001b[0m                 \u001b[0;31m# re-raise KeyboardInterrupt, to truncate traceback\u001b[0m\u001b[0;34m\u001b[0m\u001b[0;34m\u001b[0m\u001b[0m\n\u001b[0;32m-> 1219\u001b[0;31m                 \u001b[0;32mraise\u001b[0m \u001b[0mKeyboardInterrupt\u001b[0m\u001b[0;34m(\u001b[0m\u001b[0;34m\"Interrupted by user\"\u001b[0m\u001b[0;34m)\u001b[0m \u001b[0;32mfrom\u001b[0m \u001b[0;32mNone\u001b[0m\u001b[0;34m\u001b[0m\u001b[0;34m\u001b[0m\u001b[0m\n\u001b[0m\u001b[1;32m   1220\u001b[0m             \u001b[0;32mexcept\u001b[0m \u001b[0mException\u001b[0m\u001b[0;34m:\u001b[0m\u001b[0;34m\u001b[0m\u001b[0;34m\u001b[0m\u001b[0m\n\u001b[1;32m   1221\u001b[0m                 \u001b[0mself\u001b[0m\u001b[0;34m.\u001b[0m\u001b[0mlog\u001b[0m\u001b[0;34m.\u001b[0m\u001b[0mwarning\u001b[0m\u001b[0;34m(\u001b[0m\u001b[0;34m\"Invalid Message:\"\u001b[0m\u001b[0;34m,\u001b[0m \u001b[0mexc_info\u001b[0m\u001b[0;34m=\u001b[0m\u001b[0;32mTrue\u001b[0m\u001b[0;34m)\u001b[0m\u001b[0;34m\u001b[0m\u001b[0;34m\u001b[0m\u001b[0m\n",
            "\u001b[0;31mKeyboardInterrupt\u001b[0m: Interrupted by user"
          ]
        }
      ]
    },
    {
      "cell_type": "markdown",
      "source": [
        "**23.Write a code to concatenate two tuples. The function should take two tuples as input and return a new\n",
        "tuple containing elements from both input tuples.**"
      ],
      "metadata": {
        "id": "9gZt_L-dsDNt"
      }
    },
    {
      "cell_type": "code",
      "source": [
        "def concatenate_tuples(tuple1, tuple2):\n",
        "    # Concatenate the two tuples using the + operator\n",
        "    return tuple1 + tuple2\n",
        "\n",
        "# Example usage\n",
        "tuple1 = (1, 2, 3)\n",
        "tuple2 = (4, 5, 6)\n",
        "result = concatenate_tuples(tuple1, tuple2)\n",
        "print(\"Concatenated tuple:\", result)\n"
      ],
      "metadata": {
        "colab": {
          "base_uri": "https://localhost:8080/"
        },
        "id": "ixiaJppbsItG",
        "outputId": "2dc7fce2-809f-42c4-b6ab-7ca3583c890f"
      },
      "execution_count": 25,
      "outputs": [
        {
          "output_type": "stream",
          "name": "stdout",
          "text": [
            "Concatenated tuple: (1, 2, 3, 4, 5, 6)\n"
          ]
        }
      ]
    },
    {
      "cell_type": "markdown",
      "source": [
        "**24.Develop a code that prompts the user to input two sets of strings. Then, print the elements that are\n",
        "present in the first set but not in the second set**"
      ],
      "metadata": {
        "id": "R0Z6usr5sRVj"
      }
    },
    {
      "cell_type": "code",
      "source": [
        "def get_set_from_input(prompt):\n",
        "    # Get user input, split by commas, and convert to a set of strings\n",
        "    user_input = input(prompt)\n",
        "    return set(user_input.split(','))\n",
        "\n",
        "# Get two sets of strings from the user\n",
        "set1 = get_set_from_input(\"Enter the first set of strings (separated by commas): \")\n",
        "set2 = get_set_from_input(\"Enter the second set of strings (separated by commas): \")\n",
        "\n",
        "# Find the elements present in set1 but not in set2\n",
        "difference = set1 - set2\n",
        "\n",
        "# Print the result\n",
        "print(\"Elements present in the first set but not in the second set:\", difference)\n"
      ],
      "metadata": {
        "id": "1YQcgK0zsa2z"
      },
      "execution_count": null,
      "outputs": []
    },
    {
      "cell_type": "markdown",
      "source": [
        "**25.Create a code that takes a tuple and two integers as input. The function should return a new tuple\n",
        "containing elements from the original tuple within the specified range of indices**"
      ],
      "metadata": {
        "id": "Cv71UArpseFq"
      }
    },
    {
      "cell_type": "code",
      "source": [
        "def get_elements_in_range(input_tuple, start_index, end_index):\n",
        "    # Return a slice of the tuple from start_index to end_index (exclusive)\n",
        "    return input_tuple[start_index:end_index]\n",
        "\n",
        "# Example usage\n",
        "input_tuple = (10, 20, 30, 40, 50, 60, 70)\n",
        "start_index = int(input(\"Enter the start index: \"))\n",
        "end_index = int(input(\"Enter the end index: \"))\n",
        "\n",
        "result = get_elements_in_range(input_tuple, start_index, end_index)\n",
        "print(\"New tuple with elements in the specified range:\", result)\n"
      ],
      "metadata": {
        "id": "87nYSk5csj9S"
      },
      "execution_count": null,
      "outputs": []
    },
    {
      "cell_type": "markdown",
      "source": [
        "**26.Write a code that prompts the user to input two sets of characters. Then, print the union of these two sets**"
      ],
      "metadata": {
        "id": "DP8OQbdussm0"
      }
    },
    {
      "cell_type": "code",
      "source": [
        "def get_set_from_input(prompt):\n",
        "    # Get user input, split by commas, and convert to a set of characters\n",
        "    user_input = input(prompt)\n",
        "    return set(user_input)\n",
        "\n",
        "# Get two sets of characters from the user\n",
        "set1 = get_set_from_input(\"Enter the first set of characters: \")\n",
        "set2 = get_set_from_input(\"Enter the second set of characters: \")\n",
        "\n",
        "# Find the union of the two sets\n",
        "union_result = set1 | set2\n",
        "\n",
        "# Print the result\n",
        "print(\"The union of the two sets is:\", union_result)"
      ],
      "metadata": {
        "id": "e6gvva7lswqr"
      },
      "execution_count": null,
      "outputs": []
    },
    {
      "cell_type": "markdown",
      "source": [
        "**27.Develop a code that takes a tuple of integers as input. The function should return the maximum and\n",
        "minimum values from the tuple using tuple unpacking**"
      ],
      "metadata": {
        "id": "M_r95OZUsy9L"
      }
    },
    {
      "cell_type": "code",
      "source": [
        "def find_max_min(input_tuple):\n",
        "    # Use tuple unpacking to get the maximum and minimum values from the tuple\n",
        "    max_value, min_value = max(input_tuple), min(input_tuple)\n",
        "    return max_value, min_value\n",
        "\n",
        "# Example usage\n",
        "input_tuple = tuple(map(int, input(\"Enter a tuple of integers (separated by commas): \").split(',')))\n",
        "max_val, min_val = find_max_min(input_tuple)\n",
        "\n",
        "print(\"Maximum value:\", max_val)\n",
        "print(\"Minimum value:\", min_val)\n"
      ],
      "metadata": {
        "id": "A0Mj4tSOs2rT"
      },
      "execution_count": null,
      "outputs": []
    },
    {
      "cell_type": "markdown",
      "source": [
        "**28.Create a code that defines two sets of integers. Then, print the union, intersection, and difference of these\n",
        "two sets**"
      ],
      "metadata": {
        "id": "0wyVqBefs_xL"
      }
    },
    {
      "cell_type": "code",
      "source": [
        "def set_operations(set1, set2):\n",
        "    # Calculate union, intersection, and difference\n",
        "    union_result = set1 | set2\n",
        "    intersection_result = set1 & set2\n",
        "    difference_result = set1 - set2\n",
        "\n",
        "    return union_result, intersection_result, difference_result\n",
        "\n",
        "# Define two sets of integers\n",
        "set1 = {1, 2, 3, 4, 5}\n",
        "set2 = {4, 5, 6, 7, 8}\n",
        "\n",
        "# Get the results of the set operations\n",
        "union, intersection, difference = set_operations(set1, set2)\n",
        "\n",
        "# Print the results\n",
        "print(\"Union of the sets:\", union)\n",
        "print(\"Intersection of the sets:\", intersection)\n",
        "print(\"Difference of the sets (set1 - set2):\", difference)"
      ],
      "metadata": {
        "id": "kTay0Yp5tFdj"
      },
      "execution_count": null,
      "outputs": []
    },
    {
      "cell_type": "markdown",
      "source": [
        "**29. Write a code that takes a tuple and an element as input. The function should return the count of\n",
        "occurrences of the given element in the tuple**"
      ],
      "metadata": {
        "id": "joN8g6rTtPVz"
      }
    },
    {
      "cell_type": "code",
      "source": [
        "def count_element_in_tuple(input_tuple, element):\n",
        "    # Use the count() method to count occurrences of the element in the tuple\n",
        "    return input_tuple.count(element)\n",
        "\n",
        "# Example usage\n",
        "input_tuple = tuple(map(int, input(\"Enter a tuple of integers (separated by commas): \").split(',')))\n",
        "element = int(input(\"Enter the element to count: \"))\n",
        "\n",
        "# Get the count of the element in the tuple\n",
        "count = count_element_in_tuple(input_tuple, element)\n",
        "\n",
        "print(f\"The element {element} appears {count} times in the tuple.\")\n"
      ],
      "metadata": {
        "id": "c0JeTxOlt-Ij"
      },
      "execution_count": null,
      "outputs": []
    },
    {
      "cell_type": "markdown",
      "source": [
        "**30.Develop a code that prompts the user to input two sets of strings. Then, print the symmetric difference of\n",
        "these two sets**"
      ],
      "metadata": {
        "id": "akWRRNGpuAxr"
      }
    },
    {
      "cell_type": "code",
      "source": [
        "def get_set_from_input(prompt):\n",
        "    # Get user input, split by commas, and convert to a set of strings\n",
        "    user_input = input(prompt)\n",
        "    return set(user_input.split(','))\n",
        "\n",
        "# Get two sets of strings from the user\n",
        "set1 = get_set_from_input(\"Enter the first set of strings (separated by commas): \")\n",
        "set2 = get_set_from_input(\"Enter the second set of strings (separated by commas): \")\n",
        "\n",
        "# Find the symmetric difference of the two sets\n",
        "symmetric_difference = set1 ^ set2\n",
        "\n",
        "# Print the result\n",
        "print(\"The symmetric difference of the two sets is:\", symmetric_difference)"
      ],
      "metadata": {
        "id": "bvA8lfMuuFwK"
      },
      "execution_count": null,
      "outputs": []
    },
    {
      "cell_type": "markdown",
      "source": [
        "**31.Write a code that takes a list of words as input and returns a dictionary where the keys are unique words\n",
        "and the values are the frequencies of those words in the input list**"
      ],
      "metadata": {
        "id": "HEr5OBZnuLAD"
      }
    },
    {
      "cell_type": "code",
      "source": [
        "def word_frequency(input_list):\n",
        "    # Create an empty dictionary to store word frequencies\n",
        "    frequency_dict = {}\n",
        "\n",
        "    # Iterate over the list of words\n",
        "    for word in input_list:\n",
        "        # If the word is already in the dictionary, increment its count\n",
        "        if word in frequency_dict:\n",
        "            frequency_dict[word] += 1\n",
        "        # If the word is not in the dictionary, add it with count 1\n",
        "        else:\n",
        "            frequency_dict[word] = 1\n",
        "\n",
        "    return frequency_dict\n",
        "\n",
        "# Example usage\n",
        "input_list = input(\"Enter a list of words (separated by spaces): \").split()\n",
        "\n",
        "# Get the word frequency dictionary\n",
        "frequency_dict = word_frequency(input_list)\n",
        "\n",
        "# Print the result\n",
        "print(\"Word frequencies:\", frequency_dict)\n"
      ],
      "metadata": {
        "id": "e9OfD5LjuTny"
      },
      "execution_count": null,
      "outputs": []
    },
    {
      "cell_type": "markdown",
      "source": [
        "**32.Write a code that takes two dictionaries as input and merges them into a single dictionary. If there are\n",
        "common keys, the values should be added together**"
      ],
      "metadata": {
        "id": "EVnfegL1uVjz"
      }
    },
    {
      "cell_type": "code",
      "source": [
        "def merge_dictionaries(dict1, dict2):\n",
        "    # Create a new dictionary to store the merged result\n",
        "    merged_dict = dict1.copy()  # Start with a copy of the first dictionary\n",
        "\n",
        "    # Iterate through the second dictionary\n",
        "    for key, value in dict2.items():\n",
        "        if key in merged_dict:\n",
        "            # If the key is already in the merged dictionary, add the values together\n",
        "            merged_dict[key] += value\n",
        "        else:\n",
        "            # If the key is not in the merged dictionary, add the key-value pair\n",
        "            merged_dict[key] = value\n",
        "\n",
        "    return merged_dict\n",
        "\n",
        "# Example usage\n",
        "dict1 = {'a': 1, 'b': 2, 'c': 3}\n",
        "dict2 = {'b': 3, 'c': 4, 'd': 5}\n",
        "\n",
        "# Merge the two dictionaries\n",
        "result = merge_dictionaries(dict1, dict2)\n",
        "\n",
        "# Print the merged result\n",
        "print(\"Merged dictionary:\", result)\n"
      ],
      "metadata": {
        "id": "oUWDuUnaubyj"
      },
      "execution_count": null,
      "outputs": []
    },
    {
      "cell_type": "markdown",
      "source": [
        "**33.Write a code to access a value in a nested dictionary. The function should take the dictionary and a list of\n",
        "keys as input, and return the corresponding value. If any of the keys do not exist in the dictionary, the\n",
        "function should return None**"
      ],
      "metadata": {
        "id": "HN5bdKURusmj"
      }
    },
    {
      "cell_type": "code",
      "source": [
        "def access_nested_dict(nested_dict, keys):\n",
        "    # Start with the nested dictionary\n",
        "    current_value = nested_dict\n",
        "\n",
        "    # Iterate through each key in the list\n",
        "    for key in keys:\n",
        "        # If the key exists in the current level of the dictionary\n",
        "        if key in current_value:\n",
        "            # Move to the next level (if any)\n",
        "            current_value = current_value[key]\n",
        "        else:\n",
        "            # Return None if a key is not found\n",
        "            return None\n",
        "\n",
        "    return current_value\n",
        "\n",
        "# Example usage\n",
        "nested_dict = {\n",
        "    'a': {\n",
        "        'b': {\n",
        "            'c': 10\n",
        "        }\n",
        "    },\n",
        "    'x': {\n",
        "        'y': 20\n",
        "    }\n",
        "}\n",
        "\n",
        "keys = ['a', 'b', 'c']\n",
        "result = access_nested_dict(nested_dict, keys)\n",
        "print(\"The value corresponding to the keys is:\", result)  # Output: 10\n",
        "\n",
        "keys_not_found = ['a', 'b', 'z']\n",
        "result_not_found = access_nested_dict(nested_dict, keys_not_found)\n",
        "print(\"The value corresponding to the keys is:\", result_not_found)  # Output: None"
      ],
      "metadata": {
        "id": "UKvg3JBwuxV6"
      },
      "execution_count": null,
      "outputs": []
    },
    {
      "cell_type": "markdown",
      "source": [
        "**34.Write a code that takes a dictionary as input and returns a sorted version of it based on the values. You\n",
        "can choose whether to sort in ascending or descending order**"
      ],
      "metadata": {
        "id": "by1pzLkKu6Hb"
      }
    },
    {
      "cell_type": "code",
      "source": [
        "def sort_dict_by_value(input_dict, reverse=False):\n",
        "    # Sort the dictionary by values\n",
        "    # reverse=True will sort in descending order, and reverse=False will sort in ascending order\n",
        "    sorted_dict = dict(sorted(input_dict.items(), key=lambda item: item[1], reverse=reverse))\n",
        "    return sorted_dict\n",
        "\n",
        "# Example usage\n",
        "input_dict = {'a': 5, 'b': 2, 'c': 8, 'd': 3}\n",
        "\n",
        "# Sort in ascending order (default)\n",
        "sorted_dict_ascending = sort_dict_by_value(input_dict)\n",
        "print(\"Sorted dictionary in ascending order:\", sorted_dict_ascending)\n",
        "\n",
        "# Sort in descending order\n",
        "sorted_dict_descending = sort_dict_by_value(input_dict, reverse=True)\n",
        "print(\"Sorted dictionary in descending order:\", sorted_dict_descending)\n"
      ],
      "metadata": {
        "id": "DE95z2zYvFil"
      },
      "execution_count": null,
      "outputs": []
    },
    {
      "cell_type": "markdown",
      "source": [
        "**35.Write a code that inverts a dictionary, swapping keys and values. Ensure that the inverted dictionary\n",
        "correctly handles cases where multiple keys have the same value by storing the keys as a list in the\n",
        "inverted dictionary.**"
      ],
      "metadata": {
        "id": "FINsCY3VvOnD"
      }
    },
    {
      "cell_type": "code",
      "source": [
        "def invert_dict(input_dict):\n",
        "    inverted_dict = {}\n",
        "\n",
        "    # Iterate through the input dictionary\n",
        "    for key, value in input_dict.items():\n",
        "        # If the value is already in the inverted dictionary, append the key to the list\n",
        "        if value in inverted_dict:\n",
        "            inverted_dict[value].append(key)\n",
        "        else:\n",
        "            # If the value is not in the inverted dictionary, add it with the key as a list\n",
        "            inverted_dict[value] = [key]\n",
        "\n",
        "    return inverted_dict\n",
        "\n",
        "# Example usage\n",
        "input_dict = {'a': 1, 'b': 2, 'c': 1, 'd': 3}\n",
        "\n",
        "# Invert the dictionary\n",
        "inverted_dict = invert_dict(input_dict)\n",
        "\n",
        "# Print the inverted dictionary\n",
        "print(\"Inverted dictionary:\", inverted_dict)\n"
      ],
      "metadata": {
        "id": "rsooB7oOvTvA"
      },
      "execution_count": null,
      "outputs": []
    }
  ]
}