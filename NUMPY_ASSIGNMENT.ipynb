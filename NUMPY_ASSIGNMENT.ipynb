{
  "nbformat": 4,
  "nbformat_minor": 0,
  "metadata": {
    "colab": {
      "provenance": []
    },
    "kernelspec": {
      "name": "python3",
      "display_name": "Python 3"
    },
    "language_info": {
      "name": "python"
    }
  },
  "cells": [
    {
      "cell_type": "markdown",
      "source": [
        "1.Explain the purpose and advantages of NumPy in scientific computing and data analysis. How does it\n",
        "enhance Python's capabilities for numerical operations?\n",
        "\n",
        "ans--NumPy enhances Python's capabilities for numerical operations by providing fast, efficient array processing, supporting large multi-dimensional arrays and matrices, and offering a wide range of mathematical functions. Its purpose is to enable high-performance scientific computing and data analysis by optimizing operations using vectorization, which avoids Python loops and leverages optimized C code for speed. This makes numerical computations significantly faster and more memory-efficient than using Python's built-in data structures."
      ],
      "metadata": {
        "id": "VSVH1413yl7Q"
      }
    },
    {
      "cell_type": "markdown",
      "source": [
        "2.Compare and contrast np.mean() and np.average() functions in NumPy. When would you use one over the\n",
        "other?\n",
        "\n",
        "ans--`np.mean()` calculates the simple arithmetic mean of array elements without considering weights, making it suitable for straightforward average calculations. In contrast, `np.average()` can compute a weighted average, where each element can have a different level of influence. Use `np.mean()` for basic averaging needs and `np.average()` when you need to account for weights in your data."
      ],
      "metadata": {
        "id": "xxIktdBnyshJ"
      }
    },
    {
      "cell_type": "markdown",
      "source": [
        "3. Describe the methods for reversing a NumPy array along different axes. Provide examples for 1D and 2D\n",
        "arrays.\n",
        "\n",
        "ans--To reverse a NumPy array, you can use slicing or the np.flip() function:\n",
        "\n",
        "1D Array: You can reverse a 1D array using slicing:"
      ],
      "metadata": {
        "id": "IYd9n-pczTUl"
      }
    },
    {
      "cell_type": "code",
      "source": [
        "import numpy as np # import the numpy library and alias it as np\n",
        "\n",
        "arr = np.array([1, 2, 3, 4, 5])\n",
        "reversed_arr = arr[::-1]  # Output: [5, 4, 3, 2, 1]\n",
        "print(reversed_arr)"
      ],
      "metadata": {
        "colab": {
          "base_uri": "https://localhost:8080/"
        },
        "id": "jFOJPNzX0F5m",
        "outputId": "d9e974a8-940e-4589-f81d-645981d4b596"
      },
      "execution_count": 3,
      "outputs": [
        {
          "output_type": "stream",
          "name": "stdout",
          "text": [
            "[5 4 3 2 1]\n"
          ]
        }
      ]
    },
    {
      "cell_type": "code",
      "source": [
        "#2D array\n",
        "\n",
        "arr = np.array([[1, 2, 3], [4, 5, 6], [7, 8, 9]])\n",
        "reversed_arr = arr[::-1, ::-1]  # Output: [[9, 8, 7], [6, 5, 4], [3, 2, 1]]\n",
        "print(reversed_arr)\n"
      ],
      "metadata": {
        "colab": {
          "base_uri": "https://localhost:8080/"
        },
        "id": "zMKIULVH0Ql5",
        "outputId": "4d04855e-a822-44c8-f9b9-4ab86157f51f"
      },
      "execution_count": 5,
      "outputs": [
        {
          "output_type": "stream",
          "name": "stdout",
          "text": [
            "[[9 8 7]\n",
            " [6 5 4]\n",
            " [3 2 1]]\n"
          ]
        }
      ]
    },
    {
      "cell_type": "markdown",
      "source": [
        " 4.How can you determine the data type of elements in a NumPy array? Discuss the importance of data types\n",
        "in memory management and performance.\n",
        "\n",
        "ans--\n",
        "You can determine the data type of elements in a NumPy array using the .dtype attribute:\n"
      ],
      "metadata": {
        "id": "sJ9jUkTU0XTq"
      }
    },
    {
      "cell_type": "code",
      "source": [
        "arr = np.array([1, 2, 3])\n",
        "print(arr.dtype)\n"
      ],
      "metadata": {
        "colab": {
          "base_uri": "https://localhost:8080/"
        },
        "id": "3UWqjVf21Fq8",
        "outputId": "8bf111f1-f61b-43d4-f155-cabb5bcd0065"
      },
      "execution_count": 7,
      "outputs": [
        {
          "output_type": "stream",
          "name": "stdout",
          "text": [
            "int64\n"
          ]
        }
      ]
    },
    {
      "cell_type": "markdown",
      "source": [
        "5. Define ndarrays in NumPy and explain their key features. How do they differ from standard Python lists?\n",
        "\n",
        "ans--ndarrays in NumPy are multi-dimensional arrays that store elements of the same data type in a contiguous block of memory. Key features include support for high-performance vectorized operations, built-in mathematical functions, and efficient slicing and indexing.\n",
        "\n",
        "Compared to standard Python lists, ndarrays offer:\n",
        "\n",
        "Faster computation: They use optimized C code under the hood.\n",
        "Lower memory usage: They store data more compactly."
      ],
      "metadata": {
        "id": "e1K6cbfU1J5l"
      }
    },
    {
      "cell_type": "markdown",
      "source": [
        "6. Analyze the performance benefits of NumPy arrays over Python lists for large-scale numerical operations.\n",
        "\n",
        "ans--NumPy arrays offer significant performance benefits over Python lists for large-scale numerical operations. This is because NumPy arrays use contiguous blocks of memory and are implemented in C, enabling them to perform vectorized operations without the need for Python loops. This results in faster execution and more efficient memory usage.\n",
        "\n",
        "For large datasets, NumPy's operations are highly optimized, often running orders of magnitude faster than equivalent operations with Python lists. Additionally, arrays have built-in functions for complex computations, which further speeds up processing compared to iterating manually with lists. This makes NumPy a powerful tool for handling large-scale numerical tasks efficiently."
      ],
      "metadata": {
        "id": "4NxhIYhp16OT"
      }
    },
    {
      "cell_type": "markdown",
      "source": [
        "\n",
        "7. Compare vstack() and hstack() functions in NumPy. Provide examples demonstrating their usage and\n",
        "output.\n",
        "\n",
        "\n",
        "vstack() and hstack() in NumPy are used to stack arrays together vertically and horizontally, respectively:\n",
        "\n",
        "vstack(): Stacks arrays vertically (row-wise)."
      ],
      "metadata": {
        "id": "zz73ZAHg2Lfu"
      }
    },
    {
      "cell_type": "code",
      "source": [
        "arr1 = np.array([1, 2, 3])\n",
        "arr2 = np.array([4, 5, 6])\n",
        "result = np.vstack((arr1, arr2))\n",
        "print(result)\n"
      ],
      "metadata": {
        "colab": {
          "base_uri": "https://localhost:8080/"
        },
        "id": "Ea2GdepK2MUn",
        "outputId": "2f214aa6-1f2b-412a-cfba-5171a68053b2"
      },
      "execution_count": 8,
      "outputs": [
        {
          "output_type": "stream",
          "name": "stdout",
          "text": [
            "[[1 2 3]\n",
            " [4 5 6]]\n"
          ]
        }
      ]
    },
    {
      "cell_type": "code",
      "source": [
        "#hstack(): Stacks arrays horizontally (column-wise).\n",
        "arr1 = np.array([1, 2, 3])\n",
        "arr2 = np.array([4, 5, 6])\n",
        "result = np.hstack((arr1, arr2))\n",
        "print(result)\n",
        "\n"
      ],
      "metadata": {
        "colab": {
          "base_uri": "https://localhost:8080/"
        },
        "id": "jXKxuDAf2TGc",
        "outputId": "eb8e4c42-d9d5-4f82-c5ec-e242b63ce201"
      },
      "execution_count": 9,
      "outputs": [
        {
          "output_type": "stream",
          "name": "stdout",
          "text": [
            "[1 2 3 4 5 6]\n"
          ]
        }
      ]
    },
    {
      "cell_type": "markdown",
      "source": [
        "8. Explain the differences between fliplr() and flipud() methods in NumPy, including their effects on various\n",
        "array dimensions.\n",
        "\n",
        "ans--fliplr() and flipud() in NumPy are used to flip arrays along different axes:\n",
        "\n",
        "fliplr(): Flips an array left to right (horizontally). It affects the columns of a 2D array by reversing their order."
      ],
      "metadata": {
        "id": "23k6qry92lpP"
      }
    },
    {
      "cell_type": "code",
      "source": [
        "arr = np.array([[1, 2, 3], [4, 5, 6]])\n",
        "result = np.fliplr(arr)\n",
        "print(result)\n"
      ],
      "metadata": {
        "colab": {
          "base_uri": "https://localhost:8080/"
        },
        "id": "uMPVMbg73MNk",
        "outputId": "94ae7a18-4a08-48ab-db94-49809bfd1537"
      },
      "execution_count": 10,
      "outputs": [
        {
          "output_type": "stream",
          "name": "stdout",
          "text": [
            "[[3 2 1]\n",
            " [6 5 4]]\n"
          ]
        }
      ]
    },
    {
      "cell_type": "code",
      "source": [
        "arr = np.array([[1, 2, 3], [4, 5, 6]])\n",
        "result = np.flipud(arr)\n",
        "print(result)"
      ],
      "metadata": {
        "colab": {
          "base_uri": "https://localhost:8080/"
        },
        "id": "zAWjHJqI3RDk",
        "outputId": "1c21b883-b9a9-4f38-97cf-f5219a1c8988"
      },
      "execution_count": 11,
      "outputs": [
        {
          "output_type": "stream",
          "name": "stdout",
          "text": [
            "[[4 5 6]\n",
            " [1 2 3]]\n"
          ]
        }
      ]
    },
    {
      "cell_type": "markdown",
      "source": [
        "9.Discuss the functionality of the array_split() method in NumPy. How does it handle uneven splits?\n",
        "\n",
        "The array_split() method in NumPy splits an array into specified sub-arrays. Unlike split(), it can handle cases where the array can't be split evenly. If the array's length doesn't divide evenly by the number of splits, array_split() ensures that sub-arrays will vary slightly in size, with some being larger than others."
      ],
      "metadata": {
        "id": "3ClL64T031D3"
      }
    },
    {
      "cell_type": "code",
      "source": [
        "arr = np.array([1, 2, 3, 4, 5])\n",
        "splits = np.array_split(arr, 3)\n",
        "print(splits)\n"
      ],
      "metadata": {
        "colab": {
          "base_uri": "https://localhost:8080/"
        },
        "id": "XXz_pzxU36Hn",
        "outputId": "72b6c0dc-07cf-49fd-cdfb-5baaa2e50018"
      },
      "execution_count": 12,
      "outputs": [
        {
          "output_type": "stream",
          "name": "stdout",
          "text": [
            "[array([1, 2]), array([3, 4]), array([5])]\n"
          ]
        }
      ]
    },
    {
      "cell_type": "markdown",
      "source": [
        "10. Explain the concepts of vectorization and broadcasting in NumPy. How do they contribute to efficient array\n",
        "operations?\n",
        "\n",
        "\n",
        "Vectorization and broadcasting in NumPy are techniques that make array operations faster and more efficient by reducing the need for explicit loops.\n",
        "\n",
        "Vectorization allows you to perform operations on entire arrays at once, rather than looping through individual elements. This leverages optimized, low-level code, often written in C, making it much faster than traditional Python loops.\n",
        "\n",
        "Broadcasting enables NumPy to handle arrays of different shapes in operations. For example, you can add a 1D array to a 2D array without explicitly reshaping. NumPy automatically “stretches” the smaller array along the necessary dimensions, allowing operations on mismatched shapes without additional memory overhead."
      ],
      "metadata": {
        "id": "TsJifA8W4Ins"
      }
    },
    {
      "cell_type": "markdown",
      "source": [],
      "metadata": {
        "id": "VeSzrBuR4f-k"
      }
    },
    {
      "cell_type": "markdown",
      "source": [
        "1. Create a 3x3 NumPy array with random integers between 1 and 100. Then, interchange its rows and columns."
      ],
      "metadata": {
        "id": "DCD2steF5ATQ"
      }
    },
    {
      "cell_type": "code",
      "source": [
        "import numpy as np\n",
        "array = np.random.randint(1, 101, size=(3, 3))\n",
        "print(\"Original Array:\")\n",
        "print(array)\n"
      ],
      "metadata": {
        "colab": {
          "base_uri": "https://localhost:8080/"
        },
        "id": "lvnDoCc95Sgb",
        "outputId": "b4e8a8b0-a24e-4a0b-e2c1-857349eaf09e"
      },
      "execution_count": 13,
      "outputs": [
        {
          "output_type": "stream",
          "name": "stdout",
          "text": [
            "Original Array:\n",
            "[[ 64 100  58]\n",
            " [ 39  20  45]\n",
            " [ 94   4  31]]\n"
          ]
        }
      ]
    },
    {
      "cell_type": "markdown",
      "source": [
        "To interchange rows and columns (transpose the array), use array.T:"
      ],
      "metadata": {
        "id": "RtCAWBEa5WGC"
      }
    },
    {
      "cell_type": "code",
      "source": [
        "transposed_array = array.T\n",
        "print(\"Transposed Array:\")\n",
        "print(transposed_array)\n"
      ],
      "metadata": {
        "colab": {
          "base_uri": "https://localhost:8080/"
        },
        "id": "V_hG1III5Y85",
        "outputId": "c7031e07-e383-483c-8da4-63a24a7cb89f"
      },
      "execution_count": 14,
      "outputs": [
        {
          "output_type": "stream",
          "name": "stdout",
          "text": [
            "Transposed Array:\n",
            "[[ 64  39  94]\n",
            " [100  20   4]\n",
            " [ 58  45  31]]\n"
          ]
        }
      ]
    },
    {
      "cell_type": "markdown",
      "source": [
        "2. Generate a 1D NumPy array with 10 elements. Reshape it into a 2x5 array, then into a 5x2 array.\n",
        "\n",
        "First, create a 1D NumPy array with 10 elements:"
      ],
      "metadata": {
        "id": "mL3HwkrT55xa"
      }
    },
    {
      "cell_type": "code",
      "source": [
        "import numpy as np\n",
        "array = np.arange(10)\n",
        "print(\"Original 1D Array:\")\n",
        "print(array)\n"
      ],
      "metadata": {
        "colab": {
          "base_uri": "https://localhost:8080/"
        },
        "id": "iZei1bZL6QKE",
        "outputId": "9236f642-7721-4183-b0a3-951aadb5ffd9"
      },
      "execution_count": 15,
      "outputs": [
        {
          "output_type": "stream",
          "name": "stdout",
          "text": [
            "Original 1D Array:\n",
            "[0 1 2 3 4 5 6 7 8 9]\n"
          ]
        }
      ]
    },
    {
      "cell_type": "code",
      "source": [
        "#Reshape it into a 2x5 array:\n",
        "\n",
        "array_2x5 = array.reshape(2, 5)\n",
        "print(\"2x5 Array:\")\n",
        "print(array_2x5)\n"
      ],
      "metadata": {
        "colab": {
          "base_uri": "https://localhost:8080/"
        },
        "id": "9ZGcOdzP6RsZ",
        "outputId": "7e8a7793-64b3-480c-bd24-4fe3e25018bb"
      },
      "execution_count": 16,
      "outputs": [
        {
          "output_type": "stream",
          "name": "stdout",
          "text": [
            "2x5 Array:\n",
            "[[0 1 2 3 4]\n",
            " [5 6 7 8 9]]\n"
          ]
        }
      ]
    },
    {
      "cell_type": "code",
      "source": [
        "#Then reshape it into a 5x2 array:\n",
        "\n",
        "array_5x2 = array.reshape(5, 2)\n",
        "print(\"5x2 Array:\")\n",
        "print(array_5x2)\n"
      ],
      "metadata": {
        "id": "_wa_1gyG6Y7O"
      },
      "execution_count": null,
      "outputs": []
    },
    {
      "cell_type": "markdown",
      "source": [
        "3. Create a 4x4 NumPy array with random float values. Add a border of zeros around it, resulting in a 6x6 array"
      ],
      "metadata": {
        "id": "HV-Rkubz8eu6"
      }
    },
    {
      "cell_type": "code",
      "source": [
        "import numpy as np\n",
        "array = np.random.rand(4, 4)\n",
        "print(\"Original 4x4 Array:\")\n",
        "print(array)\n"
      ],
      "metadata": {
        "colab": {
          "base_uri": "https://localhost:8080/"
        },
        "id": "lKJ7WV0e8f8D",
        "outputId": "cba2f1e8-fc83-46a8-f09f-341b471f953d"
      },
      "execution_count": 19,
      "outputs": [
        {
          "output_type": "stream",
          "name": "stdout",
          "text": [
            "Original 4x4 Array:\n",
            "[[0.77952743 0.59015128 0.86894735 0.58185911]\n",
            " [0.33496983 0.76297718 0.5567609  0.7034811 ]\n",
            " [0.35700909 0.39010019 0.90360388 0.5981553 ]\n",
            " [0.17234947 0.09476375 0.04183607 0.68582851]]\n"
          ]
        }
      ]
    },
    {
      "cell_type": "code",
      "source": [
        "bordered_array = np.pad(array, pad_width=1, mode='constant', constant_values=0)\n",
        "print(\"6x6 Array with Border of Zeros:\")\n",
        "print(bordered_array)\n"
      ],
      "metadata": {
        "colab": {
          "base_uri": "https://localhost:8080/"
        },
        "id": "iY8UELGm8yu8",
        "outputId": "9269b1b8-9f92-4af7-eea4-2c1cb85d76f1"
      },
      "execution_count": 20,
      "outputs": [
        {
          "output_type": "stream",
          "name": "stdout",
          "text": [
            "6x6 Array with Border of Zeros:\n",
            "[[0.         0.         0.         0.         0.         0.        ]\n",
            " [0.         0.77952743 0.59015128 0.86894735 0.58185911 0.        ]\n",
            " [0.         0.33496983 0.76297718 0.5567609  0.7034811  0.        ]\n",
            " [0.         0.35700909 0.39010019 0.90360388 0.5981553  0.        ]\n",
            " [0.         0.17234947 0.09476375 0.04183607 0.68582851 0.        ]\n",
            " [0.         0.         0.         0.         0.         0.        ]]\n"
          ]
        }
      ]
    },
    {
      "cell_type": "markdown",
      "source": [
        "4. Using NumPy, create an array of integers from 10 to 60 with a step of 5."
      ],
      "metadata": {
        "id": "0G4NY6gf6zoP"
      }
    },
    {
      "cell_type": "code",
      "source": [
        "import numpy as np\n",
        "array = np.arange(10, 65, 5)\n",
        "print(array)"
      ],
      "metadata": {
        "colab": {
          "base_uri": "https://localhost:8080/"
        },
        "id": "oDw2Ameg60ZW",
        "outputId": "af654ecc-e4fe-498b-b8f7-9a4a51c02b68"
      },
      "execution_count": 17,
      "outputs": [
        {
          "output_type": "stream",
          "name": "stdout",
          "text": [
            "[10 15 20 25 30 35 40 45 50 55 60]\n"
          ]
        }
      ]
    },
    {
      "cell_type": "markdown",
      "source": [
        "5. Create a NumPy array of strings ['python', 'numpy', 'pandas']. Apply different case transformations\n",
        "(uppercase, lowercase, title case, etc.) to each element.  5. Create a NumPy array of strings ['python', 'numpy', 'pandas']. Apply different case transformations\n",
        "(uppercase, lowercase, title case, etc.) to each element.\n"
      ],
      "metadata": {
        "id": "vt4Lw8Gm7BPw"
      }
    },
    {
      "cell_type": "code",
      "source": [
        "import numpy as np\n",
        "\n",
        "# Create the array of strings\n",
        "array = np.array(['python', 'numpy', 'pandas'])\n",
        "\n",
        "# Apply different case transformations\n",
        "uppercase_array = np.char.upper(array)\n",
        "lowercase_array = np.char.lower(array)\n",
        "titlecase_array = np.char.title(array)\n",
        "\n",
        "print(\"Original Array:\", array)\n",
        "print(\"Uppercase:\", uppercase_array)\n",
        "print(\"Lowercase:\", lowercase_array)\n",
        "print(\"Title Case:\", titlecase_array)\n"
      ],
      "metadata": {
        "colab": {
          "base_uri": "https://localhost:8080/"
        },
        "id": "yJbHEHZo7r5p",
        "outputId": "90525086-c85b-409e-e770-562de8e74228"
      },
      "execution_count": 18,
      "outputs": [
        {
          "output_type": "stream",
          "name": "stdout",
          "text": [
            "Original Array: ['python' 'numpy' 'pandas']\n",
            "Uppercase: ['PYTHON' 'NUMPY' 'PANDAS']\n",
            "Lowercase: ['python' 'numpy' 'pandas']\n",
            "Title Case: ['Python' 'Numpy' 'Pandas']\n"
          ]
        }
      ]
    },
    {
      "cell_type": "markdown",
      "source": [
        "6. Generate a NumPy array of words. Insert a space between each character of every word in the array"
      ],
      "metadata": {
        "id": "oxVhpaWc84om"
      }
    },
    {
      "cell_type": "code",
      "source": [
        "import numpy as np\n",
        "words = np.array(['python', 'numpy', 'pandas'])\n",
        "print(\"Original Array:\", words)\n",
        "spaced_words = np.char.join(' ', words)\n",
        "print(\"Spaced Array:\", spaced_words)"
      ],
      "metadata": {
        "colab": {
          "base_uri": "https://localhost:8080/"
        },
        "id": "GaI4aZI_9OjZ",
        "outputId": "e3570a22-69a9-4cdf-82b1-f0031f675f59"
      },
      "execution_count": 22,
      "outputs": [
        {
          "output_type": "stream",
          "name": "stdout",
          "text": [
            "Original Array: ['python' 'numpy' 'pandas']\n",
            "Spaced Array: ['p y t h o n' 'n u m p y' 'p a n d a s']\n"
          ]
        }
      ]
    },
    {
      "cell_type": "markdown",
      "source": [
        "7. Create two 2D NumPy arrays and perform element-wise addition, subtraction, multiplication, and division."
      ],
      "metadata": {
        "id": "B5dHTEuH9rrV"
      }
    },
    {
      "cell_type": "code",
      "source": [
        "import numpy as np\n",
        "array1 = np.array([[1, 2], [3, 4]])\n",
        "array2 = np.array([[5, 6], [7, 8]])\n",
        "addition = array1 + array2\n",
        "subtraction = array1 - array2\n",
        "multiplication = array1 * array2\n",
        "division = array1 / array2\n",
        "print(\"Addition:\\n\", addition)\n",
        "print(\"Subtraction:\\n\", subtraction)\n",
        "print(\"Multiplication:\\n\", multiplication)\n",
        "print(\"Division:\\n\", division)\n"
      ],
      "metadata": {
        "colab": {
          "base_uri": "https://localhost:8080/"
        },
        "id": "kZAHFRG69ukw",
        "outputId": "f24360e4-77b2-4e5a-92d9-e56b97001970"
      },
      "execution_count": 23,
      "outputs": [
        {
          "output_type": "stream",
          "name": "stdout",
          "text": [
            "Addition:\n",
            " [[ 6  8]\n",
            " [10 12]]\n",
            "Subtraction:\n",
            " [[-4 -4]\n",
            " [-4 -4]]\n",
            "Multiplication:\n",
            " [[ 5 12]\n",
            " [21 32]]\n",
            "Division:\n",
            " [[0.2        0.33333333]\n",
            " [0.42857143 0.5       ]]\n"
          ]
        }
      ]
    },
    {
      "cell_type": "markdown",
      "source": [
        "8. Use NumPy to create a 5x5 identity matrix, then extract its diagonal elements."
      ],
      "metadata": {
        "id": "Iwtst1jU-WaW"
      }
    },
    {
      "cell_type": "code",
      "source": [
        "import numpy as np\n",
        "identity_matrix = np.eye(5)\n",
        "print(\"5x5 Identity Matrix:\")\n",
        "print(identity_matrix)\n"
      ],
      "metadata": {
        "colab": {
          "base_uri": "https://localhost:8080/"
        },
        "id": "6cZaM2tH-Vlo",
        "outputId": "9bcaaf51-a97f-46b5-94f4-d866501b47be"
      },
      "execution_count": 24,
      "outputs": [
        {
          "output_type": "stream",
          "name": "stdout",
          "text": [
            "5x5 Identity Matrix:\n",
            "[[1. 0. 0. 0. 0.]\n",
            " [0. 1. 0. 0. 0.]\n",
            " [0. 0. 1. 0. 0.]\n",
            " [0. 0. 0. 1. 0.]\n",
            " [0. 0. 0. 0. 1.]]\n"
          ]
        }
      ]
    },
    {
      "cell_type": "code",
      "source": [
        "diagonal_elements = np.diag(identity_matrix)\n",
        "print(\"Diagonal Elements:\")\n",
        "print(diagonal_elements)"
      ],
      "metadata": {
        "colab": {
          "base_uri": "https://localhost:8080/"
        },
        "id": "C-tPs-RP-cjf",
        "outputId": "afe5e65c-9c3d-4ae6-a212-4aff06fdd710"
      },
      "execution_count": 25,
      "outputs": [
        {
          "output_type": "stream",
          "name": "stdout",
          "text": [
            "Diagonal Elements:\n",
            "[1. 1. 1. 1. 1.]\n"
          ]
        }
      ]
    },
    {
      "cell_type": "markdown",
      "source": [
        "9. Generate a NumPy array of 100 random integers between 0 and 1000. Find and display all prime numbers in\n",
        "this array.\n",
        "\n"
      ],
      "metadata": {
        "id": "o6z9Z2Ll-pm9"
      }
    },
    {
      "cell_type": "code",
      "source": [
        "import numpy as np\n",
        "array = np.random.randint(0, 1000, 100)\n",
        "print(\"Array of 100 Random Integers:\")\n",
        "print(array)\n"
      ],
      "metadata": {
        "colab": {
          "base_uri": "https://localhost:8080/"
        },
        "id": "advQcNs8-qNH",
        "outputId": "49254d4a-a5fd-46fe-fc21-7176557a3e1b"
      },
      "execution_count": 26,
      "outputs": [
        {
          "output_type": "stream",
          "name": "stdout",
          "text": [
            "Array of 100 Random Integers:\n",
            "[231 877 532 218 164 867 255 680 711 573 760 299 309 748  41 144 458 288\n",
            " 587 178 121 935 695 138 746 144 647 634 426  68 388 278 629 288 276 631\n",
            " 637 155  39 293 637 379 246  33 263  62 709 563 584 237   2 454 148 955\n",
            " 756  48 220 686 780  44 493 975 593 820 482 680 872 679 717  26 970 704\n",
            " 193 677 906 216 735 336 727 583 741 598 553  95 625 598 189 527 991 457\n",
            " 205 671 614 514 383 240 358 771 742 534]\n"
          ]
        }
      ]
    },
    {
      "cell_type": "code",
      "source": [
        "def is_prime(n):\n",
        "    if n < 2:\n",
        "        return False\n",
        "    for i in range(2, int(np.sqrt(n)) + 1):\n",
        "        if n % i == 0:\n",
        "            return False\n",
        "    return True\n",
        "    print(\"Prime Numbers:\")\n",
        "prime_numbers = [num for num in array if is_prime(num)]\n",
        "print(prime_numbers)\n"
      ],
      "metadata": {
        "colab": {
          "base_uri": "https://localhost:8080/"
        },
        "id": "iN0JkMHl-tM3",
        "outputId": "2f6e7405-d76c-451e-8abf-2bd97e2d40b2"
      },
      "execution_count": 28,
      "outputs": [
        {
          "output_type": "stream",
          "name": "stdout",
          "text": [
            "[877, 41, 587, 647, 631, 293, 379, 263, 709, 563, 2, 593, 193, 677, 727, 991, 457, 383]\n"
          ]
        }
      ]
    },
    {
      "cell_type": "markdown",
      "source": [
        "10. Create a NumPy array representing daily temperatures for a month. Calculate and display the weekly\n",
        "averages."
      ],
      "metadata": {
        "id": "LzFKCyKI-_kG"
      }
    },
    {
      "cell_type": "code",
      "source": [
        "import numpy as np\n",
        "# Example temperatures between 20 and 35 degrees Celsius\n",
        "daily_temperatures = np.random.randint(20, 36, size=30)\n",
        "print(\"Daily Temperatures for a Month:\")\n",
        "print(daily_temperatures)\n",
        "weekly_temperatures = daily_temperatures[:28].reshape(4, 7)  # Only take the first 28 days for full weeks\n",
        "print(\"\\nTemperatures Reshaped into Weeks:\")\n",
        "print(weekly_temperatures)\n",
        "weekly_temperatures = daily_temperatures[:28].reshape(4, 7)  # Only take the first 28 days for full weeks\n",
        "print(\"\\nTemperatures Reshaped into Weeks:\")\n",
        "print(weekly_temperatures)\n",
        "\n",
        "\n"
      ],
      "metadata": {
        "colab": {
          "base_uri": "https://localhost:8080/"
        },
        "id": "vuuohwuv_JnD",
        "outputId": "ed0cda58-2db5-4a61-de60-11520ac5ac59"
      },
      "execution_count": 33,
      "outputs": [
        {
          "output_type": "stream",
          "name": "stdout",
          "text": [
            "Daily Temperatures for a Month:\n",
            "[34 27 27 27 30 31 20 22 28 23 31 22 27 35 29 32 30 29 34 23 34 28 22 23\n",
            " 28 24 30 20 29 22]\n",
            "\n",
            "Temperatures Reshaped into Weeks:\n",
            "[[34 27 27 27 30 31 20]\n",
            " [22 28 23 31 22 27 35]\n",
            " [29 32 30 29 34 23 34]\n",
            " [28 22 23 28 24 30 20]]\n",
            "\n",
            "Temperatures Reshaped into Weeks:\n",
            "[[34 27 27 27 30 31 20]\n",
            " [22 28 23 31 22 27 35]\n",
            " [29 32 30 29 34 23 34]\n",
            " [28 22 23 28 24 30 20]]\n"
          ]
        }
      ]
    }
  ]
}