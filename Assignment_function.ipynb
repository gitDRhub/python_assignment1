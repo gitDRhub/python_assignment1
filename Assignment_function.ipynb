{
  "nbformat": 4,
  "nbformat_minor": 0,
  "metadata": {
    "colab": {
      "provenance": []
    },
    "kernelspec": {
      "name": "python3",
      "display_name": "Python 3"
    },
    "language_info": {
      "name": "python"
    }
  },
  "cells": [
    {
      "cell_type": "markdown",
      "source": [
        "#Theory Qyestions-"
      ],
      "metadata": {
        "id": "48R8a506B0qi"
      }
    },
    {
      "cell_type": "markdown",
      "source": [
        "Q1.What is the difference between a function and a method in Python?\n",
        "A-i)Functions are not tied to objects or classes.\n",
        "ii)Methods are tied to objects (instance methods) or classes (class methods and static methods).\n",
        "iii)Functions do not have implicit arguments related to the calling context.\n",
        "iv)Methods automatically receive an implicit reference to the instance (self) or class (cls).\n",
        "v)Functions are used in various contexts, including modules and scripts.\n",
        "vi)Methods are used within the context of objects and classes."
      ],
      "metadata": {
        "id": "IJ7doOFGtmzK"
      }
    },
    {
      "cell_type": "code",
      "source": [
        "#example of function\n",
        "def add_numbers(a,b):\n",
        "    return a+b"
      ],
      "metadata": {
        "id": "ULR6oeuPWguU"
      },
      "execution_count": null,
      "outputs": []
    },
    {
      "cell_type": "code",
      "source": [
        "result=add_numbers(8,10)"
      ],
      "metadata": {
        "id": "EuQMdeTUXkTw"
      },
      "execution_count": null,
      "outputs": []
    },
    {
      "cell_type": "code",
      "source": [
        "print(\"The sum is:\",result)"
      ],
      "metadata": {
        "colab": {
          "base_uri": "https://localhost:8080/"
        },
        "id": "KDiSEOzUXsck",
        "outputId": "9a22cc2d-af1b-4824-f92d-113684ff5689"
      },
      "execution_count": null,
      "outputs": [
        {
          "output_type": "stream",
          "name": "stdout",
          "text": [
            "The sum is: 18\n"
          ]
        }
      ]
    },
    {
      "cell_type": "code",
      "source": [
        "#example ofmethod\n",
        "class Greeter:\n",
        "    def greet(self):\n",
        "        return \"Hello!\""
      ],
      "metadata": {
        "id": "2el-4vwX3VYY"
      },
      "execution_count": null,
      "outputs": []
    },
    {
      "cell_type": "code",
      "source": [
        "greeter = Greeter()\n",
        "print(greeter.greet())"
      ],
      "metadata": {
        "colab": {
          "base_uri": "https://localhost:8080/"
        },
        "id": "uq5Nb2s24cKx",
        "outputId": "039a0f20-b9b0-470e-b133-d0e855dbd45c"
      },
      "execution_count": null,
      "outputs": [
        {
          "output_type": "stream",
          "name": "stdout",
          "text": [
            "Hello!\n"
          ]
        }
      ]
    },
    {
      "cell_type": "code",
      "source": [
        " Q2. Explain the concept of function arguments and parameters in Python.\n",
        " A-\n",
        " Parameters:i)Parameters are variables that are listed inside the parentheses in a function definition.\n",
        "ii)They act as placeholders for the values that will be passed into the function when it is called.\n",
        "Arguments:i)Arguments are the actual values that are passed to the function when it is called.\n",
        "ii)These values are assigned to the parameters in the function definition.\n"
      ],
      "metadata": {
        "id": "Hu6wCS6t4jWr"
      },
      "execution_count": null,
      "outputs": []
    },
    {
      "cell_type": "code",
      "source": [
        "#example of parameter\n",
        "def greet(name):  # 'name' is a parameter\n",
        "    return f\"Hello, {name}!\"\n"
      ],
      "metadata": {
        "id": "wsw6JCVv7RO1"
      },
      "execution_count": null,
      "outputs": []
    },
    {
      "cell_type": "code",
      "source": [
        "#example of argument\n",
        "print(greet(\"Shrutarshi\"))"
      ],
      "metadata": {
        "colab": {
          "base_uri": "https://localhost:8080/"
        },
        "id": "cTXULGGS7ji3",
        "outputId": "6a626212-f46f-40c9-95f0-8c79280e201b"
      },
      "execution_count": null,
      "outputs": [
        {
          "output_type": "stream",
          "name": "stdout",
          "text": [
            "Hello, Shrutarshi!\n"
          ]
        }
      ]
    },
    {
      "cell_type": "code",
      "source": [
        "Q3. What are the different ways to define and call a function in Python?\n",
        "A-\n",
        "Defining a Function: You use the def keyword followed by the function name and parentheses to define a function. Inside the parentheses, you can specify parameters.\n",
        "Calling a Function: You call the function by writing its name followed by parentheses and passing arguments (if required).\n"
      ],
      "metadata": {
        "id": "CtnS_qcI7ylc"
      },
      "execution_count": null,
      "outputs": []
    },
    {
      "cell_type": "code",
      "source": [
        "#defining a function\n",
        "def greet(name):\n",
        "    return f\"Hello, {name}!\"\n"
      ],
      "metadata": {
        "id": "ZmoBD5UO9TYM"
      },
      "execution_count": null,
      "outputs": []
    },
    {
      "cell_type": "code",
      "source": [
        "#calling a function\n",
        "print(greet(\"Shrutarshi Maiti\"))"
      ],
      "metadata": {
        "colab": {
          "base_uri": "https://localhost:8080/"
        },
        "id": "3GwH3Ye49gDO",
        "outputId": "9783067e-7ed3-471e-c9f6-ef6f0abead5e"
      },
      "execution_count": null,
      "outputs": [
        {
          "output_type": "stream",
          "name": "stdout",
          "text": [
            "Hello, Shrutarshi Maiti!\n"
          ]
        }
      ]
    },
    {
      "cell_type": "markdown",
      "source": [
        "Q4. What is the purpose of the `return` statement in a Python function?\n",
        "A-The primary purpose of return is to send a value back to the caller of the function. When a function is executed, it can return a result using the return statement."
      ],
      "metadata": {
        "id": "vbNelBLE-FS0"
      }
    },
    {
      "cell_type": "code",
      "source": [
        "#example of return statement\n",
        "def add(a, b):\n",
        "    return a + b"
      ],
      "metadata": {
        "id": "almSEeSz-TcV"
      },
      "execution_count": null,
      "outputs": []
    },
    {
      "cell_type": "code",
      "source": [
        "result = add(30,40)"
      ],
      "metadata": {
        "id": "f7mJ9b1N-U5F"
      },
      "execution_count": null,
      "outputs": []
    },
    {
      "cell_type": "code",
      "source": [
        "print(result)"
      ],
      "metadata": {
        "colab": {
          "base_uri": "https://localhost:8080/"
        },
        "id": "AlwJ0EzO-bgu",
        "outputId": "48591674-906b-4064-c923-b7848d36cf8b"
      },
      "execution_count": null,
      "outputs": [
        {
          "output_type": "stream",
          "name": "stdout",
          "text": [
            "70\n"
          ]
        }
      ]
    },
    {
      "cell_type": "markdown",
      "source": [
        "Q5.What are iterators in Python and how do they differ from iterables?\n",
        "A-An iterable is any object that can return an iterator. These objects implement the __iter__() method. Examples of iterables include lists, tuples, strings, sets, dictionaries, and file objects.\n",
        "Iterable objects can be passed to functions like iter() to get an iterator."
      ],
      "metadata": {
        "id": "aYYSoW8u2Yvx"
      }
    },
    {
      "cell_type": "code",
      "source": [
        "bag=['pudina','dhaniya','imli'] #example of list\n",
        "string=\"Shrutarshi\" #example of string"
      ],
      "metadata": {
        "id": "Aoafu5Uo2YH-"
      },
      "execution_count": null,
      "outputs": []
    },
    {
      "cell_type": "markdown",
      "source": [
        "An iterator is an object that represents a stream of data. It knows how to iterate over an iterable object and is responsible for producing each item one at a time. It implements two methods:\n",
        "__iter__(): Returns the iterator object itself.\n",
        "__next__(): Returns the next element in the sequence. When there are no more items, it raises a StopIteration exception."
      ],
      "metadata": {
        "id": "PAyPay3W3Kil"
      }
    },
    {
      "cell_type": "code",
      "source": [
        "my_list = ['pudina', 'dhaniya','imli'] #example of an iterator\n",
        "my_iterator = iter(my_list)\n",
        "print(next(my_iterator))\n",
        "print(next(my_iterator))\n",
        "print(next(my_iterator))\n"
      ],
      "metadata": {
        "colab": {
          "base_uri": "https://localhost:8080/"
        },
        "id": "y2Zb3yC_3U7y",
        "outputId": "bbdd383c-b355-437c-ad34-02102e19243f"
      },
      "execution_count": null,
      "outputs": [
        {
          "output_type": "stream",
          "name": "stdout",
          "text": [
            "pudina\n",
            "dhaniya\n",
            "imli\n"
          ]
        }
      ]
    },
    {
      "cell_type": "markdown",
      "source": [
        "Q6.Explain the concept of generators in Python and how they are defined.\n",
        "A-In Python, generators are a simple way of creating iterators using functions. They allow you to iterate through a sequence of values without storing the entire sequence in memory. This makes generators very memory-efficient, especially when dealing with large datasets or streams of data.\n",
        "Defining a generator- A generator is defined just like a normal function, but instead of using return to return a value, it uses yield to produce a series of values."
      ],
      "metadata": {
        "id": "5Z0GiYB2367p"
      }
    },
    {
      "cell_type": "code",
      "source": [
        "#generator\n",
        "def simple_generator():\n",
        "    yield 'Mumbai'\n",
        "    yield 'Kolkata'\n",
        "    yield 'Chennai'\n",
        "\n",
        "# Using the generator\n",
        "gen = simple_generator()\n",
        "print(next(gen))\n",
        "print(next(gen))\n",
        "print(next(gen))\n"
      ],
      "metadata": {
        "colab": {
          "base_uri": "https://localhost:8080/"
        },
        "id": "eWq1hEGn4pA4",
        "outputId": "3fa954a8-779c-4f38-9b44-09fd8b9c36c7"
      },
      "execution_count": null,
      "outputs": [
        {
          "output_type": "stream",
          "name": "stdout",
          "text": [
            "Mumbai\n",
            "Kolkata\n",
            "Chennai\n"
          ]
        }
      ]
    },
    {
      "cell_type": "markdown",
      "source": [
        "Q7.What are the advantages of using generators over regular functions?\n",
        "A-Generators in Python offer several advantages over regular functions, especially when dealing with large datasets or streams of data. Here’s a breakdown of the benefits:i)Memory Efficiency ii) Lazy Evaluation iii)Performance iv)Simpler Code for Iteration v)Infinite Sequences vi)"
      ],
      "metadata": {
        "id": "1LnRnuol4_8F"
      }
    },
    {
      "cell_type": "code",
      "source": [
        "#example of regular function\n",
        "def count_up_to(max):\n",
        "    return list(range(1, max + 1))\n",
        "\n",
        "nums = count_up_to(5)\n",
        "for num in nums:\n",
        "    print(num)\n"
      ],
      "metadata": {
        "colab": {
          "base_uri": "https://localhost:8080/"
        },
        "id": "0gq74OnUckUo",
        "outputId": "e004bb70-07ce-41f3-b109-3634e056ff3f"
      },
      "execution_count": null,
      "outputs": [
        {
          "output_type": "stream",
          "name": "stdout",
          "text": [
            "1\n",
            "2\n",
            "3\n",
            "4\n",
            "5\n"
          ]
        }
      ]
    },
    {
      "cell_type": "code",
      "source": [
        "#example of generator function\n",
        "def count_up_to(max):\n",
        "    count = 1\n",
        "    while count <= max:\n",
        "        yield count\n",
        "        count += 1\n",
        "\n",
        "gen = count_up_to(5)\n",
        "for num in gen:\n",
        "    print(num)"
      ],
      "metadata": {
        "colab": {
          "base_uri": "https://localhost:8080/"
        },
        "id": "tvrWb_Z-hO_k",
        "outputId": "7c93f40f-9d88-4b62-8b19-692d33d34b5f"
      },
      "execution_count": null,
      "outputs": [
        {
          "output_type": "stream",
          "name": "stdout",
          "text": [
            "1\n",
            "2\n",
            "3\n",
            "4\n",
            "5\n"
          ]
        }
      ]
    },
    {
      "cell_type": "markdown",
      "source": [
        "Q8. What is a lambda function in Python and when is it typically used?\n",
        "A- A lambda function in Python is a concise way to create anonymous functions, also known as lambda expressions Unlike regular functions defined using the def keyword, lambda functions are often used for short-term operations and are defined in a single line."
      ],
      "metadata": {
        "id": "GxqC8-iVC8qt"
      }
    },
    {
      "cell_type": "code",
      "source": [
        "#use of lambda function\n",
        " square = lambda x: x**2\n",
        " result = square(20)\n",
        " print(result)"
      ],
      "metadata": {
        "colab": {
          "base_uri": "https://localhost:8080/"
        },
        "id": "3d-i9vViDgh6",
        "outputId": "12d79748-f203-4d1b-b07a-ac6ccdd33aa5"
      },
      "execution_count": null,
      "outputs": [
        {
          "output_type": "stream",
          "name": "stdout",
          "text": [
            "400\n"
          ]
        }
      ]
    },
    {
      "cell_type": "markdown",
      "source": [
        " Q9. Explain the purpose and usage of the `map()` function in Python.\n",
        " A-The map() function in Python is used to apply a given function to all items in an iterable (like a list or a tuple) and return a map object (which is an iterator) that yields the results.\n",
        "Purpose-The main purpose of map() is to efficiently apply a function to each item in an iterable without using a loop. This can make the code more concise and, in some cases, more readable."
      ],
      "metadata": {
        "id": "ssIn4B6ME3Fo"
      }
    },
    {
      "cell_type": "code",
      "source": [
        "#usage of map function\n",
        "numbers = [8, 9, 11, 13, 17]\n",
        "def square(x):\n",
        "    return x ** 2\n",
        "\n",
        "squared_numbers = map(square, numbers)\n"
      ],
      "metadata": {
        "id": "d9pMESLvHGMQ"
      },
      "execution_count": null,
      "outputs": []
    },
    {
      "cell_type": "code",
      "source": [
        "squared_numbers_list = list(squared_numbers)\n",
        "\n",
        "print(squared_numbers_list)"
      ],
      "metadata": {
        "colab": {
          "base_uri": "https://localhost:8080/"
        },
        "id": "N3VJw86VHMJ7",
        "outputId": "e72a4fcc-9bef-4584-ed6b-89a78be42847"
      },
      "execution_count": null,
      "outputs": [
        {
          "output_type": "stream",
          "name": "stdout",
          "text": [
            "[64, 81, 121, 169, 289]\n"
          ]
        }
      ]
    },
    {
      "cell_type": "code",
      "source": [],
      "metadata": {
        "id": "kyMJbGkZHVTi"
      },
      "execution_count": null,
      "outputs": []
    },
    {
      "cell_type": "markdown",
      "source": [
        " Q10.What is the difference between `map()`, `reduce()`, and `filter()` functions in Python?\n",
        " A- map()\n",
        "Purpose: To apply a function to each item in an iterable and return an iterator that yields the results.\n",
        "\n",
        "Usage: Use map() when you want to transform each element of an iterable using a given function.\n",
        "reduce()\n",
        "Purpose: To cumulatively apply a binary function (a function that takes two arguments) to the items of an iterable, from left to right, reducing the iterable to a single value.\n",
        "\n",
        "Usage: Use reduce() when you need to aggregate or accumulate values from an iterable into a single result.\n",
        "filter()\n",
        "Purpose: To filter elements of an iterable based on a given predicate function (a function that returns True or False).\n",
        "\n",
        "Usage: Use filter() when you want to select elements from an iterable that satisfy a specific condition."
      ],
      "metadata": {
        "id": "0D6ORwrZMUH-"
      }
    },
    {
      "cell_type": "code",
      "source": [
        "#example of map function\n",
        "numbers = [5, 15, 22, 29, 38]\n",
        "squared_numbers = map(lambda x: x ** 2, numbers)\n",
        "print(list(squared_numbers))\n"
      ],
      "metadata": {
        "colab": {
          "base_uri": "https://localhost:8080/"
        },
        "id": "NFbs_y3fO91E",
        "outputId": "f98737b9-35f3-4e59-efed-006025376442"
      },
      "execution_count": null,
      "outputs": [
        {
          "output_type": "stream",
          "name": "stdout",
          "text": [
            "[25, 225, 484, 841, 1444]\n"
          ]
        }
      ]
    },
    {
      "cell_type": "code",
      "source": [
        "#example of reduce\n",
        "from functools import reduce\n",
        "\n",
        "numbers = [7, 8, 9, 10, 11]\n",
        "sum_of_numbers = reduce(lambda x, y: x + y, numbers)\n",
        "print(sum_of_numbers)\n"
      ],
      "metadata": {
        "colab": {
          "base_uri": "https://localhost:8080/"
        },
        "id": "kTb-Z7w7PBIn",
        "outputId": "6d3e3123-aedf-447d-c461-3274ad6b7c06"
      },
      "execution_count": null,
      "outputs": [
        {
          "output_type": "stream",
          "name": "stdout",
          "text": [
            "45\n"
          ]
        }
      ]
    },
    {
      "cell_type": "code",
      "source": [
        "#example of filter\n",
        "numbers = [1, 2, 3, 4, 5,6,228,243,489,442]\n",
        "even_numbers = filter(lambda x: x % 2 == 0, numbers)\n",
        "print(list(even_numbers))\n"
      ],
      "metadata": {
        "colab": {
          "base_uri": "https://localhost:8080/"
        },
        "id": "LGrT7q_XQfH8",
        "outputId": "b06c6817-d2eb-4636-c160-346fcbcbb897"
      },
      "execution_count": null,
      "outputs": [
        {
          "output_type": "stream",
          "name": "stdout",
          "text": [
            "[2, 4, 6, 228, 442]\n"
          ]
        }
      ]
    },
    {
      "cell_type": "markdown",
      "source": [
        "Q11.Using pen & Paper write the internal mechanism for sum operation using  reduce function on this given  list:[47,11,42,13];\n",
        "A-![WhatsApp Image 2024-09-09 at 11.17.25_8cf58468.jpg](data:image/jpeg;base64,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)"
      ],
      "metadata": {
        "id": "K3Az9dknSVkl"
      }
    },
    {
      "cell_type": "markdown",
      "source": [
        "#PRACTICAL QUESTIONS-\n",
        "\n",
        "Q1. Write a Python function that takes a list of numbers as input and returns the sum of all even numbers in the list.\n",
        "\n"
      ],
      "metadata": {
        "id": "FIjOzhQXiEOS"
      }
    },
    {
      "cell_type": "code",
      "source": [
        "def sum_of_even_numbers(numbers):\n",
        "\n",
        "    total = 0\n",
        "\n",
        "\n",
        "    for num in numbers:\n",
        "\n",
        "        if num % 2 == 0:\n",
        "\n",
        "            total += num\n",
        "\n",
        "\n",
        "    return total\n",
        "numbers = [12,15,18,39,42,49,6]\n",
        "result = sum_of_even_numbers(numbers)\n",
        "print(result)\n"
      ],
      "metadata": {
        "colab": {
          "base_uri": "https://localhost:8080/"
        },
        "id": "oHEJFvOaiw_4",
        "outputId": "991a140a-f1e4-4cd0-ffb0-7d8f019ca1c8"
      },
      "execution_count": null,
      "outputs": [
        {
          "output_type": "stream",
          "name": "stdout",
          "text": [
            "78\n"
          ]
        }
      ]
    },
    {
      "cell_type": "code",
      "source": [],
      "metadata": {
        "id": "g5HIDN0oi-eN"
      },
      "execution_count": null,
      "outputs": []
    },
    {
      "cell_type": "markdown",
      "source": [
        "Q2.Create a Python function that accepts a string and returns the reverse of that string.\n"
      ],
      "metadata": {
        "id": "7I3hzpk_jn_4"
      }
    },
    {
      "cell_type": "code",
      "source": [
        "def reverse_string(s):\n",
        "\n",
        "    return s[::-1]\n",
        "\n",
        "input_string = \"Shru\"\n",
        "reversed_string = reverse_string(input_string)\n",
        "print(reversed_string)\n"
      ],
      "metadata": {
        "colab": {
          "base_uri": "https://localhost:8080/"
        },
        "id": "UEPl1cWhjrNF",
        "outputId": "56da3f15-5198-48e8-86ce-050a663e2f8a"
      },
      "execution_count": null,
      "outputs": [
        {
          "output_type": "stream",
          "name": "stdout",
          "text": [
            "urhS\n"
          ]
        }
      ]
    },
    {
      "cell_type": "markdown",
      "source": [
        "Q3. Implement a Python function that takes a list of integers and returns a new list containing the squares of each number."
      ],
      "metadata": {
        "id": "5dNLvHe6kOsX"
      }
    },
    {
      "cell_type": "code",
      "source": [
        "def square_numbers(numbers):\n",
        "\n",
        "    return [x ** 2 for x in numbers]\n",
        "\n",
        "input_list = [7, 8, 9, 10, 11]\n",
        "squared_list = square_numbers(input_list)\n",
        "print(squared_list)\n"
      ],
      "metadata": {
        "colab": {
          "base_uri": "https://localhost:8080/"
        },
        "id": "qr-fvqM8kawt",
        "outputId": "690d4b4b-4fb9-4631-8ea7-11cecbe579a4"
      },
      "execution_count": null,
      "outputs": [
        {
          "output_type": "stream",
          "name": "stdout",
          "text": [
            "[49, 64, 81, 100, 121]\n"
          ]
        }
      ]
    },
    {
      "cell_type": "markdown",
      "source": [
        "Q4. Write a Python function that checks if a given number is prime or not from 1 to 200."
      ],
      "metadata": {
        "id": "SDU8bwJHkr13"
      }
    },
    {
      "cell_type": "code",
      "source": [
        "def is_prime(n):\n",
        "\n",
        "    if n <= 1:\n",
        "        return False\n",
        "\n",
        "    for i in range(2, int(n**0.5) + 1):\n",
        "        if n % i == 0:\n",
        "            return False\n",
        "    return True\n",
        "\n",
        "def check_prime_range(start, end):\n",
        "\n",
        "    if start < 1 or end > 200:\n",
        "        raise ValueError(\"Range should be between 1 and 200\")\n",
        "    if start > end:\n",
        "        raise ValueError(\"Start of the range should not be greater than the end\")\n",
        "\n",
        "\n",
        "    return [num for num in range(start, end + 1) if is_prime(num)]\n",
        "\n",
        "\n",
        "primes = check_prime_range(1, 200)\n",
        "print(primes)\n"
      ],
      "metadata": {
        "colab": {
          "base_uri": "https://localhost:8080/"
        },
        "id": "UFqBEkGZkv5u",
        "outputId": "020ee03a-f9e0-4006-97fa-d51df3a6d756"
      },
      "execution_count": null,
      "outputs": [
        {
          "output_type": "stream",
          "name": "stdout",
          "text": [
            "[2, 3, 5, 7, 11, 13, 17, 19, 23, 29, 31, 37, 41, 43, 47, 53, 59, 61, 67, 71, 73, 79, 83, 89, 97, 101, 103, 107, 109, 113, 127, 131, 137, 139, 149, 151, 157, 163, 167, 173, 179, 181, 191, 193, 197, 199]\n"
          ]
        }
      ]
    },
    {
      "cell_type": "code",
      "source": [],
      "metadata": {
        "id": "90TXK0qYlCBI"
      },
      "execution_count": null,
      "outputs": []
    },
    {
      "cell_type": "markdown",
      "source": [
        " Q5.Create an iterator class in Python that generates the Fibonacci sequence up to a specified number of terms.\n"
      ],
      "metadata": {
        "id": "YrereosulIMf"
      }
    },
    {
      "cell_type": "code",
      "source": [
        "class FibonacciIterator:\n",
        "    def __init__(self, num_terms):\n",
        "\n",
        "        self.num_terms = num_terms\n",
        "        self.current = 0\n",
        "        self.a, self.b = 0, 1\n",
        "\n",
        "    def __iter__(self):\n",
        "\n",
        "        return self\n",
        "\n",
        "    def __next__(self):\n",
        "\n",
        "        if self.current >= self.num_terms:\n",
        "            raise StopIteration\n",
        "\n",
        "\n",
        "        self.current += 1\n",
        "        fib_number = self.a\n",
        "        self.a, self.b = self.b, self.a + self.b\n",
        "        return fib_number\n",
        "\n",
        "\n",
        "num_terms = 10\n",
        "fibonacci_sequence = FibonacciIterator(num_terms)\n",
        "\n",
        "for number in fibonacci_sequence:\n",
        "    print(number)\n"
      ],
      "metadata": {
        "colab": {
          "base_uri": "https://localhost:8080/"
        },
        "id": "2PTWl7m1lM0u",
        "outputId": "9ed5c220-ac93-4643-94dc-761fbd131205"
      },
      "execution_count": null,
      "outputs": [
        {
          "output_type": "stream",
          "name": "stdout",
          "text": [
            "0\n",
            "1\n",
            "1\n",
            "2\n",
            "3\n",
            "5\n",
            "8\n",
            "13\n",
            "21\n",
            "34\n"
          ]
        }
      ]
    },
    {
      "cell_type": "markdown",
      "source": [
        "Q6. Write a generator function in Python that yields the powers of 2 up to a given exponent."
      ],
      "metadata": {
        "id": "ys4JiDKJmESL"
      }
    },
    {
      "cell_type": "code",
      "source": [
        "def powers_of_two(max_exponent):\n",
        "\n",
        "    exponent = 0\n",
        "\n",
        "    while exponent <= max_exponent:\n",
        "        yield 2 ** exponent\n",
        "        exponent += 1\n",
        "\n",
        "\n",
        "max_exponent = 8\n",
        "for power in powers_of_two(max_exponent):\n",
        "    print(power)\n"
      ],
      "metadata": {
        "colab": {
          "base_uri": "https://localhost:8080/"
        },
        "id": "cxCo8zT7mLrE",
        "outputId": "ebeea766-fee9-4633-9ef7-dd2b607e0355"
      },
      "execution_count": null,
      "outputs": [
        {
          "output_type": "stream",
          "name": "stdout",
          "text": [
            "1\n",
            "2\n",
            "4\n",
            "8\n",
            "16\n",
            "32\n",
            "64\n",
            "128\n",
            "256\n"
          ]
        }
      ]
    },
    {
      "cell_type": "code",
      "source": [
        "Q7. Implement a generator function that reads a file line by line and yields each line as a string."
      ],
      "metadata": {
        "id": "8Cb2fI18mX06"
      },
      "execution_count": null,
      "outputs": []
    },
    {
      "cell_type": "code",
      "source": [
        "def read_file_line_by_line(file_path):\n",
        "    with open(file_path, 'r') as file:\n",
        "        for line in file:\n",
        "            yield line.strip()\n",
        "file_path = 'your_file.txt'\n",
        "\n",
        "for line in read_file_line_by_line(file_path):\n",
        "    print(line)\n"
      ],
      "metadata": {
        "colab": {
          "base_uri": "https://localhost:8080/",
          "height": 314
        },
        "id": "TGwXJcOr0HAK",
        "outputId": "9b7b1a39-3f7a-4e5f-9fe3-affa748d088d"
      },
      "execution_count": null,
      "outputs": [
        {
          "output_type": "error",
          "ename": "FileNotFoundError",
          "evalue": "[Errno 2] No such file or directory: 'your_file.txt'",
          "traceback": [
            "\u001b[0;31m---------------------------------------------------------------------------\u001b[0m",
            "\u001b[0;31mFileNotFoundError\u001b[0m                         Traceback (most recent call last)",
            "\u001b[0;32m<ipython-input-26-4b970a2adc56>\u001b[0m in \u001b[0;36m<cell line: 7>\u001b[0;34m()\u001b[0m\n\u001b[1;32m      5\u001b[0m \u001b[0mfile_path\u001b[0m \u001b[0;34m=\u001b[0m \u001b[0;34m'your_file.txt'\u001b[0m\u001b[0;34m\u001b[0m\u001b[0;34m\u001b[0m\u001b[0m\n\u001b[1;32m      6\u001b[0m \u001b[0;34m\u001b[0m\u001b[0m\n\u001b[0;32m----> 7\u001b[0;31m \u001b[0;32mfor\u001b[0m \u001b[0mline\u001b[0m \u001b[0;32min\u001b[0m \u001b[0mread_file_line_by_line\u001b[0m\u001b[0;34m(\u001b[0m\u001b[0mfile_path\u001b[0m\u001b[0;34m)\u001b[0m\u001b[0;34m:\u001b[0m\u001b[0;34m\u001b[0m\u001b[0;34m\u001b[0m\u001b[0m\n\u001b[0m\u001b[1;32m      8\u001b[0m     \u001b[0mprint\u001b[0m\u001b[0;34m(\u001b[0m\u001b[0mline\u001b[0m\u001b[0;34m)\u001b[0m\u001b[0;34m\u001b[0m\u001b[0;34m\u001b[0m\u001b[0m\n",
            "\u001b[0;32m<ipython-input-26-4b970a2adc56>\u001b[0m in \u001b[0;36mread_file_line_by_line\u001b[0;34m(file_path)\u001b[0m\n\u001b[1;32m      1\u001b[0m \u001b[0;32mdef\u001b[0m \u001b[0mread_file_line_by_line\u001b[0m\u001b[0;34m(\u001b[0m\u001b[0mfile_path\u001b[0m\u001b[0;34m)\u001b[0m\u001b[0;34m:\u001b[0m\u001b[0;34m\u001b[0m\u001b[0;34m\u001b[0m\u001b[0m\n\u001b[0;32m----> 2\u001b[0;31m     \u001b[0;32mwith\u001b[0m \u001b[0mopen\u001b[0m\u001b[0;34m(\u001b[0m\u001b[0mfile_path\u001b[0m\u001b[0;34m,\u001b[0m \u001b[0;34m'r'\u001b[0m\u001b[0;34m)\u001b[0m \u001b[0;32mas\u001b[0m \u001b[0mfile\u001b[0m\u001b[0;34m:\u001b[0m\u001b[0;34m\u001b[0m\u001b[0;34m\u001b[0m\u001b[0m\n\u001b[0m\u001b[1;32m      3\u001b[0m         \u001b[0;32mfor\u001b[0m \u001b[0mline\u001b[0m \u001b[0;32min\u001b[0m \u001b[0mfile\u001b[0m\u001b[0;34m:\u001b[0m\u001b[0;34m\u001b[0m\u001b[0;34m\u001b[0m\u001b[0m\n\u001b[1;32m      4\u001b[0m             \u001b[0;32myield\u001b[0m \u001b[0mline\u001b[0m\u001b[0;34m.\u001b[0m\u001b[0mstrip\u001b[0m\u001b[0;34m(\u001b[0m\u001b[0;34m)\u001b[0m\u001b[0;34m\u001b[0m\u001b[0;34m\u001b[0m\u001b[0m\n\u001b[1;32m      5\u001b[0m \u001b[0mfile_path\u001b[0m \u001b[0;34m=\u001b[0m \u001b[0;34m'your_file.txt'\u001b[0m\u001b[0;34m\u001b[0m\u001b[0;34m\u001b[0m\u001b[0m\n",
            "\u001b[0;31mFileNotFoundError\u001b[0m: [Errno 2] No such file or directory: 'your_file.txt'"
          ]
        }
      ]
    },
    {
      "cell_type": "markdown",
      "source": [
        "Q8.Use a lambda function in Python to sort a list of tuples based on the second element of each tuple."
      ],
      "metadata": {
        "id": "JQF_Tjeb0vis"
      }
    },
    {
      "cell_type": "code",
      "source": [
        "\n",
        "tuples_list = [(1, 4), (3, 1), (5, 3), (2, 2)]\n",
        "\n",
        "\n",
        "sorted_list = sorted(tuples_list, key=lambda x: x[1])\n",
        "\n",
        "print(sorted_list)\n",
        "\n"
      ],
      "metadata": {
        "colab": {
          "base_uri": "https://localhost:8080/"
        },
        "id": "8i55Hz2304CQ",
        "outputId": "8264a4bf-bcd4-47cd-adc4-c5b8738c54c0"
      },
      "execution_count": null,
      "outputs": [
        {
          "output_type": "stream",
          "name": "stdout",
          "text": [
            "[(3, 1), (2, 2), (5, 3), (1, 4)]\n"
          ]
        }
      ]
    },
    {
      "cell_type": "code",
      "source": [],
      "metadata": {
        "id": "uVMMYdcJ1BTr"
      },
      "execution_count": null,
      "outputs": []
    },
    {
      "cell_type": "markdown",
      "source": [
        "Q9.Write a Python program that uses `map()` to convert a list of temperatures from Celsius to Fahrenheit"
      ],
      "metadata": {
        "id": "wXAsnO8N1QF2"
      }
    },
    {
      "cell_type": "code",
      "source": [
        "\n",
        "celsius_to_fahrenheit = lambda celsius: (celsius * 9/5) + 32\n",
        "\n",
        "celsius_temps = [8, 30, 47, 6]\n",
        "\n",
        "\n",
        "fahrenheit_temps = list(map(celsius_to_fahrenheit, celsius_temps))\n",
        "\n",
        "\n",
        "print(fahrenheit_temps)\n"
      ],
      "metadata": {
        "colab": {
          "base_uri": "https://localhost:8080/"
        },
        "id": "F4QaZxnM1TEZ",
        "outputId": "c2bfdf8d-9452-449b-b83e-e6d3ca527717"
      },
      "execution_count": null,
      "outputs": [
        {
          "output_type": "stream",
          "name": "stdout",
          "text": [
            "[46.4, 86.0, 116.6, 42.8]\n"
          ]
        }
      ]
    },
    {
      "cell_type": "markdown",
      "source": [
        "Q10. Create a Python program that uses `filter()` to remove all the vowels from a given string."
      ],
      "metadata": {
        "id": "CUoaQEVADAw7"
      }
    },
    {
      "cell_type": "code",
      "source": [
        "\n",
        "def is_not_vowel(char):\n",
        "    return char.lower() not in 'aeiou'\n",
        "\n",
        "\n",
        "input_string = \"This is a sample string with vowels.\"\n",
        "\n",
        "\n",
        "result = ''.join(filter(is_not_vowel, input_string))\n",
        "\n",
        "\n",
        "print(\"String after removing vowels:\", result)\n",
        "\n",
        "\n",
        "\n"
      ],
      "metadata": {
        "colab": {
          "base_uri": "https://localhost:8080/"
        },
        "id": "oZqDIYDoDG_x",
        "outputId": "1b25304b-9432-4858-9ac1-b84b9ceb53a4"
      },
      "execution_count": null,
      "outputs": [
        {
          "output_type": "stream",
          "name": "stdout",
          "text": [
            "String after removing vowels: Ths s  smpl strng wth vwls.\n"
          ]
        }
      ]
    },
    {
      "cell_type": "markdown",
      "source": [
        " Q11.Imagine an accounting routine used in a book shop. It works on a list with sublists, which look like this:\n"
      ],
      "metadata": {
        "id": "JpH_keGsEqb1"
      }
    },
    {
      "cell_type": "code",
      "source": [
        "# List of orders in the bookshop\n",
        "orders = [\n",
        "    [34587, \"Learning Python, Mark Lutz\", 4, 40.95],\n",
        "    [98762, \"Programming Python, Mark Lutz\", 5, 56.80],\n",
        "    [77226, \"Head First Python, Paul Barry\", 3, 32.95],\n",
        "    [88112, \"Einführung in Python3, Bernd Klein\", 3, 24.99]\n",
        "]\n",
        "\n",
        "# Function to calculate total price with adjustment if under 100 €\n",
        "def calculate_order_totals(orders):\n",
        "    result = []\n",
        "    for order in orders:\n",
        "        order_number = order[0]\n",
        "        quantity = order[2]\n",
        "        price_per_item = order[3]\n",
        "        total_price = quantity * price_per_item\n",
        "\n",
        "        # Add 10 € if the total price is less than 100 €\n",
        "        if total_price < 100:\n",
        "            total_price += 10\n",
        "\n",
        "        result.append((order_number, total_price))\n",
        "    return result\n",
        "\n",
        "# Get the list of 2-tuples with order number and adjusted total price\n",
        "order_totals = calculate_order_totals(orders)\n",
        "\n",
        "# Print the results\n",
        "for order in order_totals:\n",
        "    print(order)\n",
        "\n"
      ],
      "metadata": {
        "colab": {
          "base_uri": "https://localhost:8080/"
        },
        "id": "gGBUyQSVIAEz",
        "outputId": "e4033f71-3077-481b-9446-7d5ec24ac799"
      },
      "execution_count": null,
      "outputs": [
        {
          "output_type": "stream",
          "name": "stdout",
          "text": [
            "(34587, 163.8)\n",
            "(98762, 284.0)\n",
            "(77226, 108.85000000000001)\n",
            "(88112, 84.97)\n"
          ]
        }
      ]
    },
    {
      "cell_type": "code",
      "source": [],
      "metadata": {
        "id": "yNTyvfI4ANUQ"
      },
      "execution_count": null,
      "outputs": []
    },
    {
      "cell_type": "markdown",
      "source": [
        "Write a Python program using lambda and map"
      ],
      "metadata": {
        "id": "QXEZMjB-Ap37"
      }
    },
    {
      "cell_type": "code",
      "source": [
        "# List of orders in the bookshop\n",
        "orders = [\n",
        "    [34587, \"Learning Python, Mark Lutz\", 4, 40.95],\n",
        "    [98762, \"Programming Python, Mark Lutz\", 5, 56.80],\n",
        "    [77226, \"Head First Python, Paul Barry\", 3, 32.95],\n",
        "    [88112, \"Einführung in Python3, Bernd Klein\", 3, 24.99]\n",
        "]\n",
        "\n",
        "# Function to calculate total price with adjustment if under 100 €\n",
        "def calculate_order_totals(orders):\n",
        "    # Define a lambda function to calculate the adjusted total price\n",
        "    calculate_total = lambda order: (order[0], (order[2] * order[3]) + 10 if order[2] * order[3] < 100 else order[2] * order[3])\n",
        "\n",
        "    # Use map to apply the lambda function to each order\n",
        "    result = list(map(calculate_total, orders))\n",
        "    return result\n",
        "\n",
        "# Get the list of 2-tuples with order number and adjusted total price\n",
        "order_totals = calculate_order_totals(orders)\n",
        "\n",
        "# Print the results\n",
        "for order in order_totals:\n",
        "    print(order)\n"
      ],
      "metadata": {
        "colab": {
          "base_uri": "https://localhost:8080/"
        },
        "id": "MPxurHorBFC5",
        "outputId": "442a1828-59d4-4da8-ea5d-488efb31ba81"
      },
      "execution_count": null,
      "outputs": [
        {
          "output_type": "stream",
          "name": "stdout",
          "text": [
            "(34587, 163.8)\n",
            "(98762, 284.0)\n",
            "(77226, 108.85000000000001)\n",
            "(88112, 84.97)\n"
          ]
        }
      ]
    }
  ]
}