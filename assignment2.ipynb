{
  "nbformat": 4,
  "nbformat_minor": 0,
  "metadata": {
    "colab": {
      "provenance": []
    },
    "kernelspec": {
      "name": "python3",
      "display_name": "Python 3"
    },
    "language_info": {
      "name": "python"
    }
  },
  "cells": [
    {
      "cell_type": "markdown",
      "source": [
        "qu1-- Discuss string slicing and provide examples?\n",
        "\n",
        "ans-- String slicing is extracting a portion of a string using a specific range of indices."
      ],
      "metadata": {
        "id": "KQ7PF559mJXQ"
      }
    },
    {
      "cell_type": "code",
      "source": [
        "text = \"Hello, World!\"\n",
        "\n",
        "print(text[0:5])      # 'Hello'\n",
        "print(text[:5])        # 'Hello' (same as above)\n",
        "print(text[7:])        # 'World!'"
      ],
      "metadata": {
        "colab": {
          "base_uri": "https://localhost:8080/"
        },
        "id": "yDpnu4zambT3",
        "outputId": "3a65ea8b-2790-4d19-8932-51d045655124"
      },
      "execution_count": 1,
      "outputs": [
        {
          "output_type": "stream",
          "name": "stdout",
          "text": [
            "Hello\n",
            "Hello\n",
            "World!\n"
          ]
        }
      ]
    },
    {
      "cell_type": "markdown",
      "source": [
        "qu2--Explain the key features of lists in Python.\n",
        "\n",
        "ans-- Ordered,Heterogeneous\n",
        "Dynamic size,mutable collections of elements this the key features of list. Think of shopping lists or task lists. Lists can hold items of various data types (numbers, strings, even other lists!)."
      ],
      "metadata": {
        "id": "Ai3a8Hbwmiru"
      }
    },
    {
      "cell_type": "code",
      "source": [
        "lis = [1,\"debjit\",2.2,True]"
      ],
      "metadata": {
        "id": "3HSltddPnlhp"
      },
      "execution_count": 3,
      "outputs": []
    },
    {
      "cell_type": "code",
      "source": [
        "lis"
      ],
      "metadata": {
        "colab": {
          "base_uri": "https://localhost:8080/"
        },
        "id": "PaPUKYXDoFyB",
        "outputId": "195c6a0e-254c-4c3a-9381-9dc30c95204f"
      },
      "execution_count": 5,
      "outputs": [
        {
          "output_type": "execute_result",
          "data": {
            "text/plain": [
              "[1, 'debjit', 2.2, True]"
            ]
          },
          "metadata": {},
          "execution_count": 5
        }
      ]
    },
    {
      "cell_type": "code",
      "source": [
        "type(lis)"
      ],
      "metadata": {
        "colab": {
          "base_uri": "https://localhost:8080/"
        },
        "id": "yWcmKRngoikr",
        "outputId": "4941e506-e4a7-454b-b48f-5b7f14387d7b"
      },
      "execution_count": 10,
      "outputs": [
        {
          "output_type": "execute_result",
          "data": {
            "text/plain": [
              "list"
            ]
          },
          "metadata": {},
          "execution_count": 10
        }
      ]
    },
    {
      "cell_type": "markdown",
      "source": [
        "qu3. Describe how to access, modify, and delete elements in a list with examples.\n",
        "\n",
        "ans-- Access Elements meaning of Use indexing or slicing and Modify Elements is\n",
        "Change elements via indexing on the other side Delete Elements is\n",
        "Use del keyword\n"
      ],
      "metadata": {
        "id": "Kau4MKmDo_-N"
      }
    },
    {
      "cell_type": "code",
      "source": [
        "my_list = [\"debjit\", 20, 30.30, 40]\n",
        "print(my_list[1])\n",
        "print(my_list[-1])   # Access Elements\n",
        "print(my_list[1:3])"
      ],
      "metadata": {
        "colab": {
          "base_uri": "https://localhost:8080/"
        },
        "id": "gnRsw4Vaqdut",
        "outputId": "506072b2-a045-4f4b-ebc1-9db73210115a"
      },
      "execution_count": 12,
      "outputs": [
        {
          "output_type": "stream",
          "name": "stdout",
          "text": [
            "20\n",
            "40\n",
            "[20, 30.3]\n"
          ]
        }
      ]
    },
    {
      "cell_type": "code",
      "source": [
        "my_list[2] = 35 #modify\n",
        "print(my_list)"
      ],
      "metadata": {
        "colab": {
          "base_uri": "https://localhost:8080/"
        },
        "id": "_7tmfK5-qzx8",
        "outputId": "7c7f40c7-3d10-4590-faa8-cfe337b47679"
      },
      "execution_count": 13,
      "outputs": [
        {
          "output_type": "stream",
          "name": "stdout",
          "text": [
            "['debjit', 20, 35, 40]\n"
          ]
        }
      ]
    },
    {
      "cell_type": "code",
      "source": [
        "del my_list[1]         # Removes element\n",
        "print(my_list)"
      ],
      "metadata": {
        "colab": {
          "base_uri": "https://localhost:8080/"
        },
        "id": "bVoqj05Uq6Q-",
        "outputId": "18854a99-194a-4483-e510-547430ee677a"
      },
      "execution_count": 14,
      "outputs": [
        {
          "output_type": "stream",
          "name": "stdout",
          "text": [
            "['debjit', 35, 40]\n"
          ]
        }
      ]
    },
    {
      "cell_type": "markdown",
      "source": [
        "au4--Compare and contrast tuples and lists with examples.\n",
        "\n",
        "ans--\n",
        "List: Can change mutable\n",
        "Tuple: Can't change immutable\n",
        "List Uses [ ] brackets and tupple uses () this brackets and List Best for data that changes (e.g., shopping cart).\n",
        "Tuple Ideal for fixed data (e.g., coordinates)."
      ],
      "metadata": {
        "id": "CSE_lAKrrGme"
      }
    },
    {
      "cell_type": "code",
      "source": [
        "lis = [1, 2, 3]\n",
        "lis[1] = 5\n",
        "print(lis)  # [1, 5, 3] mutable\n"
      ],
      "metadata": {
        "colab": {
          "base_uri": "https://localhost:8080/"
        },
        "id": "zf9VeXLzt9Xl",
        "outputId": "921959d8-414e-458f-fb08-bbd8a0c115f7"
      },
      "execution_count": 18,
      "outputs": [
        {
          "output_type": "stream",
          "name": "stdout",
          "text": [
            "[1, 5, 3]\n"
          ]
        }
      ]
    },
    {
      "cell_type": "code",
      "source": [
        "tup = (1, 2, 3)\n",
        "tup[1]=5\n",
        "print(tup) #immutable"
      ],
      "metadata": {
        "colab": {
          "base_uri": "https://localhost:8080/",
          "height": 176
        },
        "id": "RJh0HWoQuSrv",
        "outputId": "355100fb-28b8-4484-b62d-1ea6b20ebd3b"
      },
      "execution_count": 20,
      "outputs": [
        {
          "output_type": "error",
          "ename": "TypeError",
          "evalue": "'tuple' object does not support item assignment",
          "traceback": [
            "\u001b[0;31m---------------------------------------------------------------------------\u001b[0m",
            "\u001b[0;31mTypeError\u001b[0m                                 Traceback (most recent call last)",
            "\u001b[0;32m<ipython-input-20-56271180cb17>\u001b[0m in \u001b[0;36m<cell line: 2>\u001b[0;34m()\u001b[0m\n\u001b[1;32m      1\u001b[0m \u001b[0mtup\u001b[0m \u001b[0;34m=\u001b[0m \u001b[0;34m(\u001b[0m\u001b[0;36m1\u001b[0m\u001b[0;34m,\u001b[0m \u001b[0;36m2\u001b[0m\u001b[0;34m,\u001b[0m \u001b[0;36m3\u001b[0m\u001b[0;34m)\u001b[0m\u001b[0;34m\u001b[0m\u001b[0;34m\u001b[0m\u001b[0m\n\u001b[0;32m----> 2\u001b[0;31m \u001b[0mtup\u001b[0m\u001b[0;34m[\u001b[0m\u001b[0;36m1\u001b[0m\u001b[0;34m]\u001b[0m\u001b[0;34m=\u001b[0m\u001b[0;36m5\u001b[0m\u001b[0;34m\u001b[0m\u001b[0;34m\u001b[0m\u001b[0m\n\u001b[0m\u001b[1;32m      3\u001b[0m \u001b[0mprint\u001b[0m\u001b[0;34m(\u001b[0m\u001b[0mtup\u001b[0m\u001b[0;34m)\u001b[0m\u001b[0;34m\u001b[0m\u001b[0;34m\u001b[0m\u001b[0m\n",
            "\u001b[0;31mTypeError\u001b[0m: 'tuple' object does not support item assignment"
          ]
        }
      ]
    },
    {
      "cell_type": "markdown",
      "source": [
        "qu5--5. Describe the key features of sets and provide examples of their use.\n",
        "\n",
        "ans-- set is Unordered No specific order for elements.\n",
        "Unique Elements Duplicates are not allowed.\n",
        "Mutable: You can add or remove elements.\n",
        "Unindexed: Elements can't be accessed via index."
      ],
      "metadata": {
        "id": "nYtSLGXburbN"
      }
    },
    {
      "cell_type": "code",
      "source": [
        "my_set = {1, 2, 3, 4}  # Creating a set\n",
        "my_set.add(5)  # Adds 5 to the set\n",
        "\n",
        "print(my_set)"
      ],
      "metadata": {
        "colab": {
          "base_uri": "https://localhost:8080/"
        },
        "id": "xJF8rDk_vEg4",
        "outputId": "128d6b6d-afd4-45d1-820f-379e08c8d328"
      },
      "execution_count": 21,
      "outputs": [
        {
          "output_type": "stream",
          "name": "stdout",
          "text": [
            "{1, 2, 3, 4, 5}\n"
          ]
        }
      ]
    },
    {
      "cell_type": "code",
      "source": [
        "set1 = {1, 2, 3}\n",
        "set2 = {3, 4, 6}\n",
        "print(set1 & set2)  # Intersection: {3}\n",
        "print(set1 | set2)  # Union: {1, 2, 3, 4, 5}"
      ],
      "metadata": {
        "colab": {
          "base_uri": "https://localhost:8080/"
        },
        "id": "8Mx-xfOGvUBf",
        "outputId": "18871de7-2a9e-4619-8bea-ed0496f73606"
      },
      "execution_count": 23,
      "outputs": [
        {
          "output_type": "stream",
          "name": "stdout",
          "text": [
            "{3}\n",
            "{1, 2, 3, 4, 6}\n"
          ]
        }
      ]
    },
    {
      "cell_type": "markdown",
      "source": [
        "qu6-- Discuss the use cases of tuples and sets in Python programming.\n",
        "\n",
        "ans--Tuples: Best for fixed, structured data.\n",
        "Sets: Great for uniqueness and fast lookups."
      ],
      "metadata": {
        "id": "ifw7ANp1vjcG"
      }
    },
    {
      "cell_type": "code",
      "source": [
        "coord = (10, 20)\n",
        "color = (255, 0, 0)  # Red and mmutable Data: Store constant values (e.g., coordinates or RGB colors)."
      ],
      "metadata": {
        "id": "7WIZqZS5w4eX"
      },
      "execution_count": 24,
      "outputs": []
    },
    {
      "cell_type": "code",
      "source": [
        "type(color)"
      ],
      "metadata": {
        "colab": {
          "base_uri": "https://localhost:8080/"
        },
        "id": "6YOw2HBnxBxP",
        "outputId": "785aa584-133f-4ef9-a798-f5454072e11a"
      },
      "execution_count": 25,
      "outputs": [
        {
          "output_type": "execute_result",
          "data": {
            "text/plain": [
              "tuple"
            ]
          },
          "metadata": {},
          "execution_count": 25
        }
      ]
    },
    {
      "cell_type": "code",
      "source": [
        "items = [1, 2, 2, 3]\n",
        "unique_items = set(items)  # {1, 2, 3} #Remove Duplicates: Get unique items from a list."
      ],
      "metadata": {
        "id": "J6KgxWQTxEyO"
      },
      "execution_count": 26,
      "outputs": []
    },
    {
      "cell_type": "code",
      "source": [
        "type(unique_items)"
      ],
      "metadata": {
        "colab": {
          "base_uri": "https://localhost:8080/"
        },
        "id": "3PmeIXinxL1Y",
        "outputId": "03b0b138-ee7d-4b10-fd52-aa8dc9cfb701"
      },
      "execution_count": 27,
      "outputs": [
        {
          "output_type": "execute_result",
          "data": {
            "text/plain": [
              "set"
            ]
          },
          "metadata": {},
          "execution_count": 27
        }
      ]
    },
    {
      "cell_type": "markdown",
      "source": [
        "qu7--Describe how to add, modify, and delete items in a dictionary with examples.\n",
        "\n",
        "ans--Add: Use direct assignment (dictionary_name[key] = value) or .update() method.\n",
        "Access: Retrieve values using their keys (value = dictionary_name[key]).\n",
        "Remove: Use del dictionary_name[key], .pop(key), or .popitem()."
      ],
      "metadata": {
        "id": "ATxkXWmCxx6R"
      }
    },
    {
      "cell_type": "code",
      "source": [
        "my_dict = {'name': 'Alice'}\n",
        "my_dict['age'] = 30  # Adds new key-value pair\n",
        "print(my_dict)  # {'name': 'Alice', 'age': 30}\n",
        "my_dict['age'] = 31  # Modifies 'age'\n",
        "print(my_dict)  # {'name': 'Alice', 'age': 31}\n",
        "del my_dict['name']  # Removes 'name'\n",
        "print(my_dict)"
      ],
      "metadata": {
        "colab": {
          "base_uri": "https://localhost:8080/"
        },
        "id": "0r4plb76yLTF",
        "outputId": "3ededf02-c3ad-4900-dbce-4e7a860c7af1"
      },
      "execution_count": 28,
      "outputs": [
        {
          "output_type": "stream",
          "name": "stdout",
          "text": [
            "{'name': 'Alice', 'age': 30}\n",
            "{'name': 'Alice', 'age': 31}\n",
            "{'age': 31}\n"
          ]
        }
      ]
    },
    {
      "cell_type": "code",
      "source": [
        "type(my_dict)"
      ],
      "metadata": {
        "colab": {
          "base_uri": "https://localhost:8080/"
        },
        "id": "nl6CiaQEyaNX",
        "outputId": "19ac90e0-bf5b-4613-f98e-a672f4ba598d"
      },
      "execution_count": 29,
      "outputs": [
        {
          "output_type": "execute_result",
          "data": {
            "text/plain": [
              "dict"
            ]
          },
          "metadata": {},
          "execution_count": 29
        }
      ]
    },
    {
      "cell_type": "markdown",
      "source": [
        "qu8--8. Discuss the importance of dictionary keys being immutable and provide examples\n",
        "\n",
        "ans--In Python, dictionary keys must be immutable to ensure the key’s value doesn’t change, which allows for consistent hashing (how Python finds keys quickly). If keys were mutable, it could break lookups and data integrity."
      ],
      "metadata": {
        "id": "XgPDKETuyecZ"
      }
    },
    {
      "cell_type": "code",
      "source": [
        "my_dict = {1: \"one\", (2, 3): \"tuple key\", \"name\": \"Alice\"}\n",
        "print(my_dict[(2, 3)])"
      ],
      "metadata": {
        "colab": {
          "base_uri": "https://localhost:8080/"
        },
        "id": "mGlFC78ry9kg",
        "outputId": "d7037c35-986e-4a47-fc3f-80e357f668bd"
      },
      "execution_count": 30,
      "outputs": [
        {
          "output_type": "stream",
          "name": "stdout",
          "text": [
            "tuple key\n"
          ]
        }
      ]
    }
  ]
}