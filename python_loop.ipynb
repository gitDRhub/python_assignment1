{
  "nbformat": 4,
  "nbformat_minor": 0,
  "metadata": {
    "colab": {
      "provenance": []
    },
    "kernelspec": {
      "name": "python3",
      "display_name": "Python 3"
    },
    "language_info": {
      "name": "python"
    }
  },
  "cells": [
    {
      "cell_type": "markdown",
      "source": [
        "**1 Explain with an example each when to use a for loop and a while loop.**\n",
        "\n",
        "Ans.A for loop is used to repeat a block of code a fixed number of times, especially when you are looping over a sequence like a list, string, tuple, or a range of numbers."
      ],
      "metadata": {
        "id": "P_WOTqxhGXGE"
      }
    },
    {
      "cell_type": "code",
      "source": [
        "for i in range(1, 6):\n",
        "    print(i)"
      ],
      "metadata": {
        "colab": {
          "base_uri": "https://localhost:8080/"
        },
        "id": "OQ7danuhGaOe",
        "outputId": "8cd9b4a6-9e4e-489f-a98b-acd733d8cc15"
      },
      "execution_count": 1,
      "outputs": [
        {
          "output_type": "stream",
          "name": "stdout",
          "text": [
            "1\n",
            "2\n",
            "3\n",
            "4\n",
            "5\n"
          ]
        }
      ]
    },
    {
      "cell_type": "markdown",
      "source": [
        "**Ans.**A while loop is used to repeat a block of code as long as a given condition is true.\n",
        "Unlike a for loop, you don’t need to know in advance how many times it will run **bold text**\n"
      ],
      "metadata": {
        "id": "oVLs_PrOHKA4"
      }
    },
    {
      "cell_type": "code",
      "source": [
        "correct_password = \"pwskills\"\n",
        "user_input = \"\"\n",
        "\n",
        "while user_input != correct_password:\n",
        "    user_input = input(\"Enter password: \")\n",
        "\n",
        "print(\"Access granted!\")"
      ],
      "metadata": {
        "colab": {
          "base_uri": "https://localhost:8080/"
        },
        "id": "k_l7_Iw-HOwO",
        "outputId": "6ec18755-f227-4aff-c652-57104dfa52c3"
      },
      "execution_count": 5,
      "outputs": [
        {
          "output_type": "stream",
          "name": "stdout",
          "text": [
            "Enter password: pwskills\n",
            "Access granted!\n"
          ]
        }
      ]
    },
    {
      "cell_type": "markdown",
      "source": [
        "**2.Write a python program to print the sum and product of the first 10 natural numbers using for and while loop.**"
      ],
      "metadata": {
        "id": "1JoSgMVBGs6X"
      }
    },
    {
      "cell_type": "code",
      "source": [
        "sum_ = 0\n",
        "product = 1\n",
        "\n",
        "for i in range(1, 11):\n",
        "    sum_ += i\n",
        "    product *= i\n",
        "\n",
        "print(\"Sum of first 10 natural numbers:\", sum_)\n",
        "print(\"Product of first 10 natural numbers:\", product)"
      ],
      "metadata": {
        "colab": {
          "base_uri": "https://localhost:8080/"
        },
        "id": "3JJn8kYOGwND",
        "outputId": "4a5e01c2-1f19-4ecb-ad4b-2074f75798cf"
      },
      "execution_count": 2,
      "outputs": [
        {
          "output_type": "stream",
          "name": "stdout",
          "text": [
            "Sum of first 10 natural numbers: 55\n",
            "Product of first 10 natural numbers: 3628800\n"
          ]
        }
      ]
    },
    {
      "cell_type": "markdown",
      "source": [
        "Write a python program to print the sum and product of the first 10 natural numbers using for\n",
        "and while loop. **bold text**"
      ],
      "metadata": {
        "id": "kAGgoKwjG9cg"
      }
    },
    {
      "cell_type": "markdown",
      "source": [
        "4.**Create a list of numbers from 1 to 100. Use for loop and while loop to calculate the cube of each number and if the cube of that number is divisible by 4 or 5 then append that number in a list and print that list.**"
      ],
      "metadata": {
        "id": "gzsojC77HqEg"
      }
    },
    {
      "cell_type": "code",
      "source": [
        "result_list = []\n",
        "\n",
        "for num in range(1, 101):\n",
        "    cube = num ** 3\n",
        "    if cube % 4 == 0 or cube % 5 == 0:\n",
        "        result_list.append(num)\n",
        "\n",
        "print(\"Result using for loop:\")\n",
        "print(result_list)"
      ],
      "metadata": {
        "colab": {
          "base_uri": "https://localhost:8080/"
        },
        "id": "yxuwNCMHHrvr",
        "outputId": "32430782-9ece-4045-a6a8-749d319b9123"
      },
      "execution_count": 6,
      "outputs": [
        {
          "output_type": "stream",
          "name": "stdout",
          "text": [
            "Result using for loop:\n",
            "[2, 4, 5, 6, 8, 10, 12, 14, 15, 16, 18, 20, 22, 24, 25, 26, 28, 30, 32, 34, 35, 36, 38, 40, 42, 44, 45, 46, 48, 50, 52, 54, 55, 56, 58, 60, 62, 64, 65, 66, 68, 70, 72, 74, 75, 76, 78, 80, 82, 84, 85, 86, 88, 90, 92, 94, 95, 96, 98, 100]\n"
          ]
        }
      ]
    },
    {
      "cell_type": "code",
      "source": [
        "result_list = []\n",
        "num = 1\n",
        "\n",
        "while num <= 100:\n",
        "    cube = num ** 3\n",
        "    if cube % 4 == 0 or cube % 5 == 0:\n",
        "        result_list.append(num)\n",
        "    num += 1\n",
        "\n",
        "print(\"Result using while loop:\")\n",
        "print(result_list)"
      ],
      "metadata": {
        "colab": {
          "base_uri": "https://localhost:8080/"
        },
        "id": "LDTxOrmAIGfN",
        "outputId": "24fd047d-1cfd-43b3-e9a9-6fc94ac25974"
      },
      "execution_count": 10,
      "outputs": [
        {
          "output_type": "stream",
          "name": "stdout",
          "text": [
            "Result using while loop:\n",
            "[2, 4, 5, 6, 8, 10, 12, 14, 15, 16, 18, 20, 22, 24, 25, 26, 28, 30, 32, 34, 35, 36, 38, 40, 42, 44, 45, 46, 48, 50, 52, 54, 55, 56, 58, 60, 62, 64, 65, 66, 68, 70, 72, 74, 75, 76, 78, 80, 82, 84, 85, 86, 88, 90, 92, 94, 95, 96, 98, 100]\n"
          ]
        }
      ]
    },
    {
      "cell_type": "markdown",
      "source": [
        "**5.Write a program to filter count vowels in the below-given string. string = \"I want to become a data scientist\"**"
      ],
      "metadata": {
        "id": "Zx5Z-2JOHxg2"
      }
    },
    {
      "cell_type": "code",
      "source": [
        "string = \"I want to become a data scientist\"\n",
        "\n",
        "# Define vowels\n",
        "vowels = \"aeiouAEIOU\"\n",
        "\n",
        "# Initialize count\n",
        "count = 0\n",
        "\n",
        "# Loop through each character in the string\n",
        "for char in string:\n",
        "    if char in vowels:\n",
        "        count += 1\n",
        "\n",
        "# Print the number of vowels\n",
        "print(\"Number of vowels:\", count)"
      ],
      "metadata": {
        "colab": {
          "base_uri": "https://localhost:8080/"
        },
        "id": "q3QfZvI9H-81",
        "outputId": "53e2c352-3221-40ec-82d7-cc14ff35b93f"
      },
      "execution_count": 11,
      "outputs": [
        {
          "output_type": "stream",
          "name": "stdout",
          "text": [
            "Number of vowels: 12\n"
          ]
        }
      ]
    }
  ]
}