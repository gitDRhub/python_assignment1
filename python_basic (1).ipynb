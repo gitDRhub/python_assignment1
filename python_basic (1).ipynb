{
  "nbformat": 4,
  "nbformat_minor": 0,
  "metadata": {
    "colab": {
      "provenance": []
    },
    "kernelspec": {
      "name": "python3",
      "display_name": "Python 3"
    },
    "language_info": {
      "name": "python"
    }
  },
  "cells": [
    {
      "cell_type": "code",
      "execution_count": null,
      "metadata": {
        "id": "DT8ni06vvzx-"
      },
      "outputs": [],
      "source": []
    },
    {
      "cell_type": "markdown",
      "source": [
        "1.Explain the key features of Python that make it a popular choice for programming.\n",
        "\n",
        "ans--Python is popular for its simplicity and readability, making it easy for beginners and experts alike. It supports multiple programming paradigms, including object-oriented, procedural, and functional programming. Python has a vast collection of libraries and frameworks for tasks like web development, data analysis, and machine learning."
      ],
      "metadata": {
        "id": "g0v7DdjdxR5Y"
      }
    },
    {
      "cell_type": "markdown",
      "source": [
        "2.Describe the role of predefined keywords in Python and provide examples of how they are used in a program?\n",
        "\n",
        "ans--Keywords are reserved words in Python that have special meanings and cannot be used as identifiers (variable names, function names, etc.).\n",
        "Examples of keywords include if, else, while, for, def, class, import, try, except, return, True, False, None, etc.\n"
      ],
      "metadata": {
        "id": "YGgh-fMK0pIf"
      }
    },
    {
      "cell_type": "code",
      "source": [
        "a = \"Debjit\"\n"
      ],
      "metadata": {
        "id": "56BSvocG8-En"
      },
      "execution_count": null,
      "outputs": []
    },
    {
      "cell_type": "code",
      "source": [
        "a\n"
      ],
      "metadata": {
        "colab": {
          "base_uri": "https://localhost:8080/",
          "height": 35
        },
        "id": "_p840P8rAwea",
        "outputId": "3f5bac07-6026-4274-a401-4de7833d8856"
      },
      "execution_count": null,
      "outputs": [
        {
          "output_type": "execute_result",
          "data": {
            "text/plain": [
              "'Debjit'"
            ],
            "application/vnd.google.colaboratory.intrinsic+json": {
              "type": "string"
            }
          },
          "metadata": {},
          "execution_count": 30
        }
      ]
    },
    {
      "cell_type": "code",
      "source": [
        "del type  # Delete the variable named 'type'\n",
        "type(a)"
      ],
      "metadata": {
        "colab": {
          "base_uri": "https://localhost:8080/"
        },
        "id": "0t-UBYJ8B5mt",
        "outputId": "627a829b-8557-4dbd-85a5-00e76b4684bb"
      },
      "execution_count": null,
      "outputs": [
        {
          "output_type": "execute_result",
          "data": {
            "text/plain": [
              "str"
            ]
          },
          "metadata": {},
          "execution_count": 32
        }
      ]
    },
    {
      "cell_type": "code",
      "source": [
        "b=34\n"
      ],
      "metadata": {
        "id": "ixGU_O52B9wW"
      },
      "execution_count": null,
      "outputs": []
    },
    {
      "cell_type": "code",
      "source": [
        "b\n"
      ],
      "metadata": {
        "colab": {
          "base_uri": "https://localhost:8080/"
        },
        "id": "t88skJVVCKUl",
        "outputId": "7c6eccee-c95a-41c9-9702-83e13e39043d"
      },
      "execution_count": null,
      "outputs": [
        {
          "output_type": "execute_result",
          "data": {
            "text/plain": [
              "34"
            ]
          },
          "metadata": {},
          "execution_count": 35
        }
      ]
    },
    {
      "cell_type": "code",
      "source": [
        "for i in range(3):\n",
        "    print(i+1)"
      ],
      "metadata": {
        "colab": {
          "base_uri": "https://localhost:8080/"
        },
        "id": "yH55qwY2Bcrv",
        "outputId": "eba896bc-40f7-4100-a4bd-5394fc496daf"
      },
      "execution_count": null,
      "outputs": [
        {
          "output_type": "stream",
          "name": "stdout",
          "text": [
            "1\n",
            "2\n",
            "3\n"
          ]
        }
      ]
    },
    {
      "cell_type": "code",
      "source": [
        "if 2 > 10:\n",
        "    print(\"Greater\")\n",
        "else:\n",
        "    print(\"Smaller\")"
      ],
      "metadata": {
        "colab": {
          "base_uri": "https://localhost:8080/"
        },
        "id": "fq_pRWRB_djp",
        "outputId": "4869886f-8649-4683-f763-8789bc8f59e4"
      },
      "execution_count": null,
      "outputs": [
        {
          "output_type": "stream",
          "name": "stdout",
          "text": [
            "Smaller\n"
          ]
        }
      ]
    },
    {
      "cell_type": "markdown",
      "source": [
        "3.Compare and contrast mutable and immutable objects in Python with examples.\n",
        "\n",
        "ans--In Python, objects can be either changeable modifiable or unchangeable unchangeable.\n",
        "mutable--Mutable objects, such as lists and dictionaries, can be modified after creation,"
      ],
      "metadata": {
        "id": "molVewZ-1h_K"
      }
    },
    {
      "cell_type": "code",
      "source": [
        "list = [1, 2, 3]\n",
        "list[0] = 4\n",
        "print(list) #mutable example\n"
      ],
      "metadata": {
        "colab": {
          "base_uri": "https://localhost:8080/"
        },
        "id": "eGHaPuaJQsT3",
        "outputId": "0f934560-4a92-4a76-e9d8-8a91a0d31e90"
      },
      "execution_count": null,
      "outputs": [
        {
          "output_type": "stream",
          "name": "stdout",
          "text": [
            "[4, 2, 3]\n"
          ]
        }
      ]
    },
    {
      "cell_type": "code",
      "source": [
        "b = \"pwskills\"\n",
        "\n",
        "b[0] = \"I\" #immutable object\n",
        "print(b)"
      ],
      "metadata": {
        "colab": {
          "base_uri": "https://localhost:8080/",
          "height": 193
        },
        "id": "GVUxkk9LTafe",
        "outputId": "15490cc6-6c86-4078-e6cb-3ea034d59edf"
      },
      "execution_count": null,
      "outputs": [
        {
          "output_type": "error",
          "ename": "TypeError",
          "evalue": "'str' object does not support item assignment",
          "traceback": [
            "\u001b[0;31m---------------------------------------------------------------------------\u001b[0m",
            "\u001b[0;31mTypeError\u001b[0m                                 Traceback (most recent call last)",
            "\u001b[0;32m<ipython-input-11-58c21860a3ca>\u001b[0m in \u001b[0;36m<cell line: 3>\u001b[0;34m()\u001b[0m\n\u001b[1;32m      1\u001b[0m \u001b[0mb\u001b[0m \u001b[0;34m=\u001b[0m \u001b[0;34m\"pwskills\"\u001b[0m\u001b[0;34m\u001b[0m\u001b[0;34m\u001b[0m\u001b[0m\n\u001b[1;32m      2\u001b[0m \u001b[0;34m\u001b[0m\u001b[0m\n\u001b[0;32m----> 3\u001b[0;31m \u001b[0mb\u001b[0m\u001b[0;34m[\u001b[0m\u001b[0;36m0\u001b[0m\u001b[0;34m]\u001b[0m \u001b[0;34m=\u001b[0m \u001b[0;34m\"I\"\u001b[0m\u001b[0;34m\u001b[0m\u001b[0;34m\u001b[0m\u001b[0m\n\u001b[0m\u001b[1;32m      4\u001b[0m \u001b[0mprint\u001b[0m\u001b[0;34m(\u001b[0m\u001b[0mb\u001b[0m\u001b[0;34m)\u001b[0m\u001b[0;34m\u001b[0m\u001b[0;34m\u001b[0m\u001b[0m\n",
            "\u001b[0;31mTypeError\u001b[0m: 'str' object does not support item assignment"
          ]
        }
      ]
    },
    {
      "cell_type": "markdown",
      "source": [
        "4.Discuss the different types of operators in Python and provide examples of how they are used.\n",
        "\n",
        "ans--Operators are special symbols or keywords that are used to carry out specific actions on numbers or variables in Python expressions\n",
        "arithmetic operators (+, -, *, /), comparison operators (==, !=, <, >), logical operators (and, or, not), assignment operators (=, +=, -=, *=, /=),"
      ],
      "metadata": {
        "id": "4bOSzWDP3VcH"
      }
    },
    {
      "cell_type": "code",
      "source": [
        "a=5\n",
        "b=10\n",
        "print (a+b)        #arithmetic operators\n",
        "print (a-b)\n",
        "\n",
        "\n"
      ],
      "metadata": {
        "colab": {
          "base_uri": "https://localhost:8080/"
        },
        "id": "mQ5DvO6xWf4l",
        "outputId": "beb4cb2c-f9fc-4bf7-dc26-af6769cce56b"
      },
      "execution_count": null,
      "outputs": [
        {
          "output_type": "stream",
          "name": "stdout",
          "text": [
            "15\n",
            "-5\n"
          ]
        }
      ]
    },
    {
      "cell_type": "code",
      "source": [
        "x = 10      #assignment operators\n",
        "x += 5\n",
        "print(x)"
      ],
      "metadata": {
        "colab": {
          "base_uri": "https://localhost:8080/"
        },
        "id": "CHr7RCgs8C3l",
        "outputId": "1b9477e5-5103-4430-ab3a-24b38eca4902"
      },
      "execution_count": null,
      "outputs": [
        {
          "output_type": "stream",
          "name": "stdout",
          "text": [
            "15\n"
          ]
        }
      ]
    },
    {
      "cell_type": "code",
      "source": [
        "a=(10 > 5) and (5 < 3)   #logical operators\n",
        "print(a)"
      ],
      "metadata": {
        "colab": {
          "base_uri": "https://localhost:8080/"
        },
        "id": "p-LK9E_3721A",
        "outputId": "23673ecc-9ee3-4455-fad2-4ff0e6d2ba7f"
      },
      "execution_count": null,
      "outputs": [
        {
          "output_type": "stream",
          "name": "stdout",
          "text": [
            "False\n"
          ]
        }
      ]
    },
    {
      "cell_type": "markdown",
      "source": [],
      "metadata": {
        "id": "tHCg6BbL72mR"
      }
    },
    {
      "cell_type": "code",
      "source": [
        "a=2             #comparison operators\n",
        "2==2\n"
      ],
      "metadata": {
        "colab": {
          "base_uri": "https://localhost:8080/"
        },
        "id": "XOeqnOg7Xfed",
        "outputId": "b947fd3b-2879-4d10-dd79-928f8963891e"
      },
      "execution_count": null,
      "outputs": [
        {
          "output_type": "execute_result",
          "data": {
            "text/plain": [
              "True"
            ]
          },
          "metadata": {},
          "execution_count": 18
        }
      ]
    },
    {
      "cell_type": "markdown",
      "source": [
        "5.Explain the concept of type casting in Python with examples?\n",
        "\n",
        "ans--Type casting, also referred to as type conversion, is the process of changing one data type to another in Python."
      ],
      "metadata": {
        "id": "UkJL5iUA4bKq"
      }
    },
    {
      "cell_type": "code",
      "source": [
        "x = 5\n",
        "y = 2.0\n",
        "c = x + y  # x is implicitly converted to float, result is 7.0\n",
        "print(c)"
      ],
      "metadata": {
        "colab": {
          "base_uri": "https://localhost:8080/"
        },
        "id": "hExZd98gCoZ_",
        "outputId": "272233e9-3623-4f8f-c734-bd31e47b4e30"
      },
      "execution_count": null,
      "outputs": [
        {
          "output_type": "stream",
          "name": "stdout",
          "text": [
            "7.0\n"
          ]
        }
      ]
    },
    {
      "cell_type": "markdown",
      "source": [
        "6.How do conditional statements work in Python? Illustrate with examples.\n",
        "\n",
        "ans-- Conditionals statements  in Python are used to execute code based on the evaluation of one or more conditions.\n",
        "example\n"
      ],
      "metadata": {
        "id": "Ju9E-1jB4wbz"
      }
    },
    {
      "cell_type": "code",
      "source": [
        "x = 10\n",
        "if x > 15:\n",
        "    print(\"Greater than 15\")\n",
        "elif x == 10:\n",
        "    print(\"Equal to 10\")\n",
        "else:\n",
        "    print(\"Less than 10\")\n"
      ],
      "metadata": {
        "colab": {
          "base_uri": "https://localhost:8080/"
        },
        "id": "D-WVUPkQ8Plu",
        "outputId": "fd8a0590-74a9-41ae-8291-be2bb6e3b098"
      },
      "execution_count": null,
      "outputs": [
        {
          "output_type": "stream",
          "name": "stdout",
          "text": [
            "Equal to 10\n"
          ]
        }
      ]
    },
    {
      "cell_type": "markdown",
      "source": [],
      "metadata": {
        "id": "WQVCFYxb5VAl"
      }
    },
    {
      "cell_type": "markdown",
      "source": [
        "7. Describe the different types of loops in Python and their use cases with examples?\n",
        "\n",
        "ans-- In Python loops are employed to repeat a sequence of actions or code until a specific condition is fulfilled.\n",
        "Python are two types of loops: 1.for loops and 2.while loops."
      ],
      "metadata": {
        "id": "DOTWafdt5XWA"
      }
    },
    {
      "cell_type": "code",
      "source": [
        "for i in range(5):  #for loop\n",
        "    print(i)"
      ],
      "metadata": {
        "colab": {
          "base_uri": "https://localhost:8080/"
        },
        "id": "9BuFRzf78pdb",
        "outputId": "eca69c14-7d47-4083-fa4d-b777ba5f55af"
      },
      "execution_count": null,
      "outputs": [
        {
          "output_type": "stream",
          "name": "stdout",
          "text": [
            "0\n",
            "1\n",
            "2\n",
            "3\n",
            "4\n"
          ]
        }
      ]
    },
    {
      "cell_type": "code",
      "source": [
        "i = 0\n",
        "while i < 5:\n",
        "    print(i)  # while loop\n",
        "    i += 1\n"
      ],
      "metadata": {
        "colab": {
          "base_uri": "https://localhost:8080/"
        },
        "id": "GgWtEM5J8sWc",
        "outputId": "32ebf391-d624-46e3-8b7b-e0e2dae2219e"
      },
      "execution_count": null,
      "outputs": [
        {
          "output_type": "stream",
          "name": "stdout",
          "text": [
            "0\n",
            "1\n",
            "2\n",
            "3\n",
            "4\n"
          ]
        }
      ]
    },
    {
      "cell_type": "code",
      "source": [
        "for i in range(10):\n",
        "    for j in range(i+1):\n",
        "        print(\"*\", end = \"\")\n",
        "    print()"
      ],
      "metadata": {
        "id": "NMdbht2_Gd8A",
        "colab": {
          "base_uri": "https://localhost:8080/"
        },
        "outputId": "d34df19f-efc8-4cac-e642-ba233ba4c4f6"
      },
      "execution_count": 12,
      "outputs": [
        {
          "output_type": "stream",
          "name": "stdout",
          "text": [
            "*\n",
            "**\n",
            "***\n",
            "****\n",
            "*****\n",
            "******\n",
            "*******\n",
            "********\n",
            "*********\n",
            "**********\n"
          ]
        }
      ]
    }
  ]
}