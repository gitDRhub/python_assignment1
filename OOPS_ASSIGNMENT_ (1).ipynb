{
  "nbformat": 4,
  "nbformat_minor": 0,
  "metadata": {
    "colab": {
      "provenance": []
    },
    "kernelspec": {
      "name": "python3",
      "display_name": "Python 3"
    },
    "language_info": {
      "name": "python"
    }
  },
  "cells": [
    {
      "cell_type": "markdown",
      "source": [
        "q1--What are the five key concepts of Object-Oriented Programming (OOP)?\n",
        "\n",
        "ans--\n",
        "1.Encapsulation: Restricting access to certain parts of an object and only allowing interaction through specified methods.\n",
        "2.Abstraction: Simplifying complex systems by showing only essential features and hiding the details.\n",
        "3.Inheritance: Allowing one class to acquire the properties and methods of another class.\n",
        "4.Polymorphism: Letting different objects respond to the same function or method in different ways.\n",
        "5.Modularity: Dividing a program into smaller parts (modules) that can be independently developed and tested.\n"
      ],
      "metadata": {
        "id": "5QM8oLHZ3TYN"
      }
    },
    {
      "cell_type": "markdown",
      "source": [
        "q2-- Write a Python class for a `Car` with attributes for `make`, `model`, and `year`. Include a method to display\n",
        "the car's information."
      ],
      "metadata": {
        "id": "xCEgLySg6NNj"
      }
    },
    {
      "cell_type": "code",
      "source": [
        "class Car:\n",
        "    def __init__(self, make, model, year):\n",
        "        self.make = make\n",
        "        self.model = model\n",
        "        self.year = year\n",
        "\n",
        "    def display_info(self):\n",
        "        print(f\"Car: {self.year} {self.make} {self.model}\")\n",
        "\n",
        "my_car = Car(\"Toyota\", \"Camry\", 2021)\n",
        "my_car.display_info()\n"
      ],
      "metadata": {
        "colab": {
          "base_uri": "https://localhost:8080/"
        },
        "id": "iLN6hXnX6c_P",
        "outputId": "74f8e6d9-e12e-4fc2-9197-b1a2bbdce0c3"
      },
      "execution_count": null,
      "outputs": [
        {
          "output_type": "stream",
          "name": "stdout",
          "text": [
            "Car: 2021 Toyota Camry\n"
          ]
        }
      ]
    },
    {
      "cell_type": "markdown",
      "source": [
        "q3--Explain the difference between instance methods and class methods. Provide an example of each.\n",
        "\n",
        "ans--Instance Method: A method that works on an instance of the class and can access the instance's attributes. Example:\n",
        "\n",
        "\n"
      ],
      "metadata": {
        "id": "5KrdXWnV7r5t"
      }
    },
    {
      "cell_type": "code",
      "source": [
        "class Dog:\n",
        "    def __init__(self, name):\n",
        "        self.name = name\n",
        "\n",
        "    def bark(self):\n",
        "        return f\"{self.name} says woof!\""
      ],
      "metadata": {
        "id": "s4ko71YO75s_"
      },
      "execution_count": null,
      "outputs": []
    },
    {
      "cell_type": "markdown",
      "source": [
        "Definition: Class methods are associated with the class itself rather than any particular instance. They take cls as the first parameter, which refers to the class. Class methods can modify class state that applies across all instances."
      ],
      "metadata": {
        "id": "O2dorwoE_QTm"
      }
    },
    {
      "cell_type": "code",
      "source": [
        "class Dog:\n",
        "    species = \"Canis familiaris\"\n",
        "\n",
        "    @classmethod\n",
        "    def get_species(cls):\n",
        "        return cls.species"
      ],
      "metadata": {
        "id": "ZHY9ECJD_RI5"
      },
      "execution_count": null,
      "outputs": []
    },
    {
      "cell_type": "markdown",
      "source": [
        "q4--How does Python implement method overloading? Give an example.\n",
        "\n",
        "ans--Python Method Overloading: Python does not support traditional method overloading (i.e., multiple methods with the same name but different signatures). Instead, you can achieve similar functionality using default arguments or by checking the types of arguments within a single"
      ],
      "metadata": {
        "id": "7sVGxAwq_SzK"
      }
    },
    {
      "cell_type": "code",
      "source": [
        "class Calculator:\n",
        "    def add(self, a, b, c=0):\n",
        "        return a + b + c\n",
        "\n",
        "calc = Calculator()\n",
        "print(calc.add(10, 20))      # Output: 30\n",
        "print(calc.add(10, 20, 30))  # Output: 60"
      ],
      "metadata": {
        "colab": {
          "base_uri": "https://localhost:8080/"
        },
        "id": "iVVGQtFv_f5p",
        "outputId": "275d30b6-dfbb-4a3e-e26f-e4faa6479163"
      },
      "execution_count": null,
      "outputs": [
        {
          "output_type": "stream",
          "name": "stdout",
          "text": [
            "30\n",
            "60\n"
          ]
        }
      ]
    },
    {
      "cell_type": "markdown",
      "source": [
        "q5--What are the three types of access modifiers in Python? How are they denoted?\n",
        "\n",
        "ans--Three Types of Access Modifiers in Python:\n",
        "\n",
        "Public: Accessible from anywhere (e.g., self.attribute).\n",
        "Protected: Indicated with a single underscore (_attribute), intended for internal use but can still be accessed outside.\n",
        "Private: Indicated with a double underscore (__attribute), not directly accessible from outside the class."
      ],
      "metadata": {
        "id": "MY8d2VF1CmVT"
      }
    },
    {
      "cell_type": "markdown",
      "source": [
        "q6--Describe the five types of inheritance in Python. Provide a simple example of multiple inheritance.\n",
        "\n",
        "ans--Five Types of Inheritance in Python:\n",
        "\n",
        "Single Inheritance: A class inherits from one parent class.\n",
        "Multiple Inheritance: A class inherits from more than one parent class.\n",
        "Multilevel Inheritance: A class inherits from a class, which in turn inherits from another class.\n",
        "Hierarchical Inheritance: Multiple classes inherit from the same parent class.\n",
        "Hybrid Inheritance: A combination of two or more types of inheritance"
      ],
      "metadata": {
        "id": "zMQoYhhCC4dQ"
      }
    },
    {
      "cell_type": "code",
      "source": [
        "class Parent1:\n",
        "    def method1(self):\n",
        "        return \"Method from Parent1\"\n",
        "\n",
        "class Parent2:\n",
        "    def method2(self):\n",
        "        return \"Method from Parent2\"\n",
        "\n",
        "class Child(Parent1, Parent2):\n",
        "    def method3(self):\n",
        "        return \"Method from Child\"\n",
        "\n",
        "# Creating an instance of Child\n",
        "child_instance = Child()\n",
        "print(child_instance.method1())\n",
        "print(child_instance.method2())\n",
        "print(child_instance.method3())"
      ],
      "metadata": {
        "colab": {
          "base_uri": "https://localhost:8080/"
        },
        "id": "w7aHGZC4DBcv",
        "outputId": "0feeb578-1496-487b-c7e5-76020bc05a2f"
      },
      "execution_count": null,
      "outputs": [
        {
          "output_type": "stream",
          "name": "stdout",
          "text": [
            "Method from Parent1\n",
            "Method from Parent2\n",
            "Method from Child\n"
          ]
        }
      ]
    },
    {
      "cell_type": "markdown",
      "source": [
        " q7--What is the Method Resolution Order (MRO) in Python? How can you retrieve it programmatically?\n",
        "\n",
        " ans--Method Resolution Order (MRO): Determines the order in which base classes are searched when a method is called. You can retrieve it programmatically using ClassName.__mro__ or ClassName.mro()."
      ],
      "metadata": {
        "id": "QqXYc9NTDf5l"
      }
    },
    {
      "cell_type": "code",
      "source": [
        "print(Child.mro())"
      ],
      "metadata": {
        "colab": {
          "base_uri": "https://localhost:8080/"
        },
        "id": "MFE3HZNkDnwJ",
        "outputId": "5d96641b-01fc-4338-b214-0c35ec8fb39f"
      },
      "execution_count": null,
      "outputs": [
        {
          "output_type": "stream",
          "name": "stdout",
          "text": [
            "[<class '__main__.Child'>, <class '__main__.Parent1'>, <class '__main__.Parent2'>, <class 'object'>]\n"
          ]
        }
      ]
    },
    {
      "cell_type": "markdown",
      "source": [],
      "metadata": {
        "id": "RCxU-hAmDsX9"
      }
    },
    {
      "cell_type": "markdown",
      "source": [
        "q8--Create an abstract base class `Shape` with an abstract method `area()`. Then create two subclasses\n",
        "`Circle` and `Rectangle` that implement the `area()` method.\n",
        "\n",
        "ans--"
      ],
      "metadata": {
        "id": "vOeYOYpbDvvo"
      }
    },
    {
      "cell_type": "code",
      "source": [
        "from abc import ABC, abstractmethod\n",
        "import math\n",
        "\n",
        "class Shape(ABC):\n",
        "    @abstractmethod\n",
        "    def area(self):\n",
        "        pass\n",
        "\n",
        "class Circle(Shape):\n",
        "    def __init__(self, radius):\n",
        "        self.radius = radius\n",
        "\n",
        "    def area(self):\n",
        "        return math.pi * (self.radius ** 2)\n",
        "\n",
        "class Rectangle(Shape):\n",
        "    def __init__(self, width, height):\n",
        "        self.width = width\n",
        "        self.height = height\n",
        "\n",
        "    def area(self):\n",
        "        return self.width * self.height\n",
        "\n",
        "# Example usage:\n",
        "circle = Circle(5)\n",
        "rectangle = Rectangle(4, 6)\n",
        "\n",
        "print(circle.area())      # Output: 78.53981633974483\n",
        "print(rectangle.area())"
      ],
      "metadata": {
        "colab": {
          "base_uri": "https://localhost:8080/"
        },
        "id": "Q0z4wRbqFOp4",
        "outputId": "c2337901-2d21-4b82-abcf-ccff4fb0748a"
      },
      "execution_count": null,
      "outputs": [
        {
          "output_type": "stream",
          "name": "stdout",
          "text": [
            "78.53981633974483\n",
            "24\n"
          ]
        }
      ]
    },
    {
      "cell_type": "markdown",
      "source": [
        " q9--Demonstrate polymorphism by creating a function that can work with different shape objects to calculate\n",
        "and print their areas.\n",
        "\n",
        "ans--Polymorphism allows different classes to be treated as instances of the same class through a common interface. In this case, we can create a function that accepts different shape objects and calculates their areas using the area() method defined in each shape class. Here’s how you can demonstrate this:"
      ],
      "metadata": {
        "id": "nsat07NMFk2C"
      }
    },
    {
      "cell_type": "code",
      "source": [
        "def print_area(shape):\n",
        "    print(f\"The area is: {shape.area()}\")\n",
        "\n",
        "circle = Circle(5)\n",
        "rectangle = Rectangle(4, 6)\n",
        "print_area(circle)\n",
        "print_area(rectangle)"
      ],
      "metadata": {
        "colab": {
          "base_uri": "https://localhost:8080/"
        },
        "id": "FNaGstu8FsYS",
        "outputId": "e4e0a628-76a1-4494-f4f3-700e2fe60987"
      },
      "execution_count": null,
      "outputs": [
        {
          "output_type": "stream",
          "name": "stdout",
          "text": [
            "The area is: 78.53981633974483\n",
            "The area is: 24\n"
          ]
        }
      ]
    },
    {
      "cell_type": "markdown",
      "source": [
        "q10-- Implement encapsulation in a `BankAccount` class with private attributes for `balance` and\n",
        "`account_number`. Include methods for deposit, withdrawal, and balance inquiry"
      ],
      "metadata": {
        "id": "VS91kQeWF2qb"
      }
    },
    {
      "cell_type": "code",
      "source": [
        "class BankAccount:\n",
        "    def __init__(self, account_number, initial_balance=0):\n",
        "        self.__account_number = account_number  # Private attribute\n",
        "        self.__balance = initial_balance          # Private attribute\n",
        "\n",
        "    def deposit(self, amount):\n",
        "        if amount > 0:\n",
        "            self.__balance += amount  # Update balance\n",
        "            print(f\"Deposited: ${amount:.2f}\")\n",
        "        else:\n",
        "            print(\"Deposit amount must be positive.\")\n",
        "\n",
        "    def withdraw(self, amount):\n",
        "        if 0 < amount <= self.__balance:\n",
        "            self.__balance -= amount  # Update balance\n",
        "            print(f\"Withdrew: ${amount:.2f}\")\n",
        "        else:\n",
        "            print(\"Insufficient funds or invalid withdrawal amount.\")\n",
        "\n",
        "    def get_balance(self):\n",
        "        return self.__balance  # Return current balance\n",
        "\n",
        "# Example usage:\n",
        "account = BankAccount(\"123456789\", 1000)\n",
        "\n",
        "account.deposit(200)          # Output: Deposited: $200.00\n",
        "account.withdraw(150)         # Output: Withdrew: $150.00\n",
        "print(f\"Current balance: ${account.get_balance():.2f}\")  # Output: Current balance: $1050.00\n"
      ],
      "metadata": {
        "colab": {
          "base_uri": "https://localhost:8080/"
        },
        "id": "jMDiSpQ6F6IP",
        "outputId": "3aa4ade5-1dca-48a7-9a25-effb339b0f75"
      },
      "execution_count": null,
      "outputs": [
        {
          "output_type": "stream",
          "name": "stdout",
          "text": [
            "Deposited: $200.00\n",
            "Withdrew: $150.00\n",
            "Current balance: $1050.00\n"
          ]
        }
      ]
    },
    {
      "cell_type": "markdown",
      "source": [
        "q11Write a class that overrides the `__str__` and `__add__` magic methods. What will these methods allow\n",
        "you to do?\n",
        "\n"
      ],
      "metadata": {
        "id": "rr_3l1YZJeBW"
      }
    },
    {
      "cell_type": "code",
      "source": [
        "class MyClass:\n",
        "    def __init__(self, value):\n",
        "        self.value = value\n",
        "\n",
        "    def __str__(self):\n",
        "        return f\"MyClass with value: {self.value}\"\n",
        "\n",
        "    def __add__(self, other):\n",
        "        return MyClass(self.value + other.value)"
      ],
      "metadata": {
        "id": "XESMYGZMKq1a"
      },
      "execution_count": null,
      "outputs": []
    },
    {
      "cell_type": "markdown",
      "source": [],
      "metadata": {
        "id": "9Mr43Z2SKvkE"
      }
    },
    {
      "cell_type": "markdown",
      "source": [
        " q13--Explain the concept of the Diamond Problem in multiple inheritance. How does Python resolve it?\n",
        "\n",
        "ans--Diamond Problem in Multiple Inheritance: Occurs when a class inherits from two classes that share a common base class. Python resolves this using the Method Resolution Order (MRO), which ensures that each base class is only called once in the hierarchy.\n"
      ],
      "metadata": {
        "id": "Xfm6LYDyPvL6"
      }
    },
    {
      "cell_type": "markdown",
      "source": [
        "q14. Write a class method that keeps track of the number of instances created from a class.\n",
        "\n",
        "ans--"
      ],
      "metadata": {
        "id": "NnEqvNi9Qb-7"
      }
    },
    {
      "cell_type": "code",
      "source": [
        "class InstanceCounter:\n",
        "    count = 0  # Class variable to keep track of the number of instances\n",
        "\n",
        "    def __init__(self):\n",
        "        InstanceCounter.count += 1  # Increment the count when a new instance is created\n",
        "\n",
        "    @classmethod\n",
        "    def get_instance_count(cls):\n",
        "        return cls.count  # Return the current count of instances\n",
        "\n",
        "# Example usage\n",
        "instance1 = InstanceCounter()\n",
        "instance2 = InstanceCounter()\n",
        "instance3 = InstanceCounter()\n",
        "\n",
        "print(InstanceCounter.get_instance_count())"
      ],
      "metadata": {
        "colab": {
          "base_uri": "https://localhost:8080/"
        },
        "id": "MJmB31bUQq-F",
        "outputId": "ca87e99c-eadc-460e-87c7-b918df3564c6"
      },
      "execution_count": null,
      "outputs": [
        {
          "output_type": "stream",
          "name": "stdout",
          "text": [
            "3\n"
          ]
        }
      ]
    },
    {
      "cell_type": "markdown",
      "source": [
        "15. Implement a static method in a class that checks if a given year is a leap year.\n",
        "\n"
      ],
      "metadata": {
        "id": "7CZjKyxBQ7s7"
      }
    },
    {
      "cell_type": "code",
      "source": [
        "class MyClass:\n",
        "    @staticmethod\n",
        "    def is_leap_year(year):\n",
        "        if (year % 4 == 0 and year % 100 != 0) or (year % 400 == 0):\n",
        "            return True\n",
        "        return False\n"
      ],
      "metadata": {
        "id": "bTKoFyC3RAqP"
      },
      "execution_count": null,
      "outputs": []
    },
    {
      "cell_type": "code",
      "source": [
        "MyClass.is_leap_year(2024)"
      ],
      "metadata": {
        "colab": {
          "base_uri": "https://localhost:8080/"
        },
        "id": "4uCfu9fAReTu",
        "outputId": "dc59a6da-b6c5-43db-accc-8f66f9b5c87e"
      },
      "execution_count": null,
      "outputs": [
        {
          "output_type": "execute_result",
          "data": {
            "text/plain": [
              "True"
            ]
          },
          "metadata": {},
          "execution_count": 16
        }
      ]
    },
    {
      "cell_type": "markdown",
      "source": [],
      "metadata": {
        "id": "hVihw3c5RH7X"
      }
    }
  ]
}