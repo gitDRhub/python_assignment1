{
  "nbformat": 4,
  "nbformat_minor": 0,
  "metadata": {
    "colab": {
      "provenance": []
    },
    "kernelspec": {
      "name": "python3",
      "display_name": "Python 3"
    },
    "language_info": {
      "name": "python"
    }
  },
  "cells": [
    {
      "cell_type": "markdown",
      "source": [
        "**1. What is a Support Vector Machine (SVM)?**\n",
        "\n",
        "Ans.A Support Vector Machine (SVM) is a supervised machine learning algorithm used for classification and regression tasks. It works by finding the optimal hyperplane that best separates data points of different classes in a high-dimensional space. SVM uses support vectors (data points closest to the hyperplane) to maximize the margin between classes, improving generalization. It can also handle non-linear data using kernel functions"
      ],
      "metadata": {
        "id": "-2UdAy3CvwWJ"
      }
    },
    {
      "cell_type": "markdown",
      "source": [
        "**2.What is the difference between Hard Margin and Soft Margin SVM?**\n",
        "\n",
        "Ans.The difference between Hard Margin and Soft Margin SVM lies in how they handle misclassification and margin flexibility:\n",
        "\n",
        "**i.**Hard Margin SVM: Strictly separates classes with a clear margin and allows no misclassification. It works only when data is perfectly linearly separable but is sensitive to outliers.\n",
        "\n",
        "**ii**Soft Margin SVM: Allows some misclassification by introducing a slack variable (ξ) to balance margin maximization and classification errors. It is more robust and works well with noisy or overlapping data."
      ],
      "metadata": {
        "id": "EVvYdztJwL1o"
      }
    },
    {
      "cell_type": "markdown",
      "source": [
        "**3.What is the mathematical intuition behind SVM?**\n",
        "\n",
        "Ans.The mathematical intuition behind SVM revolves around finding the optimal hyperplane that maximizes the margin between two classes.\n",
        "\n",
        "Key concepts:\n",
        "Hyperplane Equation: A decision boundary is defined as:\n",
        "\n",
        "𝑤\n",
        "⋅\n",
        "𝑥\n",
        "+\n",
        "𝑏\n",
        "=\n",
        "0\n",
        "w⋅x+b=0\n",
        "where\n",
        "𝑤\n",
        "w is the weight vector and\n",
        "𝑏\n",
        "b is the bias.\n",
        "\n",
        "Margin Maximization: The margin is the distance between the hyperplane and the nearest data points (support vectors). SVM aims to maximize this margin, which is given by:\n",
        "\n",
        "2\n",
        "∥\n",
        "𝑤\n",
        "∥\n",
        "∥w∥\n",
        "2\n",
        "​\n",
        "\n",
        "Optimization Problem:\n",
        "\n",
        "Hard Margin SVM: Solve\n",
        "min\n",
        "⁡\n",
        "1\n",
        "2\n",
        "∥\n",
        "𝑤\n",
        "∥\n",
        "2\n",
        "min\n",
        "2\n",
        "1\n",
        "​\n",
        " ∥w∥\n",
        "2\n",
        "\n",
        "subject to\n",
        "𝑦\n",
        "𝑖\n",
        "(\n",
        "𝑤\n",
        "⋅\n",
        "𝑥\n",
        "𝑖\n",
        "+\n",
        "𝑏\n",
        ")\n",
        "≥\n",
        "1\n",
        "y\n",
        "i\n",
        "​\n",
        " (w⋅x\n",
        "i\n",
        "​\n",
        " +b)≥1, ensuring correct classification.\n",
        "Soft Margin SVM: Introduces slack variables\n",
        "𝜉\n",
        "𝑖\n",
        "ξ\n",
        "i\n",
        "​\n",
        "  to allow misclassification:\n",
        "min\n",
        "⁡\n",
        "1\n",
        "2\n",
        "∥\n",
        "𝑤\n",
        "∥\n",
        "2\n",
        "+\n",
        "𝐶\n",
        "∑\n",
        "𝜉\n",
        "𝑖\n",
        "min\n",
        "2\n",
        "1\n",
        "​\n",
        " ∥w∥\n",
        "2\n",
        " +C∑ξ\n",
        "i\n",
        "​\n",
        "\n",
        "where\n",
        "𝐶\n",
        "C is a regularization parameter controlling the trade-off between margin size and classification errors.\n",
        "Kernel Trick: When data is non-linearly separable, SVM maps it to a higher-dimensional space using a kernel function (e.g., polynomial, RBF) to make it linearly separable.\n",
        "\n",
        "This mathematical formulation allows SVM to generalize well and be robust to noise."
      ],
      "metadata": {
        "id": "SXmysE0KwuBQ"
      }
    },
    {
      "cell_type": "markdown",
      "source": [
        "**4.What is the role of Lagrange Multipliers in SVM4?**\n",
        "\n",
        "Ans.Lagrange Multipliers play a crucial role in SVM by transforming the constrained optimization problem into an unconstrained one using Lagrangian duality. This helps in solving SVM efficiently, especially for high-dimensional data.\n",
        "\n",
        "Role in SVM:\n",
        "Converting Primal to Dual Form:\n",
        "\n",
        "The SVM optimization problem involves constraints (\n",
        "𝑦\n",
        "𝑖\n",
        "(\n",
        "𝑤\n",
        "⋅\n",
        "𝑥\n",
        "𝑖\n",
        "+\n",
        "𝑏\n",
        ")\n",
        "≥\n",
        "1\n",
        "y\n",
        "i\n",
        "​\n",
        " (w⋅x\n",
        "i\n",
        "​\n",
        " +b)≥1).\n",
        "Using Lagrange multipliers\n",
        "𝛼\n",
        "𝑖\n",
        "α\n",
        "i\n",
        "​\n",
        " , we convert it into a Lagrangian function, leading to the dual problem, which is easier to solve.\n",
        "Support Vector Selection:\n",
        "\n",
        "Only data points with\n",
        "𝛼\n",
        "𝑖\n",
        ">\n",
        "0\n",
        "α\n",
        "i\n",
        "​\n",
        " >0 contribute to the decision boundary—these are the support vectors.\n",
        "Kernel Trick Implementation:\n",
        "\n",
        "The dual formulation allows replacing dot products with kernel functions, enabling non-linear classification.\n",
        "Thus, Lagrange multipliers help in efficiently solving SVM, identifying support vectors, and enabling kernel methods."
      ],
      "metadata": {
        "id": "HL5rNIYaxAdQ"
      }
    },
    {
      "cell_type": "markdown",
      "source": [
        "**5.What are Support Vectors in SVM?**\n",
        "Ans.What are Support Vectors in SVM?short\n",
        "ChatGPT said:\n",
        "Support Vectors in SVM are the data points that lie closest to the decision boundary (hyperplane). They are the most informative points because they define the margin of separation between classes.\n",
        "\n",
        "Key Roles:\n",
        "\n",
        "i.Margin Definition – Support vectors determine the optimal hyperplane by maximizing the margin.\n",
        "ii.Influence on Decision Boundary – Removing or changing a support vector alters the classification boundary.\n",
        "ii.Sparse Solution – Only support vectors have nonzero Lagrange multipliers (\n",
        "𝛼\n",
        "𝑖\n",
        ">\n",
        "0\n",
        "α\n",
        "i\n",
        "​\n",
        " >0), meaning the model depends only on a few data points, improving efficiency.\n",
        "In short, support vectors are the critical elements that shape the SVM decision boundary"
      ],
      "metadata": {
        "id": "VXp17F-uxQ6R"
      }
    },
    {
      "cell_type": "markdown",
      "source": [
        "**6.What is a Support Vector Classifier (SVC)?**\n",
        "Ans.A Support Vector Classifier (SVC) is a type of Support Vector Machine (SVM) used for classification tasks. It finds the optimal hyperplane that best separates different classes while allowing some misclassification using a soft margin approach.\n",
        "\n",
        "Key Features:\n",
        "Maximizes the margin between classes for better generalization.\n",
        "Uses a regularization parameter (\n",
        "𝐶\n",
        "C) to control the trade-off between margin size and classification errors.\n",
        "Can handle non-linearly separable data using kernel functions (e.g., linear, polynomial, RBF).\n",
        "SVC is widely used in machine learning for tasks like text classification, image recognition, and bioinformatics."
      ],
      "metadata": {
        "id": "WysPHkYNx2wZ"
      }
    },
    {
      "cell_type": "markdown",
      "source": [
        "**7.What is a Support Vector Regressor (SVR)?**\n",
        "Ans.A Support Vector Regressor (SVR) is a type of Support Vector Machine (SVM) used for regression tasks. Instead of finding a hyperplane to separate classes, SVR finds a function that predicts continuous values while keeping errors within a margin (\n",
        "𝜖\n",
        "ϵ-tube).\n",
        "\n",
        "Key Features:\n",
        "Uses an\n",
        "𝜖\n",
        "ϵ-insensitive loss function, ignoring small errors within the margin.\n",
        "Controls complexity with a regularization parameter (\n",
        "𝐶\n",
        "C) to balance margin size and errors.\n",
        "Supports kernel functions (e.g., linear, polynomial, RBF) for non-linear regression.\n",
        "SVR is effective for high-dimensional and non-linear regression problems like stock price prediction and time series forecasting."
      ],
      "metadata": {
        "id": "MMdNg3LLyNeJ"
      }
    },
    {
      "cell_type": "markdown",
      "source": [
        "**8.What is the Kernel Trick in SVM?**\n",
        "Ans.The Kernel Trick in SVM allows it to handle non-linearly separable data by mapping it into a higher-dimensional space where a linear separator can be found—without explicitly computing the transformation.\n",
        "\n",
        "How It Works:\n",
        "Instead of transforming data\n",
        "𝑥\n",
        "x explicitly, SVM replaces dot products\n",
        "(\n",
        "𝑥\n",
        "𝑖\n",
        "⋅\n",
        "𝑥\n",
        "𝑗\n",
        ")\n",
        "(x\n",
        "i\n",
        "​\n",
        " ⋅x\n",
        "j\n",
        "​\n",
        " ) with a kernel function\n",
        "𝐾\n",
        "(\n",
        "𝑥\n",
        "𝑖\n",
        ",\n",
        "𝑥\n",
        "𝑗\n",
        ")\n",
        "K(x\n",
        "i\n",
        "​\n",
        " ,x\n",
        "j\n",
        "​\n",
        " ).\n",
        "Common kernel functions:\n",
        "Linear:\n",
        "𝐾\n",
        "(\n",
        "𝑥\n",
        "𝑖\n",
        ",\n",
        "𝑥\n",
        "𝑗\n",
        ")\n",
        "=\n",
        "𝑥\n",
        "𝑖\n",
        "⋅\n",
        "𝑥\n",
        "𝑗\n",
        "K(x\n",
        "i\n",
        "​\n",
        " ,x\n",
        "j\n",
        "​\n",
        " )=x\n",
        "i\n",
        "​\n",
        " ⋅x\n",
        "j\n",
        "​\n",
        "\n",
        "Polynomial:\n",
        "𝐾\n",
        "(\n",
        "𝑥\n",
        "𝑖\n",
        ",\n",
        "𝑥\n",
        "𝑗\n",
        ")\n",
        "=\n",
        "(\n",
        "𝑥\n",
        "𝑖\n",
        "⋅\n",
        "𝑥\n",
        "𝑗\n",
        "+\n",
        "𝑐\n",
        ")\n",
        "𝑑\n",
        "K(x\n",
        "i\n",
        "​\n",
        " ,x\n",
        "j\n",
        "​\n",
        " )=(x\n",
        "i\n",
        "​\n",
        " ⋅x\n",
        "j\n",
        "​\n",
        " +c)\n",
        "d\n",
        "\n",
        "RBF (Gaussian):\n",
        "𝐾\n",
        "(\n",
        "𝑥\n",
        "𝑖\n",
        ",\n",
        "𝑥\n",
        "𝑗\n",
        ")\n",
        "=\n",
        "exp\n",
        "⁡\n",
        "(\n",
        "−\n",
        "𝛾\n",
        "∥\n",
        "𝑥\n",
        "𝑖\n",
        "−\n",
        "𝑥\n",
        "𝑗\n",
        "∥\n",
        "2\n",
        ")\n",
        "K(x\n",
        "i\n",
        "​\n",
        " ,x\n",
        "j\n",
        "​\n",
        " )=exp(−γ∥x\n",
        "i\n",
        "​\n",
        " −x\n",
        "j\n",
        "​\n",
        " ∥\n",
        "2\n",
        " )\n",
        "Why It’s Useful:\n",
        "Avoids computationally expensive transformations into higher dimensions.\n",
        "Enables SVM to work on complex, non-linear data effectively.\n",
        "Thus, the Kernel Trick makes SVM powerful for both classification and regression tasks.\n",
        "\n",
        "\n",
        "\n",
        "\n",
        "\n",
        "\n",
        "\n"
      ],
      "metadata": {
        "id": "CJ2jg5c6yYIY"
      }
    },
    {
      "cell_type": "markdown",
      "source": [
        "**9. Compare Linear Kernel, Polynomial Kernel, and RBF Kernel:**\n",
        "Ans.Comparison of SVM Kernels\n",
        "Kernel Type\tFormula\tCharacteristics\tBest Use Case\n",
        "Linear Kernel\n",
        "𝐾\n",
        "(\n",
        "𝑥\n",
        "𝑖\n",
        ",\n",
        "𝑥\n",
        "𝑗\n",
        ")\n",
        "=\n",
        "𝑥\n",
        "𝑖\n",
        "⋅\n",
        "𝑥\n",
        "𝑗\n",
        "K(x\n",
        "i\n",
        "​\n",
        " ,x\n",
        "j\n",
        "​\n",
        " )=x\n",
        "i\n",
        "​\n",
        " ⋅x\n",
        "j\n",
        "​\n",
        " \t- Fast and simple\n",
        "- Works well for linearly separable data\tHigh-dimensional, text data\n",
        "Polynomial Kernel\n",
        "𝐾\n",
        "(\n",
        "𝑥\n",
        "𝑖\n",
        ",\n",
        "𝑥\n",
        "𝑗\n",
        ")\n",
        "=\n",
        "(\n",
        "𝑥\n",
        "𝑖\n",
        "⋅\n",
        "𝑥\n",
        "𝑗\n",
        "+\n",
        "𝑐\n",
        ")\n",
        "𝑑\n",
        "K(x\n",
        "i\n",
        "​\n",
        " ,x\n",
        "j\n",
        "​\n",
        " )=(x\n",
        "i\n",
        "​\n",
        " ⋅x\n",
        "j\n",
        "​\n",
        " +c)\n",
        "d\n",
        " \t- Captures non-linearity\n",
        "- Degree (\n",
        "𝑑\n",
        "d) controls complexity\tImage classification, NLP\n",
        "RBF (Gaussian) Kernel\n",
        "𝐾\n",
        "(\n",
        "𝑥\n",
        "𝑖\n",
        ",\n",
        "𝑥\n",
        "𝑗\n",
        ")\n",
        "=\n",
        "exp\n",
        "⁡\n",
        "(\n",
        "−\n",
        "𝛾\n",
        "∥\n",
        "𝑥\n",
        "𝑖\n",
        "−\n",
        "𝑥\n",
        "𝑗\n",
        "∥\n",
        "2\n",
        ")\n",
        "K(x\n",
        "i\n",
        "​\n",
        " ,x\n",
        "j\n",
        "​\n",
        " )=exp(−γ∥x\n",
        "i\n",
        "​\n",
        " −x\n",
        "j\n",
        "​\n",
        " ∥\n",
        "2\n",
        " )\t- Maps data to infinite dimensions\n",
        "- Highly flexible but may overfit\tNon-linear, complex patterns\n",
        "Summary:\n",
        "Linear Kernel → Best for simple, linearly separable data.\n",
        "Polynomial Kernel → Good for moderate non-linearity.\n",
        "RBF Kernel → Most powerful for highly non-linear problems."
      ],
      "metadata": {
        "id": "Yg1UWFbDyrGp"
      }
    },
    {
      "cell_type": "markdown",
      "source": [
        "**10.What is the effect of the C parameter in SVM?**\n",
        "Ans.The C parameter in SVM controls the trade-off between margin size and classification accuracy (for SVC) or error tolerance (for SVR).\n",
        "\n",
        "Effect of C in SVM:\n",
        "High C (Strong Regularization)\n",
        "\n",
        "Smaller margin, prioritizes correct classification.\n",
        "Less tolerant to misclassification (overfitting risk).\n",
        "More complex model, sensitive to noise.\n",
        "Low C (Weak Regularization)\n",
        "\n",
        "Larger margin, allows more misclassification.\n",
        "More tolerant to noise (better generalization).\n",
        "Simpler model but may underfit.\n",
        "Summary:\n",
        "High C → More strict, fits data closely.\n",
        "Low C → More flexible, better generalization.\n",
        "Choosing the right C depends on the bias-variance tradeoff for your dataset.\n",
        "\n",
        "\n",
        "\n",
        "\n",
        "\n",
        "\n"
      ],
      "metadata": {
        "id": "IONpm7q7y8SY"
      }
    },
    {
      "cell_type": "markdown",
      "source": [
        "**11. What is the role of the Gamma parameter in RBF Kernel SVM?**\n",
        "Ans.The Gamma (γ) parameter in RBF Kernel SVM controls how far the influence of a single training point reaches. It determines the flexibility of the decision boundary by adjusting the impact of each data point.\n",
        "\n",
        "Effect of Gamma (γ):\n",
        "High γ (Large influence, small radius)\n",
        "\n",
        "Each point has a shorter influence range.\n",
        "Decision boundary becomes highly flexible and captures intricate patterns.\n",
        "Risk of overfitting (too sensitive to noise).\n",
        "Low γ (Small influence, large radius)\n",
        "\n",
        "Each point has a broader influence.\n",
        "Decision boundary is smoother, leading to better generalization.\n",
        "Risk of underfitting (failing to capture patterns).\n",
        "Mathematical Intuition:\n",
        "The RBF Kernel function:\n",
        "\n",
        "𝐾\n",
        "(\n",
        "𝑥\n",
        "𝑖\n",
        ",\n",
        "𝑥\n",
        "𝑗\n",
        ")\n",
        "=\n",
        "exp\n",
        "⁡\n",
        "(\n",
        "−\n",
        "𝛾\n",
        "∥\n",
        "𝑥\n",
        "𝑖\n",
        "−\n",
        "𝑥\n",
        "𝑗\n",
        "∥\n",
        "2\n",
        ")\n",
        "K(x\n",
        "i\n",
        "​\n",
        " ,x\n",
        "j\n",
        "​\n",
        " )=exp(−γ∥x\n",
        "i\n",
        "​\n",
        " −x\n",
        "j\n",
        "​\n",
        " ∥\n",
        "2\n",
        " )\n",
        "Higher γ → Exponential decay happens faster, meaning points influence only their nearest neighbors.\n",
        "Lower γ → Exponential decay is slower, meaning points influence a wider region.\n",
        "Summary:\n",
        "High γ → Complex model, possible overfitting.\n",
        "Low γ → Simpler model, possible underfitting.\n",
        "Optimal γ → Chosen using cross-validation to balance bias-variance tradeoff.\n",
        "\n",
        "\n",
        "\n",
        "\n",
        "\n",
        "\n"
      ],
      "metadata": {
        "id": "K4oJ_yBKzIQw"
      }
    },
    {
      "cell_type": "markdown",
      "source": [
        "**12.What is the Naïve Bayes classifier, and why is it called \"Naïve\"?**\n",
        "Ans.The Naïve Bayes classifier is a probabilistic machine learning algorithm based on Bayes' Theorem. It is used for classification tasks, especially in text classification, spam detection, and sentiment analysis.\n",
        "\n",
        "Why is it \"Naïve\"?\n",
        "It is called \"Naïve\" because it assumes that all features are independent of each other, which is rarely true in real-world data. Despite this unrealistic assumption, Naïve Bayes often works well in practice.\n",
        "\n",
        "Key Formula (Bayes' Theorem):\n",
        "𝑃\n",
        "(\n",
        "𝑦\n",
        "∣\n",
        "𝑋\n",
        ")\n",
        "=\n",
        "𝑃\n",
        "(\n",
        "𝑋\n",
        "∣\n",
        "𝑦\n",
        ")\n",
        "𝑃\n",
        "(\n",
        "𝑦\n",
        ")\n",
        "𝑃\n",
        "(\n",
        "𝑋\n",
        ")\n",
        "P(y∣X)=\n",
        "P(X)\n",
        "P(X∣y)P(y)\n",
        "​\n",
        "\n",
        "where:\n",
        "\n",
        "𝑃\n",
        "(\n",
        "𝑦\n",
        "∣\n",
        "𝑋\n",
        ")\n",
        "P(y∣X) = Probability of class\n",
        "𝑦\n",
        "y given features\n",
        "𝑋\n",
        "X.\n",
        "𝑃\n",
        "(\n",
        "𝑋\n",
        "∣\n",
        "𝑦\n",
        ")\n",
        "P(X∣y) = Probability of features given class\n",
        "𝑦\n",
        "y.\n",
        "𝑃\n",
        "(\n",
        "𝑦\n",
        ")\n",
        "P(y) = Prior probability of class\n",
        "𝑦\n",
        "y.\n",
        "𝑃\n",
        "(\n",
        "𝑋\n",
        ")\n",
        "P(X) = Prior probability of features.\n",
        "Types of Naïve Bayes:\n",
        "Gaussian Naïve Bayes – For continuous data (assumes normal distribution).\n",
        "Multinomial Naïve Bayes – For text classification (word frequency-based).\n",
        "Bernoulli Naïve Bayes – For binary data (presence/absence of features).\n",
        "Summary:\n",
        "Fast, simple, and effective, especially for high-dimensional data.\n",
        "Works well despite the \"naïve\" independence assumption.\n",
        "Commonly used in spam filtering, document classification, and NLP tasks."
      ],
      "metadata": {
        "id": "qx4dj3HRzgso"
      }
    },
    {
      "cell_type": "markdown",
      "source": [
        "**13.What is Bayes’ Theorem?**\n",
        "Ans.Bayes’ Theorem is a fundamental rule in probability theory that describes how to update the probability of a hypothesis based on new evidence.\n",
        "\n",
        "Formula:\n",
        "𝑃\n",
        "(\n",
        "𝐴\n",
        "∣\n",
        "𝐵\n",
        ")\n",
        "=\n",
        "𝑃\n",
        "(\n",
        "𝐵\n",
        "∣\n",
        "𝐴\n",
        ")\n",
        "𝑃\n",
        "(\n",
        "𝐴\n",
        ")\n",
        "𝑃\n",
        "(\n",
        "𝐵\n",
        ")\n",
        "P(A∣B)=\n",
        "P(B)\n",
        "P(B∣A)P(A)\n",
        "​\n",
        "\n",
        "Where:\n",
        "𝑃\n",
        "(\n",
        "𝐴\n",
        "∣\n",
        "𝐵\n",
        ")\n",
        "P(A∣B) = Probability of event A given event B (posterior probability).\n",
        "𝑃\n",
        "(\n",
        "𝐵\n",
        "∣\n",
        "𝐴\n",
        ")\n",
        "P(B∣A) = Probability of event B given event A (likelihood).\n",
        "𝑃\n",
        "(\n",
        "𝐴\n",
        ")\n",
        "P(A) = Prior probability of event A (prior).\n",
        "𝑃\n",
        "(\n",
        "𝐵\n",
        ")\n",
        "P(B) = Probability of event B (evidence).\n",
        "Intuition:\n",
        "It helps update our belief about A after observing B.\n",
        "Used in machine learning, spam filtering, medical diagnosis, and risk analysis.\n",
        "Example:\n",
        "If a person tests positive for a disease, Bayes' Theorem helps calculate the real probability that they actually have the disease, considering test accuracy and disease prevalence."
      ],
      "metadata": {
        "id": "8DwsQU-zzqT4"
      }
    },
    {
      "cell_type": "markdown",
      "source": [
        "**14.Explain the differences between Gaussian Naïve Bayes, Multinomial Naïve Bayes, and Bernoulli Naïve Bayes:**\n",
        "Ans.Differences Between Naïve Bayes Variants\n",
        "Type\tData Type\tAssumption\tBest Use Case\n",
        "Gaussian Naïve Bayes\tContinuous (real-valued)\tFeatures follow a normal (Gaussian) distribution\tNumeric data (e.g., medical data, Iris dataset)\n",
        "Multinomial Naïve Bayes\tDiscrete (counts/frequencies)\tFeatures represent word counts or frequencies\tText classification, NLP, spam filtering\n",
        "Bernoulli Naïve Bayes\tBinary (0/1)\tFeatures represent presence (1) or absence (0) of words\tBinary text classification, spam detection\n",
        "Summary:\n",
        "Gaussian NB → Works with continuous data (e.g., heights, weights).\n",
        "Multinomial NB → Used for word frequency-based problems (e.g., document classification).\n",
        "Bernoulli NB → Works with binary feature presence/absence (e.g., spam detection).\n",
        "\n",
        "\n",
        "\n",
        "\n",
        "\n",
        "\n"
      ],
      "metadata": {
        "id": "bzgPmUdhz3mR"
      }
    },
    {
      "cell_type": "markdown",
      "source": [
        "**15.When should you use Gaussian Naïve Bayes over other variants?**\n",
        "Ans.Use Gaussian Naïve Bayes (GNB) when dealing with continuous (real-valued) data that follows a normal (Gaussian) distribution.\n",
        "\n",
        "Best Use Cases:\n",
        "Medical diagnosis (e.g., blood pressure, cholesterol levels).\n",
        "Iris dataset classification (flower petal and sepal measurements).\n",
        "Financial risk analysis (numerical stock market data).\n",
        "Sensor data classification (e.g., temperature, pressure readings).\n",
        "Why Choose GNB?\n",
        "Works well with small datasets.\n",
        "Assumes continuous features, unlike Multinomial or Bernoulli NB (which are better for text).\n",
        "Fast and efficient for high-dimensional numerical data."
      ],
      "metadata": {
        "id": "vF3Udq6Y0FHQ"
      }
    },
    {
      "cell_type": "markdown",
      "source": [
        "**16. What are the key assumptions made by Naïve Bayes?**\n",
        "Ans.Key Assumptions of Naïve Bayes:\n",
        "Feature Independence (Naïve Assumption)\n",
        "\n",
        "All features are conditionally independent given the class label.\n",
        "Example: In spam detection, the presence of one word is assumed unrelated to another.\n",
        "Class Conditional Independence\n",
        "\n",
        "The effect of a feature on the class is independent of other features.\n",
        "Equal Importance of Features\n",
        "\n",
        "All features contribute equally to the final classification.\n",
        "Feature Distributions Depend on NB Variant\n",
        "\n",
        "Gaussian NB: Features follow a normal distribution.\n",
        "Multinomial NB: Features represent word counts or frequencies.\n",
        "Bernoulli NB: Features are binary (0/1)."
      ],
      "metadata": {
        "id": "leAWzqjo0SQJ"
      }
    },
    {
      "cell_type": "markdown",
      "source": [
        "**17.What are the advantages and disadvantages of Naïve Bayes?**\n",
        "Ans.Advantages & Disadvantages of Naïve Bayes\n",
        " Advantages:\n",
        "\n",
        "Fast & Efficient – Works well on large datasets.\n",
        "Works with High-Dimensional Data – Performs well even with many features (e.g., text classification).\n",
        "Handles Missing Data – Can still make predictions with some missing values.\n",
        "Performs Well with Small Data – Requires less training data than other models.\n",
        "Simple & Interpretable – Easy to understand and implement.\n",
        "Disadvantages:\n",
        "\n",
        "Strong Independence Assumption – Rarely holds true in real-world data.\n",
        "Not Suitable for Correlated Features – Ignores feature interactions, which can reduce accuracy.\n",
        "Zero Probability Problem – If a category is missing in training data, it assigns zero probability (handled with smoothing like Laplace smoothing).\n",
        "Less Flexible – Other models like SVM or Random Forest often outperform Naïve Bayes on complex datasets."
      ],
      "metadata": {
        "id": "6i6GI-RF0i9A"
      }
    },
    {
      "cell_type": "markdown",
      "source": [
        "**18.Why is Naïve Bayes a good choice for text classification?**\n",
        "Ans.Why Naïve Bayes is Good for Text Classification\n",
        "1. Handles High-Dimensional Data Well\n",
        "\n",
        "Text data has thousands of features (words), and Naïve Bayes performs efficiently.\n",
        "2. Works Well with Sparse Data\n",
        "\n",
        "Most documents contain only a small subset of all possible words, and Naïve Bayes is effective in such cases.\n",
        "3. Fast and Scalable\n",
        "\n",
        "Can quickly process large datasets, making it ideal for real-time applications (e.g., spam filtering).\n",
        "4. Performs Well Despite Independence Assumption\n",
        "\n",
        "Even though words are not truly independent, Naïve Bayes still achieves high accuracy in NLP tasks.\n",
        "5. Robust to Irrelevant Features\n",
        "\n",
        "Even if some words don’t contribute much, they don’t significantly affect performance.\n",
        "Best Use Cases:\n",
        "Spam Detection\n",
        "Sentiment Analysis\n",
        "News Categorization\n",
        "Topic Classification"
      ],
      "metadata": {
        "id": "CVapNSQ_0wAQ"
      }
    },
    {
      "cell_type": "markdown",
      "source": [
        "**19.Compare SVM and Naïve Bayes for classification tasks:**\n",
        "Ans.SVM vs. Naïve Bayes for Classification\n",
        "Feature\tSVM \tNaïve Bayes (NB)\n",
        "Model Type\tDiscriminative\tGenerative\n",
        "Works Well With\tSmall to medium datasets\tLarge datasets, high-dimensional data\n",
        "Assumption\tMaximizes margin, no probability assumption\tAssumes feature independence\n",
        "Speed\tSlower, especially on large data\tFast, scalable\n",
        "Performance on Text Data\tGood but slower\tExcellent and fast\n",
        "Robust to Feature Correlation?\tYes \tNo  (independence assumption)\n",
        "Handles Outliers?\tMore sensitive to outliers\tLess sensitive\n",
        "Interpretability\tHarder to interpret\tSimple and interpretable\n",
        "Kernel Support?\tYes (Linear, RBF, etc.)\tNo\n",
        "When to Use?\n",
        "SVM → When accuracy matters more, especially for small datasets with complex decision boundaries.\n",
        "Naïve Bayes → When speed and scalability are critical, especially for text classification (spam detection, sentiment analysis, NLP)."
      ],
      "metadata": {
        "id": "arRRZIak1FaB"
      }
    },
    {
      "cell_type": "markdown",
      "source": [
        "**20.How does Laplace Smoothing help in Naïve Bayes?**\n",
        "\n",
        "Ans.How Laplace Smoothing Helps in Naïve Bayes\n",
        "Problem:\n",
        "\n",
        "If a word never appears in the training data for a class, Naïve Bayes assigns zero probability to any test sample containing that word.\n",
        "This leads to incorrect classifications due to probability multiplication.\n",
        "Solution: Laplace Smoothing (Additive Smoothing)\n",
        "\n",
        "Adds a small value (usually 1) to all word counts to avoid zero probabilities.\n",
        "Modified probability formula:\n",
        "𝑃\n",
        "(\n",
        "𝑤\n",
        "𝑜\n",
        "𝑟\n",
        "𝑑\n",
        "∣\n",
        "𝑐\n",
        "𝑙\n",
        "𝑎\n",
        "𝑠\n",
        "𝑠\n",
        ")\n",
        "=\n",
        "count(word in class)\n",
        "+\n",
        "1\n",
        "total words in class\n",
        "+\n",
        "𝑉\n",
        "P(word∣class)=\n",
        "total words in class+V\n",
        "count(word in class)+1\n",
        "​\n",
        "\n",
        "where V = total number of unique words (vocabulary size)."
      ],
      "metadata": {
        "id": "3tjKBFic1SR4"
      }
    },
    {
      "cell_type": "markdown",
      "source": [
        "# ***Practical***"
      ],
      "metadata": {
        "id": "bZ5MBeKg1kIY"
      }
    },
    {
      "cell_type": "markdown",
      "source": [
        "**21.Write a Python program to train an SVM Classifier on the Iris dataset and evaluate accuracy:**\n",
        "Ans."
      ],
      "metadata": {
        "id": "y_TbCuoc1qB4"
      }
    },
    {
      "cell_type": "code",
      "source": [
        "from sklearn import datasets\n",
        "from sklearn.model_selection import train_test_split\n",
        "from sklearn.svm import SVC\n",
        "from sklearn.metrics import accuracy_score\n",
        "\n",
        "\n",
        "iris = datasets.load_iris()\n",
        "X, y = iris.data, iris.target\n",
        "\n",
        "\n",
        "X_train, X_test, y_train, y_test = train_test_split(X, y, test_size=0.2, random_state=42)\n",
        "\n",
        "\n",
        "svm_model = SVC(kernel='linear', C=1.0)\n",
        "svm_model.fit(X_train, y_train)\n",
        "\n",
        "y_pred = svm_model.predict(X_test)\n",
        "\n",
        "accuracy = accuracy_score(y_test, y_pred)\n",
        "print(f\"Accuracy: {accuracy:.2f}\")"
      ],
      "metadata": {
        "colab": {
          "base_uri": "https://localhost:8080/"
        },
        "id": "UqFFxCpS12Ao",
        "outputId": "8feeafb6-ea94-4c39-dfd6-f5a91d8cb7b9"
      },
      "execution_count": 1,
      "outputs": [
        {
          "output_type": "stream",
          "name": "stdout",
          "text": [
            "Accuracy: 1.00\n"
          ]
        }
      ]
    },
    {
      "cell_type": "markdown",
      "source": [
        "**22.: Write a Python program to train two SVM classifiers with Linear and RBF kernels on the Wine dataset, then\n",
        "compare their accuracies:**\n"
      ],
      "metadata": {
        "id": "JqalhbA02HMw"
      }
    },
    {
      "cell_type": "code",
      "source": [
        "from sklearn import datasets\n",
        "from sklearn.model_selection import train_test_split\n",
        "from sklearn.svm import SVC\n",
        "from sklearn.metrics import accuracy_score\n",
        "\n",
        "\n",
        "wine = datasets.load_wine()\n",
        "X, y = wine.data, wine.target\n",
        "\n",
        "\n",
        "X_train, X_test, y_train, y_test = train_test_split(X, y, test_size=0.2, random_state=42)\n",
        "\n",
        "\n",
        "svm_linear = SVC(kernel='linear', C=1.0)\n",
        "svm_linear.fit(X_train, y_train)\n",
        "y_pred_linear = svm_linear.predict(X_test)\n",
        "accuracy_linear = accuracy_score(y_test, y_pred_linear)\n",
        "\n",
        "\n",
        "svm_rbf = SVC(kernel='rbf', C=1.0, gamma='scale')\n",
        "svm_rbf.fit(X_train, y_train)\n",
        "y_pred_rbf = svm_rbf.predict(X_test)\n",
        "accuracy_rbf = accuracy_score(y_test, y_pred_rbf)\n",
        "\n",
        "print(f\"Linear SVM Accuracy: {accuracy_linear:.2f}\")\n",
        "print(f\"RBF SVM Accuracy: {accuracy_rbf:.2f}\")"
      ],
      "metadata": {
        "colab": {
          "base_uri": "https://localhost:8080/"
        },
        "id": "THRdUaIO2KB4",
        "outputId": "6014cf29-6f51-419c-c480-c5ec4c885a62"
      },
      "execution_count": 2,
      "outputs": [
        {
          "output_type": "stream",
          "name": "stdout",
          "text": [
            "Linear SVM Accuracy: 1.00\n",
            "RBF SVM Accuracy: 0.81\n"
          ]
        }
      ]
    },
    {
      "cell_type": "markdown",
      "source": [
        "**23.: Write a Python program to train an SVM Regressor (SVR) on a housing dataset and evaluate it using Mean\n",
        "Squared Error (MSE):**"
      ],
      "metadata": {
        "id": "I0V6hpt02SN4"
      }
    },
    {
      "source": [
        "from sklearn import datasets\n",
        "from sklearn.model_selection import train_test_split\n",
        "from sklearn.svm import SVR\n",
        "from sklearn.metrics import mean_squared_error\n",
        "import pandas as pd\n",
        "import numpy as np\n",
        "\n",
        "\n",
        "data_url = \"http://lib.stat.cmu.edu/datasets/boston\"\n",
        "raw_df = pd.read_csv(data_url, sep=\"\\s+\", skiprows=22, header=None)\n",
        "X = np.hstack([raw_df.values[::2, :], raw_df.values[1::2, :2]])\n",
        "y = raw_df.values[1::2, 2]\n",
        "\n",
        "\n",
        "\n",
        "X_train, X_test, y_train, y_test = train_test_split(X, y, test_size=0.2, random_state=42)\n",
        "\n",
        "\n",
        "svr_model = SVR(kernel='rbf', C=100, gamma='scale')\n",
        "svr_model.fit(X_train, y_train)\n",
        "\n",
        "\n",
        "y_pred = svr_model.predict(X_test)\n",
        "\n",
        "\n",
        "mse = mean_squared_error(y_test, y_pred)\n",
        "print(f\"Mean Squared Error: {mse:.2f}\")"
      ],
      "cell_type": "code",
      "metadata": {
        "colab": {
          "base_uri": "https://localhost:8080/"
        },
        "id": "x1UnfjEu2nrB",
        "outputId": "abe05b81-cecf-44df-8d52-135528e5fd25"
      },
      "execution_count": 6,
      "outputs": [
        {
          "output_type": "stream",
          "name": "stdout",
          "text": [
            "Mean Squared Error: 31.58\n"
          ]
        }
      ]
    },
    {
      "cell_type": "markdown",
      "source": [
        "**24.Write a Python program to train an SVM Classifier with a Polynomial Kernel and visualize the decision\n",
        "boundary**"
      ],
      "metadata": {
        "id": "pHriWpCy2vco"
      }
    },
    {
      "cell_type": "code",
      "source": [
        "import numpy as np\n",
        "import matplotlib.pyplot as plt\n",
        "from sklearn.datasets import make_moons\n",
        "from sklearn.svm import SVC\n",
        "from sklearn.model_selection import train_test_split\n",
        "\n",
        "\n",
        "X, y = make_moons(n_samples=200, noise=0.2, random_state=42)\n",
        "\n",
        "X_train, X_test, y_train, y_test = train_test_split(X, y, test_size=0.2, random_state=42)\n",
        "\n",
        "svm_poly = SVC(kernel='poly', degree=3, C=1.0)\n",
        "svm_poly.fit(X_train, y_train)\n",
        "\n",
        "def plot_decision_boundary(model, X, y):\n",
        "    x_min, x_max = X[:, 0].min() - 0.5, X[:, 0].max() + 0.5\n",
        "    y_min, y_max = X[:, 1].min() - 0.5, X[:, 1].max() + 0.5\n",
        "    xx, yy = np.meshgrid(np.linspace(x_min, x_max, 200),\n",
        "                         np.linspace(y_min, y_max, 200))\n",
        "    Z = model.predict(np.c_[xx.ravel(), yy.ravel()])\n",
        "    Z = Z.reshape(xx.shape)\n",
        "\n",
        "    plt.contourf(xx, yy, Z, alpha=0.3)\n",
        "    plt.scatter(X[:, 0], X[:, 1], c=y, edgecolors='k')\n",
        "    plt.xlabel(\"Feature 1\")\n",
        "    plt.ylabel(\"Feature 2\")\n",
        "    plt.title(\"SVM with Polynomial Kernel\")\n",
        "    plt.show()\n",
        "\n",
        "plot_decision_boundary(svm_poly, X, y)\n"
      ],
      "metadata": {
        "colab": {
          "base_uri": "https://localhost:8080/",
          "height": 472
        },
        "id": "Bviccnqw25xQ",
        "outputId": "140517cb-c63d-465a-b36e-878a02ca1576"
      },
      "execution_count": 7,
      "outputs": [
        {
          "output_type": "display_data",
          "data": {
            "text/plain": [
              "<Figure size 640x480 with 1 Axes>"
            ],
            "image/png": "[encoded data removed]"
          },
          "metadata": {}
        }
      ]
    },
    {
      "cell_type": "markdown",
      "source": [
        "**25.Write a Python program to train a Gaussian Naïve Bayes classifier on the Breast Cancer dataset and\n",
        "evaluate accuracy:**"
      ],
      "metadata": {
        "id": "GQAkrzr73BjP"
      }
    },
    {
      "cell_type": "code",
      "source": [
        "from sklearn import datasets\n",
        "from sklearn.model_selection import train_test_split\n",
        "from sklearn.naive_bayes import GaussianNB\n",
        "from sklearn.metrics import accuracy_score\n",
        "\n",
        "# Load the Breast Cancer dataset\n",
        "cancer = datasets.load_breast_cancer()\n",
        "X, y = cancer.data, cancer.target\n",
        "\n",
        "# Split into training and test sets (80-20 split)\n",
        "X_train, X_test, y_train, y_test = train_test_split(X, y, test_size=0.2, random_state=42)\n",
        "\n",
        "# Train Gaussian Naïve Bayes classifier\n",
        "gnb = GaussianNB()\n",
        "gnb.fit(X_train, y_train)\n",
        "\n",
        "# Make predictions\n",
        "y_pred = gnb.predict(X_test)\n",
        "\n",
        "# Evaluate accuracy\n",
        "accuracy = accuracy_score(y_test, y_pred)\n",
        "print(f\"Accuracy: {accuracy:.2f}\")"
      ],
      "metadata": {
        "colab": {
          "base_uri": "https://localhost:8080/"
        },
        "id": "fcikSHFZ3G8h",
        "outputId": "ff92612d-438d-4c64-f09a-ab37030d1fcb"
      },
      "execution_count": 8,
      "outputs": [
        {
          "output_type": "stream",
          "name": "stdout",
          "text": [
            "Accuracy: 0.97\n"
          ]
        }
      ]
    },
    {
      "cell_type": "markdown",
      "source": [
        "**26.Write a Python program to train a Multinomial Naïve Bayes classifier for text classification using the 20\n",
        "Newsgroups dataset.**"
      ],
      "metadata": {
        "id": "vuY7FEQK3KUY"
      }
    },
    {
      "cell_type": "code",
      "source": [
        "from sklearn.datasets import fetch_20newsgroups\n",
        "from sklearn.feature_extraction.text import CountVectorizer, TfidfTransformer\n",
        "from sklearn.naive_bayes import MultinomialNB\n",
        "from sklearn.pipeline import Pipeline\n",
        "from sklearn.model_selection import train_test_split\n",
        "from sklearn.metrics import accuracy_score\n",
        "\n",
        "# Load the 20 Newsgroups dataset (subset for speed)\n",
        "categories = ['alt.atheism', 'soc.religion.christian', 'comp.graphics', 'sci.med']\n",
        "newsgroups = fetch_20newsgroups(subset='train', categories=categories, shuffle=True, random_state=42)\n",
        "\n",
        "# Split into training and test sets\n",
        "X_train, X_test, y_train, y_test = train_test_split(newsgroups.data, newsgroups.target, test_size=0.2, random_state=42)\n",
        "\n",
        "# Create a text classification pipeline\n",
        "text_clf = Pipeline([\n",
        "    ('vect', CountVectorizer()),        # Convert text to word counts\n",
        "    ('tfidf', TfidfTransformer()),      # Convert counts to TF-IDF scores\n",
        "    ('clf', MultinomialNB())            # Train Multinomial Naïve Bayes model\n",
        "])\n",
        "\n",
        "# Train the model\n",
        "text_clf.fit(X_train, y_train)\n",
        "\n",
        "# Make predictions\n",
        "y_pred = text_clf.predict(X_test)\n",
        "\n",
        "# Evaluate accuracy\n",
        "accuracy = accuracy_score(y_test, y_pred)\n",
        "print(f\"Accuracy: {accuracy:.2f}\")\n"
      ],
      "metadata": {
        "colab": {
          "base_uri": "https://localhost:8080/"
        },
        "id": "wdPn6t0a3OFo",
        "outputId": "397627aa-8e53-4fa5-c870-5192ec7f7c6c"
      },
      "execution_count": 9,
      "outputs": [
        {
          "output_type": "stream",
          "name": "stdout",
          "text": [
            "Accuracy: 0.91\n"
          ]
        }
      ]
    },
    {
      "cell_type": "markdown",
      "source": [
        "**27.Write a Python program to train an SVM Classifier with different C values and compare the decision\n",
        "boundaries visually**"
      ],
      "metadata": {
        "id": "eQobklOd3W_g"
      }
    },
    {
      "cell_type": "code",
      "source": [
        "import numpy as np\n",
        "import matplotlib.pyplot as plt\n",
        "from sklearn.datasets import make_moons\n",
        "from sklearn.svm import SVC\n",
        "\n",
        "# Generate synthetic dataset\n",
        "X, y = make_moons(n_samples=200, noise=0.2, random_state=42)\n",
        "\n",
        "# Define different C values\n",
        "C_values = [0.1, 1, 10, 100]\n",
        "\n",
        "# Function to plot decision boundary\n",
        "def plot_decision_boundary(model, X, y, ax, title):\n",
        "    x_min, x_max = X[:, 0].min() - 0.5, X[:, 0].max() + 0.5\n",
        "    y_min, y_max = X[:, 1].min() - 0.5, X[:, 1].max() + 0.5\n",
        "    xx, yy = np.meshgrid(np.linspace(x_min, x_max, 200),\n",
        "                         np.linspace(y_min, y_max, 200))\n",
        "\n",
        "    Z = model.predict(np.c_[xx.ravel(), yy.ravel()])\n",
        "    Z = Z.reshape(xx.shape)\n",
        "\n",
        "    ax.contourf(xx, yy, Z, alpha=0.3)\n",
        "    ax.scatter(X[:, 0], X[:, 1], c=y, edgecolors='k')\n",
        "    ax.set_title(title)\n",
        "\n",
        "# Train and plot SVM classifiers for different C values\n",
        "fig, axes = plt.subplots(2, 2, figsize=(10, 8))\n",
        "\n",
        "for i, C in enumerate(C_values):\n",
        "    svm = SVC(kernel='linear', C=C)\n",
        "    svm.fit(X, y)\n",
        "    plot_decision_boundary(svm, X, y, axes[i // 2, i % 2], f\"SVM with C={C}\")\n",
        "\n",
        "plt.tight_layout()\n",
        "plt.show()\n"
      ],
      "metadata": {
        "colab": {
          "base_uri": "https://localhost:8080/",
          "height": 807
        },
        "id": "ae5w97aB3cNw",
        "outputId": "81f36acb-945e-49f9-c4da-6491339bf178"
      },
      "execution_count": 10,
      "outputs": [
        {
          "output_type": "display_data",
          "data": {
            "text/plain": [
              "<Figure size 1000x800 with 4 Axes>"
            ],
            "image/png": "[encoded data removed]"
          },
          "metadata": {}
        }
      ]
    },
    {
      "cell_type": "markdown",
      "source": [
        "**28.Write a Python program to train a Bernoulli Naïve Bayes classifier for binary classification on a dataset with\n",
        "binary features.**"
      ],
      "metadata": {
        "id": "Q0b4sWe53n7x"
      }
    },
    {
      "cell_type": "code",
      "source": [
        "from sklearn.model_selection import train_test_split\n",
        "from sklearn.naive_bayes import BernoulliNB\n",
        "from sklearn.metrics import accuracy_score\n",
        "import numpy as np\n",
        "\n",
        "# Generate a synthetic binary dataset (features are 0 or 1)\n",
        "np.random.seed(42)\n",
        "X = np.random.randint(2, size=(200, 5))  # 200 samples, 5 binary features (0 or 1)\n",
        "y = np.random.randint(2, size=200)  # Binary target (0 or 1)\n",
        "\n",
        "# Split into training and test sets (80-20 split)\n",
        "X_train, X_test, y_train, y_test = train_test_split(X, y, test_size=0.2, random_state=42)\n",
        "\n",
        "# Train a Bernoulli Naïve Bayes classifier\n",
        "bnb = BernoulliNB()\n",
        "bnb.fit(X_train, y_train)\n",
        "\n",
        "# Make predictions\n",
        "y_pred = bnb.predict(X_test)\n",
        "\n",
        "# Evaluate accuracy\n",
        "accuracy = accuracy_score(y_test, y_pred)\n",
        "print(f\"Accuracy: {accuracy:.2f}\")\n"
      ],
      "metadata": {
        "colab": {
          "base_uri": "https://localhost:8080/"
        },
        "id": "n-ihBX_03wz4",
        "outputId": "d552aad8-0923-4d70-b8fb-33b5d0bde611"
      },
      "execution_count": 11,
      "outputs": [
        {
          "output_type": "stream",
          "name": "stdout",
          "text": [
            "Accuracy: 0.40\n"
          ]
        }
      ]
    },
    {
      "cell_type": "markdown",
      "source": [
        "**29. Write a Python program to apply feature scaling before training an SVM model and compare results with\n",
        "unscaled data**"
      ],
      "metadata": {
        "id": "_wnxGnpV3yYA"
      }
    },
    {
      "cell_type": "code",
      "source": [
        "from sklearn import datasets\n",
        "from sklearn.model_selection import train_test_split\n",
        "from sklearn.svm import SVC\n",
        "from sklearn.preprocessing import StandardScaler\n",
        "from sklearn.metrics import accuracy_score\n",
        "\n",
        "# Load the Wine dataset\n",
        "wine = datasets.load_wine()\n",
        "X, y = wine.data, wine.target\n",
        "\n",
        "# Split into training and test sets (80-20 split)\n",
        "X_train, X_test, y_train, y_test = train_test_split(X, y, test_size=0.2, random_state=42)\n",
        "\n",
        "# Train SVM without feature scaling\n",
        "svm_unscaled = SVC(kernel='rbf', C=1.0, gamma='scale')\n",
        "svm_unscaled.fit(X_train, y_train)\n",
        "y_pred_unscaled = svm_unscaled.predict(X_test)\n",
        "accuracy_unscaled = accuracy_score(y_test, y_pred_unscaled)\n",
        "\n",
        "# Apply feature scaling (Standardization)\n",
        "scaler = StandardScaler()\n",
        "X_train_scaled = scaler.fit_transform(X_train)\n",
        "X_test_scaled = scaler.transform(X_test)\n",
        "\n",
        "# Train SVM with scaled data\n",
        "svm_scaled = SVC(kernel='rbf', C=1.0, gamma='scale')\n",
        "svm_scaled.fit(X_train_scaled, y_train)\n",
        "y_pred_scaled = svm_scaled.predict(X_test_scaled)\n",
        "accuracy_scaled = accuracy_score(y_test, y_pred_scaled)\n"
      ],
      "metadata": {
        "id": "fJj-ZhE-3384"
      },
      "execution_count": 15,
      "outputs": []
    },
    {
      "cell_type": "markdown",
      "source": [
        "**30. Write a Python program to train a Gaussian Naïve Bayes model and compare the predictions before and\n",
        "after Laplace Smoothing**"
      ],
      "metadata": {
        "id": "bftnJG3D4Lsf"
      }
    },
    {
      "cell_type": "code",
      "source": [
        "from sklearn import datasets\n",
        "from sklearn.model_selection import train_test_split\n",
        "from sklearn.naive_bayes import GaussianNB\n",
        "from sklearn.metrics import accuracy_score\n",
        "\n",
        "# Load the Iris dataset\n",
        "iris = datasets.load_iris()\n",
        "X, y = iris.data, iris.target\n",
        "\n",
        "# Split into training and test sets (80-20 split)\n",
        "X_train, X_test, y_train, y_test = train_test_split(X, y, test_size=0.2, random_state=42)\n",
        "\n",
        "# Train Gaussian Naïve Bayes (without explicit Laplace smoothing, as it's not needed in GNB)\n",
        "gnb = GaussianNB()\n",
        "gnb.fit(X_train, y_train)\n",
        "y_pred_no_smoothing = gnb.predict(X_test)\n",
        "\n",
        "# Evaluate accuracy before Laplace Smoothing\n",
        "accuracy_no_smoothing = accuracy_score(y_test, y_pred_no_smoothing)\n",
        "\n",
        "# In GaussianNB, Laplace Smoothing is equivalent to modifying variance (var_smoothing parameter)\n",
        "gnb_smooth = GaussianNB(var_smoothing=1e-2)  # Apply Laplace-like smoothing\n",
        "gnb_smooth.fit(X_train, y_train)\n",
        "y_pred_smoothing = gnb_smooth.predict(X_test)\n",
        "\n",
        "# Evaluate accuracy after Laplace Smoothing\n",
        "accuracy_smoothing = accuracy_score(y_test, y_pred_smoothing)\n",
        "\n",
        "# Print accuracy comparison\n",
        "print(f\"Accuracy without Laplace Smoothing: {accuracy_no_smoothing:.2f}\")\n",
        "print(f\"Accuracy with Laplace Smoothing (var_smoothing=1e-2): {accuracy_smoothing:.2f}\")\n"
      ],
      "metadata": {
        "colab": {
          "base_uri": "https://localhost:8080/"
        },
        "id": "3W7BbcWp4VAI",
        "outputId": "0267f2e2-4f3c-477c-d61b-e3e2891a2fee"
      },
      "execution_count": 16,
      "outputs": [
        {
          "output_type": "stream",
          "name": "stdout",
          "text": [
            "Accuracy without Laplace Smoothing: 1.00\n",
            "Accuracy with Laplace Smoothing (var_smoothing=1e-2): 1.00\n"
          ]
        }
      ]
    },
    {
      "cell_type": "markdown",
      "source": [
        "**31.Write a Python program to train an SVM Classifier and use GridSearchCV to tune the hyperparameters (C,\n",
        "gamma, kernel)**"
      ],
      "metadata": {
        "id": "YEgNCllo4R7_"
      }
    },
    {
      "cell_type": "code",
      "source": [
        "from sklearn import datasets\n",
        "from sklearn.model_selection import train_test_split, GridSearchCV\n",
        "from sklearn.svm import SVC\n",
        "from sklearn.metrics import accuracy_score\n",
        "\n",
        "# Load the Iris dataset\n",
        "iris = datasets.load_iris()\n",
        "X, y = iris.data, iris.target\n",
        "\n",
        "# Split into training and test sets (80-20 split)\n",
        "X_train, X_test, y_train, y_test = train_test_split(X, y, test_size=0.2, random_state=42)\n",
        "\n",
        "# Define the SVM model\n",
        "svm = SVC()\n",
        "\n",
        "# Define hyperparameter grid\n",
        "param_grid = {\n",
        "    'C': [0.1, 1, 10],               # Regularization parameter\n",
        "    'gamma': ['scale', 0.01, 0.1, 1], # Kernel coefficient (for RBF)\n",
        "    'kernel': ['linear', 'rbf', 'poly'] # Kernel type\n",
        "}\n",
        "\n",
        "# Perform Grid Search with 5-fold cross-validation\n",
        "grid_search = GridSearchCV(svm, param_grid, cv=5, scoring='accuracy', n_jobs=-1)\n",
        "grid_search.fit(X_train, y_train)\n",
        "\n",
        "# Best hyperparameters\n",
        "print(\"Best Hyperparameters:\", grid_search.best_params_)\n",
        "\n",
        "# Train best model on full training set\n",
        "best_svm = grid_search.best_estimator_\n",
        "y_pred = best_svm.predict(X_test)\n",
        "\n",
        "# Evaluate accuracy\n",
        "accuracy = accuracy_score(y_test, y_pred)\n",
        "print(f\"Best Model Accuracy: {accuracy:.2f}\")\n"
      ],
      "metadata": {
        "colab": {
          "base_uri": "https://localhost:8080/"
        },
        "id": "lElqADOv4dSg",
        "outputId": "91a6ea92-2181-4e83-9273-90638ff41483"
      },
      "execution_count": 17,
      "outputs": [
        {
          "output_type": "stream",
          "name": "stdout",
          "text": [
            "Best Hyperparameters: {'C': 0.1, 'gamma': 0.1, 'kernel': 'poly'}\n",
            "Best Model Accuracy: 1.00\n"
          ]
        }
      ]
    },
    {
      "cell_type": "markdown",
      "source": [
        "**32.Write a Python program to train an SVM Classifier on an imbalanced dataset and apply class weighting and\n",
        "check it improve accuracy**"
      ],
      "metadata": {
        "id": "MgbX027B4jig"
      }
    },
    {
      "cell_type": "code",
      "source": [
        "from sklearn.datasets import make_classification\n",
        "from sklearn.model_selection import train_test_split\n",
        "from sklearn.svm import SVC\n",
        "from sklearn.metrics import accuracy_score, classification_report\n",
        "\n",
        "# Generate an imbalanced dataset\n",
        "X, y = make_classification(n_samples=1000, n_features=10, n_classes=2,\n",
        "                           weights=[0.9, 0.1], random_state=42)  # 90% class 0, 10% class 1\n",
        "\n",
        "# Split into training and test sets (80-20 split)\n",
        "X_train, X_test, y_train, y_test = train_test_split(X, y, test_size=0.2, random_state=42)\n",
        "\n",
        "# Train SVM without class weighting\n",
        "svm_no_weight = SVC(kernel='rbf', C=1.0, random_state=42)\n",
        "svm_no_weight.fit(X_train, y_train)\n",
        "y_pred_no_weight = svm_no_weight.predict(X_test)\n",
        "\n",
        "# Train SVM with class weighting\n",
        "svm_weighted = SVC(kernel='rbf', C=1.0, class_weight='balanced', random_state=42)\n",
        "svm_weighted.fit(X_train, y_train)\n",
        "y_pred_weighted = svm_weighted.predict(X_test)\n",
        "\n",
        "# Evaluate models\n",
        "accuracy_no_weight = accuracy_score(y_test, y_pred_no_weight)\n",
        "accuracy_weighted = accuracy_score(y_test, y_pred_weighted)\n",
        "\n",
        "print(f\"Accuracy without Class Weighting: {accuracy_no_weight:.2f}\")\n",
        "print(f\"Accuracy with Class Weighting: {accuracy_weighted:.2f}\")\n",
        "\n",
        "# Detailed classification report to check improvements in minority class\n",
        "print(\"\\nClassification Report without Class Weighting:\\n\", classification_report(y_test, y_pred_no_weight))\n",
        "print(\"\\nClassification Report with Class Weighting:\\n\", classification_report(y_test, y_pred_weighted))\n"
      ],
      "metadata": {
        "colab": {
          "base_uri": "https://localhost:8080/"
        },
        "id": "DF5ewnCc4o1h",
        "outputId": "07f77445-d5dc-48bd-9443-9ff3dd8dfc02"
      },
      "execution_count": 18,
      "outputs": [
        {
          "output_type": "stream",
          "name": "stdout",
          "text": [
            "Accuracy without Class Weighting: 0.92\n",
            "Accuracy with Class Weighting: 0.89\n",
            "\n",
            "Classification Report without Class Weighting:\n",
            "               precision    recall  f1-score   support\n",
            "\n",
            "           0       0.92      0.99      0.96       175\n",
            "           1       0.91      0.40      0.56        25\n",
            "\n",
            "    accuracy                           0.92       200\n",
            "   macro avg       0.91      0.70      0.76       200\n",
            "weighted avg       0.92      0.92      0.91       200\n",
            "\n",
            "\n",
            "Classification Report with Class Weighting:\n",
            "               precision    recall  f1-score   support\n",
            "\n",
            "           0       0.96      0.91      0.94       175\n",
            "           1       0.54      0.76      0.63        25\n",
            "\n",
            "    accuracy                           0.89       200\n",
            "   macro avg       0.75      0.83      0.78       200\n",
            "weighted avg       0.91      0.89      0.90       200\n",
            "\n"
          ]
        }
      ]
    },
    {
      "cell_type": "markdown",
      "source": [
        "**33.Write a Python program to implement a Naïve Bayes classifier for spam detection using email data**"
      ],
      "metadata": {
        "id": "Hbq0KWDU4tZQ"
      }
    },
    {
      "cell_type": "code",
      "source": [
        "from sklearn.model_selection import train_test_split\n",
        "from sklearn.feature_extraction.text import CountVectorizer, TfidfTransformer\n",
        "from sklearn.naive_bayes import MultinomialNB\n",
        "from sklearn.pipeline import Pipeline\n",
        "from sklearn.metrics import accuracy_score, classification_report\n",
        "import pandas as pd\n",
        "\n",
        "# Load dataset (SMS Spam Collection dataset)\n",
        "# Dataset format: ['label' (ham/spam), 'message']\n",
        "# Updated URL\n",
        "url = \"https://raw.githubusercontent.com/mohitgupta-omg/Kaggle-SMS-Spam-Collection-Dataset-/master/spam.csv\"\n",
        "df = pd.read_csv(url, encoding='latin-1')\n",
        "\n",
        "# Rename columns for clarity\n",
        "df.columns = [\"label\", \"message\", 'a', 'b', 'c'] # Added new column names\n",
        "\n",
        "# Convert labels to binary (ham=0, spam=1)\n",
        "df['label'] = df['label'].map({'ham': 0, 'spam': 1})\n",
        "\n",
        "# Select relevant columns\n",
        "df = df[['label', 'message']] # Selected only relevant columns\n",
        "\n",
        "# Split data into training and testing sets\n",
        "X_train, X_test, y_train, y_test = train_test_split(df['message'], df['label'], test_size=0.2, random_state=42)\n",
        "\n",
        "# Create a text classification pipeline\n",
        "text_clf = Pipeline([\n",
        "    ('vect', CountVectorizer()),        # Convert text to word counts\n",
        "    ('tfidf', TfidfTransformer()),      # Convert counts to TF-IDF scores\n",
        "    ('clf', MultinomialNB())            # Train Multinomial Naïve Bayes model\n",
        "])\n",
        "\n",
        "# Train the model\n",
        "text_clf.fit(X_train, y_train)\n",
        "\n",
        "# Make predictions\n",
        "y_pred = text_clf.predict(X_test)\n",
        "\n",
        "# Evaluate accuracy\n",
        "accuracy = accuracy_score(y_test, y_pred)\n",
        "print(f\"Accuracy: {accuracy:.2f}\")\n",
        "\n",
        "# Display classification report\n",
        "print(\"\\nClassification Report:\\n\", classification_report(y_test, y_pred))"
      ],
      "metadata": {
        "colab": {
          "base_uri": "https://localhost:8080/"
        },
        "id": "TXqR8jeo40LI",
        "outputId": "0fa33967-60de-4898-c032-7cc922cd8a53"
      },
      "execution_count": 20,
      "outputs": [
        {
          "output_type": "stream",
          "name": "stdout",
          "text": [
            "Accuracy: 0.96\n",
            "\n",
            "Classification Report:\n",
            "               precision    recall  f1-score   support\n",
            "\n",
            "           0       0.96      1.00      0.98       965\n",
            "           1       1.00      0.72      0.84       150\n",
            "\n",
            "    accuracy                           0.96      1115\n",
            "   macro avg       0.98      0.86      0.91      1115\n",
            "weighted avg       0.96      0.96      0.96      1115\n",
            "\n"
          ]
        }
      ]
    },
    {
      "cell_type": "markdown",
      "source": [
        "**34.Write a Python program to train an SVM Classifier and a Naïve Bayes Classifier on the same dataset and\n",
        "compare their accuracy**"
      ],
      "metadata": {
        "id": "_28g7-Rr4_lI"
      }
    },
    {
      "cell_type": "code",
      "source": [
        "from sklearn import datasets\n",
        "from sklearn.model_selection import train_test_split\n",
        "from sklearn.svm import SVC\n",
        "from sklearn.naive_bayes import GaussianNB\n",
        "from sklearn.metrics import accuracy_score\n",
        "\n",
        "# Load the Breast Cancer dataset\n",
        "data = datasets.load_breast_cancer()\n",
        "X, y = data.data, data.target\n",
        "\n",
        "# Split into training and test sets (80-20 split)\n",
        "X_train, X_test, y_train, y_test = train_test_split(X, y, test_size=0.2, random_state=42)\n",
        "\n",
        "# Train SVM Classifier\n",
        "svm_model = SVC(kernel='rbf', C=1.0, gamma='scale', random_state=42)\n",
        "svm_model.fit(X_train, y_train)\n",
        "y_pred_svm = svm_model.predict(X_test)\n",
        "accuracy_svm = accuracy_score(y_test, y_pred_svm)\n",
        "\n",
        "# Train Naïve Bayes Classifier\n",
        "nb_model = GaussianNB()\n",
        "nb_model.fit(X_train, y_train)\n",
        "y_pred_nb = nb_model.predict(X_test)\n",
        "accuracy_nb = accuracy_score(y_test, y_pred_nb)\n",
        "\n",
        "# Print accuracy comparison\n",
        "print(f\"SVM Accuracy: {accuracy_svm:.2f}\")\n",
        "print(f\"Naïve Bayes Accuracy: {accuracy_nb:.2f}\")\n",
        "\n",
        "# Compare which model performs better\n",
        "if accuracy_svm > accuracy_nb:\n",
        "    print(\"SVM performs better!\")\n",
        "elif accuracy_nb > accuracy_svm:\n",
        "    print(\"Naïve Bayes performs better!\")\n",
        "else:\n",
        "    print(\"Both models perform equally!\")\n"
      ],
      "metadata": {
        "colab": {
          "base_uri": "https://localhost:8080/"
        },
        "id": "YetISie65EH_",
        "outputId": "ce8720bb-1023-4cc3-9389-943f29a6c860"
      },
      "execution_count": 21,
      "outputs": [
        {
          "output_type": "stream",
          "name": "stdout",
          "text": [
            "SVM Accuracy: 0.95\n",
            "Naïve Bayes Accuracy: 0.97\n",
            "Naïve Bayes performs better!\n"
          ]
        }
      ]
    },
    {
      "cell_type": "markdown",
      "source": [
        "**35.Write a Python program to perform feature selection before training a Naïve Bayes classifier and compare\n",
        "results**"
      ],
      "metadata": {
        "id": "uSrvuR6t5M3w"
      }
    },
    {
      "cell_type": "code",
      "source": [
        "from sklearn import datasets\n",
        "from sklearn.model_selection import train_test_split\n",
        "from sklearn.naive_bayes import GaussianNB\n",
        "from sklearn.feature_selection import SelectKBest, chi2\n",
        "from sklearn.metrics import accuracy_score\n",
        "\n",
        "# Load the Breast Cancer dataset\n",
        "data = datasets.load_breast_cancer()\n",
        "X, y = data.data, data.target\n",
        "\n",
        "# Split into training and test sets (80-20 split)\n",
        "X_train, X_test, y_train, y_test = train_test_split(X, y, test_size=0.2, random_state=42)\n",
        "\n",
        "# Train Naïve Bayes without feature selection\n",
        "nb_model = GaussianNB()\n",
        "nb_model.fit(X_train, y_train)\n",
        "y_pred_no_fs = nb_model.predict(X_test)\n",
        "accuracy_no_fs = accuracy_score(y_test, y_pred_no_fs)\n",
        "\n",
        "# Perform Feature Selection (Select Top 10 Best Features)\n",
        "selector = SelectKBest(score_func=chi2, k=10)\n",
        "X_train_selected = selector.fit_transform(X_train, y_train)\n",
        "X_test_selected = selector.transform(X_test)\n",
        "\n",
        "# Train Naïve Bayes with selected features\n",
        "nb_model_fs = GaussianNB()\n",
        "nb_model_fs.fit(X_train_selected, y_train)\n",
        "y_pred_fs = nb_model_fs.predict(X_test_selected)\n",
        "accuracy_fs = accuracy_score(y_test, y_pred_fs)\n",
        "\n",
        "# Print accuracy comparison\n",
        "print(f\"Accuracy without Feature Selection: {accuracy_no_fs:.2f}\")\n",
        "print(f\"Accuracy with Feature Selection (Top 10 Features): {accuracy_fs:.2f}\")\n",
        "\n",
        "# Compare which approach performs better\n",
        "if accuracy_fs > accuracy_no_fs:\n",
        "    print(\"Feature selection improved performance!\")\n",
        "elif accuracy_no_fs > accuracy_fs:\n",
        "    print(\"Feature selection reduced performance!\")\n",
        "else:\n",
        "    print(\"Feature selection had no significant impact!\")\n"
      ],
      "metadata": {
        "colab": {
          "base_uri": "https://localhost:8080/"
        },
        "id": "P-8OXUyb5Y5Q",
        "outputId": "927fca13-52c1-417b-b46c-a97fe11ec7db"
      },
      "execution_count": 22,
      "outputs": [
        {
          "output_type": "stream",
          "name": "stdout",
          "text": [
            "Accuracy without Feature Selection: 0.97\n",
            "Accuracy with Feature Selection (Top 10 Features): 0.96\n",
            "Feature selection reduced performance!\n"
          ]
        }
      ]
    },
    {
      "cell_type": "markdown",
      "source": [
        "**36.Write a Python program to train an SVM Classifier using One-vs-Rest (OvR) and One-vs-One (OvO)\n",
        "strategies on the Wine dataset and compare their accuracy**"
      ],
      "metadata": {
        "id": "9TtSh2955d3X"
      }
    },
    {
      "cell_type": "code",
      "source": [
        "from sklearn import datasets\n",
        "from sklearn.model_selection import train_test_split\n",
        "from sklearn.svm import SVC\n",
        "from sklearn.multiclass import OneVsRestClassifier, OneVsOneClassifier\n",
        "from sklearn.metrics import accuracy_score\n",
        "\n",
        "# Load the Wine dataset\n",
        "wine = datasets.load_wine()\n",
        "X, y = wine.data, wine.target\n",
        "\n",
        "# Split into training and test sets (80-20 split)\n",
        "X_train, X_test, y_train, y_test = train_test_split(X, y, test_size=0.2, random_state=42)\n",
        "\n",
        "# Train SVM with One-vs-Rest (OvR) strategy\n",
        "svm_ovr = OneVsRestClassifier(SVC(kernel='linear', C=1.0, random_state=42))\n",
        "svm_ovr.fit(X_train, y_train)\n",
        "y_pred_ovr = svm_ovr.predict(X_test)\n",
        "accuracy_ovr = accuracy_score(y_test, y_pred_ovr)\n",
        "\n",
        "# Train SVM with One-vs-One (OvO) strategy\n",
        "svm_ovo = OneVsOneClassifier(SVC(kernel='linear', C=1.0, random_state=42))\n",
        "svm_ovo.fit(X_train, y_train)\n",
        "y_pred_ovo = svm_ovo.predict(X_test)\n",
        "accuracy_ovo = accuracy_score(y_test, y_pred_ovo)\n",
        "\n",
        "# Print accuracy comparison\n",
        "print(f\"Accuracy using One-vs-Rest (OvR): {accuracy_ovr:.2f}\")\n",
        "print(f\"Accuracy using One-vs-One (OvO): {accuracy_ovo:.2f}\")\n",
        "\n",
        "# Compare which approach performs better\n",
        "if accuracy_ovo > accuracy_ovr:\n",
        "    print(\"One-vs-One (OvO) performs better!\")\n",
        "elif accuracy_ovr > accuracy_ovo:\n",
        "    print(\"One-vs-Rest (OvR) performs better!\")\n",
        "else:\n",
        "    print(\"Both strategies perform equally well!\")\n"
      ],
      "metadata": {
        "colab": {
          "base_uri": "https://localhost:8080/"
        },
        "id": "Ivyengmi5iE_",
        "outputId": "574e13d9-0b07-4c13-920c-4f97433275fd"
      },
      "execution_count": 23,
      "outputs": [
        {
          "output_type": "stream",
          "name": "stdout",
          "text": [
            "Accuracy using One-vs-Rest (OvR): 1.00\n",
            "Accuracy using One-vs-One (OvO): 1.00\n",
            "Both strategies perform equally well!\n"
          ]
        }
      ]
    },
    {
      "cell_type": "markdown",
      "source": [
        "**37.Write a Python program to train an SVM Classifier using Linear, Polynomial, and RBF kernels on the Breast\n",
        "Cancer dataset and compare their accuracy**"
      ],
      "metadata": {
        "id": "klfGQj8z5mS3"
      }
    },
    {
      "cell_type": "code",
      "source": [
        "from sklearn import datasets\n",
        "from sklearn.model_selection import train_test_split\n",
        "from sklearn.svm import SVC\n",
        "from sklearn.preprocessing import StandardScaler\n",
        "from sklearn.metrics import accuracy_score\n",
        "\n",
        "# Load the Breast Cancer dataset\n",
        "cancer = datasets.load_breast_cancer()\n",
        "X, y = cancer.data, cancer.target\n",
        "\n",
        "# Split into training and test sets (80-20 split)\n",
        "X_train, X_test, y_train, y_test = train_test_split(X, y, test_size=0.2, random_state=42)\n",
        "\n",
        "# Apply feature scaling (important for SVM)\n",
        "scaler = StandardScaler()\n",
        "X_train = scaler.fit_transform(X_train)\n",
        "X_test = scaler.transform(X_test)\n",
        "\n",
        "# Define SVM models with different kernels\n",
        "kernels = ['linear', 'poly', 'rbf']\n",
        "models = {}\n",
        "accuracies = {}\n",
        "\n",
        "for kernel in kernels:\n",
        "    svm = SVC(kernel=kernel, C=1.0, degree=3, gamma='scale', random_state=42)\n",
        "    svm.fit(X_train, y_train)\n",
        "    y_pred = svm.predict(X_test)\n",
        "    accuracy = accuracy_score(y_test, y_pred)\n",
        "\n",
        "    models[kernel] = svm\n",
        "    accuracies[kernel] = accuracy\n",
        "    print(f\"Accuracy with {kernel} kernel: {accuracy:.2f}\")\n",
        "\n",
        "# Compare the best-performing kernel\n",
        "best_kernel = max(accuracies, key=accuracies.get)\n",
        "print(f\"\\nBest performing kernel: {best_kernel} with accuracy {accuracies[best_kernel]:.2f}\")\n"
      ],
      "metadata": {
        "colab": {
          "base_uri": "https://localhost:8080/"
        },
        "id": "bw2-RjoB50VH",
        "outputId": "02ab4753-b6cf-44fd-8bab-865667ffb384"
      },
      "execution_count": 24,
      "outputs": [
        {
          "output_type": "stream",
          "name": "stdout",
          "text": [
            "Accuracy with linear kernel: 0.96\n",
            "Accuracy with poly kernel: 0.87\n",
            "Accuracy with rbf kernel: 0.98\n",
            "\n",
            "Best performing kernel: rbf with accuracy 0.98\n"
          ]
        }
      ]
    },
    {
      "cell_type": "markdown",
      "source": [
        "**38.Write a Python program to train an SVM Classifier using Stratified K-Fold Cross-Validation and compute the\n",
        "average accuracy**"
      ],
      "metadata": {
        "id": "SH8eosOa54cA"
      }
    },
    {
      "cell_type": "code",
      "source": [
        "from sklearn import datasets\n",
        "from sklearn.model_selection import StratifiedKFold, cross_val_score\n",
        "from sklearn.svm import SVC\n",
        "from sklearn.preprocessing import StandardScaler\n",
        "import numpy as np\n",
        "\n",
        "# Load the Breast Cancer dataset\n",
        "cancer = datasets.load_breast_cancer()\n",
        "X, y = cancer.data, cancer.target\n",
        "\n",
        "# Apply feature scaling (important for SVM)\n",
        "scaler = StandardScaler()\n",
        "X = scaler.fit_transform(X)\n",
        "\n",
        "# Define the SVM model\n",
        "svm = SVC(kernel='linear', C=1.0, random_state=42)\n",
        "\n",
        "# Stratified K-Fold Cross-Validation (5 folds)\n",
        "skf = StratifiedKFold(n_splits=5, shuffle=True, random_state=42)\n",
        "scores = cross_val_score(svm, X, y, cv=skf, scoring='accuracy')\n",
        "\n",
        "# Compute average accuracy\n",
        "average_accuracy = np.mean(scores)\n",
        "\n",
        "# Print results\n",
        "print(f\"Accuracy for each fold: {scores}\")\n",
        "print(f\"Average Accuracy: {average_accuracy:.2f}\")\n"
      ],
      "metadata": {
        "colab": {
          "base_uri": "https://localhost:8080/"
        },
        "id": "fuEp-jdL58XA",
        "outputId": "a9018666-0590-4986-c439-25ae47a2f48d"
      },
      "execution_count": 25,
      "outputs": [
        {
          "output_type": "stream",
          "name": "stdout",
          "text": [
            "Accuracy for each fold: [0.99122807 0.94736842 0.95614035 0.99122807 0.99115044]\n",
            "Average Accuracy: 0.98\n"
          ]
        }
      ]
    },
    {
      "cell_type": "markdown",
      "source": [
        "**39. Write a Python program to train a Naïve Bayes classifier using different prior probabilities and compare\n",
        "performance**"
      ],
      "metadata": {
        "id": "PEJoaAfq6D3Q"
      }
    },
    {
      "cell_type": "code",
      "source": [
        "from sklearn import datasets\n",
        "from sklearn.model_selection import train_test_split\n",
        "from sklearn.naive_bayes import GaussianNB\n",
        "from sklearn.metrics import accuracy_score\n",
        "\n",
        "# Load the Breast Cancer dataset\n",
        "cancer = datasets.load_breast_cancer()\n",
        "X, y = cancer.data, cancer.target\n",
        "\n",
        "# Split into training and test sets (80-20 split)\n",
        "X_train, X_test, y_train, y_test = train_test_split(X, y, test_size=0.2, random_state=42)\n",
        "\n",
        "# Train Naïve Bayes with default priors (uniform distribution)\n",
        "nb_default = GaussianNB()\n",
        "nb_default.fit(X_train, y_train)\n",
        "y_pred_default = nb_default.predict(X_test)\n",
        "accuracy_default = accuracy_score(y_test, y_pred_default)\n",
        "\n",
        "# Train Naïve Bayes with custom prior probabilities\n",
        "custom_priors = [0.3, 0.7]  # Adjusting class probabilities (Example: Class 0 = 30%, Class 1 = 70%)\n",
        "nb_custom = GaussianNB(priors=custom_priors)\n",
        "nb_custom.fit(X_train, y_train)\n",
        "y_pred_custom = nb_custom.predict(X_test)\n",
        "accuracy_custom = accuracy_score(y_test, y_pred_custom)\n",
        "\n",
        "# Print accuracy comparison\n",
        "print(f\"Accuracy with Default Priors: {accuracy_default:.2f}\")\n",
        "print(f\"Accuracy with Custom Priors {custom_priors}: {accuracy_custom:.2f}\")\n",
        "\n",
        "# Compare which model performs better\n",
        "if accuracy_custom > accuracy_default:\n",
        "    print(\"Custom priors improved accuracy!\")\n",
        "elif accuracy_default > accuracy_custom:\n",
        "    print(\"Default priors performed better!\")\n",
        "else:\n",
        "    print(\"Both models performed equally!\")\n"
      ],
      "metadata": {
        "colab": {
          "base_uri": "https://localhost:8080/"
        },
        "id": "pkNGL46L6MDx",
        "outputId": "36079064-3838-4035-9bf0-9221afcebe33"
      },
      "execution_count": 26,
      "outputs": [
        {
          "output_type": "stream",
          "name": "stdout",
          "text": [
            "Accuracy with Default Priors: 0.97\n",
            "Accuracy with Custom Priors [0.3, 0.7]: 0.96\n",
            "Default priors performed better!\n"
          ]
        }
      ]
    },
    {
      "cell_type": "markdown",
      "source": [
        "**40.Write a Python program to perform Recursive Feature Elimination (RFE) before training an SVM Classifier and\n",
        "compare accuracy**"
      ],
      "metadata": {
        "id": "dANq9eJ26Qco"
      }
    },
    {
      "cell_type": "code",
      "source": [
        "from sklearn import datasets\n",
        "from sklearn.model_selection import train_test_split\n",
        "from sklearn.svm import SVC\n",
        "from sklearn.feature_selection import RFE\n",
        "from sklearn.preprocessing import StandardScaler\n",
        "from sklearn.metrics import accuracy_score\n",
        "\n",
        "# Load the Breast Cancer dataset\n",
        "cancer = datasets.load_breast_cancer()\n",
        "X, y = cancer.data, cancer.target\n",
        "\n",
        "# Split into training and test sets (80-20 split)\n",
        "X_train, X_test, y_train, y_test = train_test_split(X, y, test_size=0.2, random_state=42)\n",
        "\n",
        "# Apply feature scaling (important for SVM)\n",
        "scaler = StandardScaler()\n",
        "X_train = scaler.fit_transform(X_train)\n",
        "X_test = scaler.transform(X_test)\n",
        "\n",
        "# Train SVM without feature selection\n",
        "svm = SVC(kernel='linear', C=1.0, random_state=42)\n",
        "svm.fit(X_train, y_train)\n",
        "y_pred_no_rfe = svm.predict(X_test)\n",
        "accuracy_no_rfe = accuracy_score(y_test, y_pred_no_rfe)\n",
        "\n",
        "# Perform Recursive Feature Elimination (RFE) with SVM\n",
        "rfe = RFE(estimator=SVC(kernel=\"linear\", C=1.0, random_state=42), n_features_to_select=10)\n",
        "X_train_rfe = rfe.fit_transform(X_train, y_train)\n",
        "X_test_rfe = rfe.transform(X_test)\n",
        "\n",
        "# Train SVM after RFE\n",
        "svm_rfe = SVC(kernel='linear', C=1.0, random_state=42)\n",
        "svm_rfe.fit(X_train_rfe, y_train)\n",
        "y_pred_rfe = svm_rfe.predict(X_test_rfe)\n",
        "accuracy_rfe = accuracy_score(y_test, y_pred_rfe)\n",
        "\n",
        "# Print accuracy comparison\n",
        "print(f\"Accuracy without Feature Selection: {accuracy_no_rfe:.2f}\")\n",
        "print(f\"Accuracy with RFE (Top 10 Features): {accuracy_rfe:.2f}\")\n",
        "\n",
        "# Compare which approach performs better\n",
        "if accuracy_rfe > accuracy_no_rfe:\n",
        "    print(\"RFE improved accuracy!\")\n",
        "elif accuracy_no_rfe > accuracy_rfe:\n",
        "    print(\"Feature selection reduced accuracy!\")\n",
        "else:\n",
        "    print(\"Both models performed equally!\")\n"
      ],
      "metadata": {
        "colab": {
          "base_uri": "https://localhost:8080/"
        },
        "id": "0JyhQLtx6P8f",
        "outputId": "3a3e0733-8108-48c0-d5eb-a80bea6caab9"
      },
      "execution_count": 27,
      "outputs": [
        {
          "output_type": "stream",
          "name": "stdout",
          "text": [
            "Accuracy without Feature Selection: 0.96\n",
            "Accuracy with RFE (Top 10 Features): 0.97\n",
            "RFE improved accuracy!\n"
          ]
        }
      ]
    },
    {
      "cell_type": "markdown",
      "source": [
        "**41.Write a Python program to train an SVM Classifier and evaluate its performance using Precision, Recall, and\n",
        "F1-Score instead of accuracy**"
      ],
      "metadata": {
        "id": "VoUFyQ4G6aWw"
      }
    },
    {
      "cell_type": "code",
      "source": [
        "from sklearn import datasets\n",
        "from sklearn.model_selection import train_test_split\n",
        "from sklearn.svm import SVC\n",
        "from sklearn.preprocessing import StandardScaler\n",
        "from sklearn.metrics import precision_score, recall_score, f1_score, classification_report\n",
        "\n",
        "# Load the Breast Cancer dataset\n",
        "cancer = datasets.load_breast_cancer()\n",
        "X, y = cancer.data, cancer.target\n",
        "\n",
        "# Split into training and test sets (80-20 split)\n",
        "X_train, X_test, y_train, y_test = train_test_split(X, y, test_size=0.2, random_state=42)\n",
        "\n",
        "# Apply feature scaling (important for SVM)\n",
        "scaler = StandardScaler()\n",
        "X_train = scaler.fit_transform(X_train)\n",
        "X_test = scaler.transform(X_test)\n",
        "\n",
        "# Train an SVM Classifier\n",
        "svm = SVC(kernel='linear', C=1.0, random_state=42)\n",
        "svm.fit(X_train, y_train)\n",
        "\n",
        "# Make predictions\n",
        "y_pred = svm.predict(X_test)\n",
        "\n",
        "# Evaluate performance using Precision, Recall, and F1-Score\n",
        "precision = precision_score(y_test, y_pred)\n",
        "recall = recall_score(y_test, y_pred)\n",
        "f1 = f1_score(y_test, y_pred)\n",
        "\n",
        "# Print the evaluation metrics\n",
        "print(f\"Precision: {precision:.2f}\")\n",
        "print(f\"Recall: {recall:.2f}\")\n",
        "print(f\"F1-Score: {f1:.2f}\")\n",
        "\n",
        "# Detailed classification report\n",
        "print(\"\\nClassification Report:\\n\", classification_report(y_test, y_pred))\n"
      ],
      "metadata": {
        "colab": {
          "base_uri": "https://localhost:8080/"
        },
        "id": "04IYyPUz6gLo",
        "outputId": "f36fed91-160b-4b5c-abe2-16ca1a6e8e42"
      },
      "execution_count": 28,
      "outputs": [
        {
          "output_type": "stream",
          "name": "stdout",
          "text": [
            "Precision: 0.97\n",
            "Recall: 0.96\n",
            "F1-Score: 0.96\n",
            "\n",
            "Classification Report:\n",
            "               precision    recall  f1-score   support\n",
            "\n",
            "           0       0.93      0.95      0.94        43\n",
            "           1       0.97      0.96      0.96        71\n",
            "\n",
            "    accuracy                           0.96       114\n",
            "   macro avg       0.95      0.96      0.95       114\n",
            "weighted avg       0.96      0.96      0.96       114\n",
            "\n"
          ]
        }
      ]
    },
    {
      "cell_type": "markdown",
      "source": [
        "**42.Write a Python program to train a Naïve Bayes Classifier and evaluate its performance using Log Loss\n",
        "(Cross-Entropy Loss)**"
      ],
      "metadata": {
        "id": "9G7Wtg7l6nS4"
      }
    },
    {
      "cell_type": "code",
      "source": [
        "from sklearn import datasets\n",
        "from sklearn.model_selection import train_test_split\n",
        "from sklearn.naive_bayes import GaussianNB\n",
        "from sklearn.metrics import log_loss\n",
        "\n",
        "# Load the Breast Cancer dataset\n",
        "cancer = datasets.load_breast_cancer()\n",
        "X, y = cancer.data, cancer.target\n",
        "\n",
        "# Split into training and test sets (80-20 split)\n",
        "X_train, X_test, y_train, y_test = train_test_split(X, y, test_size=0.2, random_state=42)\n",
        "\n",
        "# Train a Gaussian Naïve Bayes Classifier\n",
        "nb = GaussianNB()\n",
        "nb.fit(X_train, y_train)\n",
        "\n",
        "# Predict probabilities\n",
        "y_prob = nb.predict_proba(X_test)\n",
        "\n",
        "# Compute Log Loss (Cross-Entropy Loss)\n",
        "loss = log_loss(y_test, y_prob)\n",
        "\n",
        "# Print Log Loss\n",
        "print(f\"Log Loss (Cross-Entropy Loss): {loss:.4f}\")\n"
      ],
      "metadata": {
        "colab": {
          "base_uri": "https://localhost:8080/"
        },
        "id": "ExK7vEG36m5X",
        "outputId": "3e40f19e-5c8f-4771-9f3a-a4bb6c4c62b1"
      },
      "execution_count": 29,
      "outputs": [
        {
          "output_type": "stream",
          "name": "stdout",
          "text": [
            "Log Loss (Cross-Entropy Loss): 0.2037\n"
          ]
        }
      ]
    },
    {
      "cell_type": "markdown",
      "source": [
        "**43. Write a Python program to train an SVM Classifier and visualize the Confusion Matrix using seaborn**"
      ],
      "metadata": {
        "id": "j06ijmIl6vrg"
      }
    },
    {
      "cell_type": "code",
      "source": [
        "import numpy as np\n",
        "import seaborn as sns\n",
        "import matplotlib.pyplot as plt\n",
        "from sklearn import datasets\n",
        "from sklearn.model_selection import train_test_split\n",
        "from sklearn.svm import SVC\n",
        "from sklearn.preprocessing import StandardScaler\n",
        "from sklearn.metrics import confusion_matrix, classification_report\n",
        "\n",
        "# Load the Breast Cancer dataset\n",
        "cancer = datasets.load_breast_cancer()\n",
        "X, y = cancer.data, cancer.target\n",
        "\n",
        "# Split into training and test sets (80-20 split)\n",
        "X_train, X_test, y_train, y_test = train_test_split(X, y, test_size=0.2, random_state=42)\n",
        "\n",
        "# Apply feature scaling (important for SVM)\n",
        "scaler = StandardScaler()\n",
        "X_train = scaler.fit_transform(X_train)\n",
        "X_test = scaler.transform(X_test)\n",
        "\n",
        "# Train an SVM Classifier\n",
        "svm = SVC(kernel='linear', C=1.0, random_state=42)\n",
        "svm.fit(X_train, y_train)\n",
        "\n",
        "# Make predictions\n",
        "y_pred = svm.predict(X_test)\n",
        "\n",
        "# Compute Confusion Matrix\n",
        "cm = confusion_matrix(y_test, y_pred)\n",
        "\n",
        "# Visualize Confusion Matrix using Seaborn\n",
        "plt.figure(figsize=(6,5))\n",
        "sns.heatmap(cm, annot=True, fmt=\"d\", cmap=\"Blues\", xticklabels=['Benign', 'Malignant'], yticklabels=['Benign', 'Malignant'])\n",
        "plt.xlabel(\"Predicted\")\n",
        "plt.ylabel(\"Actual\")\n",
        "plt.title(\"Confusion Matrix - SVM Classifier\")\n",
        "plt.show()\n",
        "\n",
        "# Print Classification Report\n",
        "print(\"\\nClassification Report:\\n\", classification_report(y_test, y_pred))\n"
      ],
      "metadata": {
        "colab": {
          "base_uri": "https://localhost:8080/",
          "height": 678
        },
        "id": "L6nFwSRs61Iv",
        "outputId": "92e7afc0-7697-4413-fafa-37583d850bb4"
      },
      "execution_count": 30,
      "outputs": [
        {
          "output_type": "display_data",
          "data": {
            "text/plain": [
              "<Figure size 600x500 with 2 Axes>"
            ],
            "image/png": "[encoded data removed]"
          },
          "metadata": {}
        },
        {
          "output_type": "stream",
          "name": "stdout",
          "text": [
            "\n",
            "Classification Report:\n",
            "               precision    recall  f1-score   support\n",
            "\n",
            "           0       0.93      0.95      0.94        43\n",
            "           1       0.97      0.96      0.96        71\n",
            "\n",
            "    accuracy                           0.96       114\n",
            "   macro avg       0.95      0.96      0.95       114\n",
            "weighted avg       0.96      0.96      0.96       114\n",
            "\n"
          ]
        }
      ]
    },
    {
      "cell_type": "markdown",
      "source": [
        "**44.Write a Python program to train an SVM Regressor (SVR) and evaluate its performance using Mean Absolute\n",
        "Error (MAE) instead of MSE**"
      ],
      "metadata": {
        "id": "LpsZVjmv66gB"
      }
    },
    {
      "cell_type": "code",
      "source": [
        "from sklearn import datasets\n",
        "from sklearn.model_selection import train_test_split\n",
        "from sklearn.svm import SVR\n",
        "from sklearn.preprocessing import StandardScaler\n",
        "from sklearn.metrics import mean_absolute_error\n",
        "\n",
        "# Load the California Housing dataset (better alternative to Boston Housing)\n",
        "housing = datasets.fetch_california_housing()\n",
        "X, y = housing.data, housing.target\n",
        "\n",
        "# Split into training and test sets (80-20 split)\n",
        "X_train, X_test, y_train, y_test = train_test_split(X, y, test_size=0.2, random_state=42)\n",
        "\n",
        "# Apply feature scaling (important for SVR)\n",
        "scaler = StandardScaler()\n",
        "X_train = scaler.fit_transform(X_train)\n",
        "X_test = scaler.transform(X_test)\n",
        "\n",
        "# Train an SVR model with RBF kernel\n",
        "svr = SVR(kernel='rbf', C=100, gamma='scale')\n",
        "svr.fit(X_train, y_train)\n",
        "\n",
        "# Make predictions\n",
        "y_pred = svr.predict(X_test)\n",
        "\n",
        "# Evaluate using Mean Absolute Error (MAE)\n",
        "mae = mean_absolute_error(y_test, y_pred)\n",
        "print(f\"Mean Absolute Error (MAE): {mae:.2f}\")\n",
        "\n"
      ],
      "metadata": {
        "id": "hwGIzHhm6-5A"
      },
      "execution_count": null,
      "outputs": []
    },
    {
      "cell_type": "markdown",
      "source": [
        "**45.Write a Python program to train a Naïve Bayes classifier and evaluate its performance using the ROC-AUC\n",
        "score**"
      ],
      "metadata": {
        "id": "LkI8ubxd7GIi"
      }
    },
    {
      "cell_type": "code",
      "source": [
        "from sklearn import datasets\n",
        "from sklearn.model_selection import train_test_split\n",
        "from sklearn.naive_bayes import GaussianNB\n",
        "from sklearn.metrics import roc_auc_score, roc_curve, auc\n",
        "import matplotlib.pyplot as plt\n",
        "\n",
        "# Load the Breast Cancer dataset\n",
        "cancer = datasets.load_breast_cancer()\n",
        "X, y = cancer.data, cancer.target\n",
        "\n",
        "# Split into training and test sets (80-20 split)\n",
        "X_train, X_test, y_train, y_test = train_test_split(X, y, test_size=0.2, random_state=42)\n",
        "\n",
        "# Train a Gaussian Naïve Bayes Classifier\n",
        "nb = GaussianNB()\n",
        "nb.fit(X_train, y_train)\n",
        "\n",
        "# Predict probabilities for the positive class\n",
        "y_prob = nb.predict_proba(X_test)[:, 1]\n",
        "\n",
        "# Compute ROC-AUC score\n",
        "roc_auc = roc_auc_score(y_test, y_prob)\n",
        "print(f\"ROC-AUC Score: {roc_auc:.2f}\")\n",
        "\n",
        "# Compute ROC Curve\n",
        "fpr, tpr, _ = roc_curve(y_test, y_prob)\n",
        "roc_auc = auc(fpr, tpr)\n",
        "\n",
        "# Plot ROC Curve\n",
        "plt.figure(figsize=(6,5))\n",
        "plt.plot(fpr, tpr, color='blue', label=f'ROC Curve (AUC = {roc_auc:.2f})')\n",
        "plt.plot([0, 1], [0, 1], color='gray', linestyle='--')  # Diagonal reference line\n",
        "plt.xlabel(\"False Positive Rate (FPR)\")\n",
        "plt.ylabel(\"True Positive Rate (TPR)\")\n",
        "plt.title(\"ROC Curve - Naïve Bayes Classifier\")\n",
        "plt.legend()\n",
        "plt.show()\n"
      ],
      "metadata": {
        "id": "HZr9NAEU7LjI"
      },
      "execution_count": null,
      "outputs": []
    },
    {
      "cell_type": "markdown",
      "source": [
        "**46.= Write a Python program to train an SVM Classifier and visualize the Precision-Recall Curve.**"
      ],
      "metadata": {
        "id": "LJBqDpXx7ROp"
      }
    },
    {
      "cell_type": "code",
      "source": [
        "import numpy as np\n",
        "import matplotlib.pyplot as plt\n",
        "from sklearn import datasets\n",
        "from sklearn.model_selection import train_test_split\n",
        "from sklearn.svm import SVC\n",
        "from sklearn.preprocessing import StandardScaler\n",
        "from sklearn.metrics import precision_recall_curve, auc\n",
        "\n",
        "# Load the Breast Cancer dataset\n",
        "cancer = datasets.load_breast_cancer()\n",
        "X, y = cancer.data, cancer.target\n",
        "\n",
        "# Split into training and test sets (80-20 split)\n",
        "X_train, X_test, y_train, y_test = train_test_split(X, y, test_size=0.2, random_state=42)\n",
        "\n",
        "# Apply feature scaling (important for SVM)\n",
        "scaler = StandardScaler()\n",
        "X_train = scaler.fit_transform(X_train)\n",
        "X_test = scaler.transform(X_test)\n",
        "\n",
        "# Train an SVM Classifier\n",
        "svm = SVC(kernel='linear', C=1.0, probability=True, random_state=42)  # Enable probability estimates\n",
        "svm.fit(X_train, y_train)\n",
        "\n",
        "# Predict probabilities for the positive class\n",
        "y_prob = svm.predict_proba(X_test)[:, 1]\n",
        "\n",
        "# Compute Precision-Recall values\n",
        "precision, recall, _ = precision_recall_curve(y_test, y_prob)\n",
        "\n",
        "# Compute Area Under the Precision-Recall Curve (AUC-PR)\n",
        "pr_auc = auc(recall, precision)\n",
        "\n",
        "# Plot Precision-Recall Curve\n",
        "plt.figure(figsize=(6,5))\n",
        "plt.plot(recall, precision, color='blue', label=f'PR Curve (AUC = {pr_auc:.2f})')\n",
        "plt.xlabel(\"Recall\")\n",
        "plt.ylabel(\"Precision\")\n",
        "plt.title(\"Precision-Recall Curve - SVM Classifier\")\n",
        "plt.legend()\n",
        "plt.grid()\n",
        "plt.show()\n"
      ],
      "metadata": {
        "id": "pW_NPQEm7W5f"
      },
      "execution_count": null,
      "outputs": []
    }
  ]
}